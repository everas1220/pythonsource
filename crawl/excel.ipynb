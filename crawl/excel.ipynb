{
 "cells": [
  {
   "cell_type": "markdown",
   "id": "83b9646d",
   "metadata": {},
   "source": [
    "### Excel\n",
    "- pip install openpyxl\n",
    "- 파이썬에서 엑셀 프로그램 처리"
   ]
  },
  {
   "cell_type": "code",
   "execution_count": 1,
   "id": "4c28a709",
   "metadata": {},
   "outputs": [],
   "source": [
    "from openpyxl import Workbook, load_workbook"
   ]
  },
  {
   "cell_type": "code",
   "execution_count": null,
   "id": "983324a5",
   "metadata": {},
   "outputs": [],
   "source": [
    "# 엑셀파일 생성\n",
    "\n",
    "wb = Workbook()\n",
    "# 첫번째 sheet 가져오기\n",
    "ws = wb.active\n",
    "# 시트명 변경\n",
    "ws.title = \"test\"\n",
    "\n",
    "# 엑셀파일 저장\n",
    "wb.save(\"./data/sample1.xlsx\")\n",
    "wb.close()"
   ]
  },
  {
   "cell_type": "code",
   "execution_count": 5,
   "id": "1ba0ea3b",
   "metadata": {},
   "outputs": [],
   "source": [
    "# 엑셀파일 생성\n",
    "\n",
    "wb = Workbook()\n",
    "# 첫번째 sheet 가져오기\n",
    "ws = wb.active\n",
    "# 시트명 변경\n",
    "ws.title = \"test\"\n",
    "\n",
    "# 두번째 sheet 생성\n",
    "ws2 = wb.create_sheet()\n",
    "ws2.title = \"MySheet\"\n",
    "ws2.sheet_properties.tabColor=\"ff66ff\"\n",
    "\n",
    "# 시트 복사\n",
    "new_ws = wb.copy_worksheet(ws)\n",
    "new_ws.title = \"Copied Sheet\"\n",
    "\n",
    "# 엑셀파일 저장\n",
    "wb.save(\"./data/sample1.xlsx\")\n",
    "wb.close()"
   ]
  },
  {
   "cell_type": "code",
   "execution_count": 6,
   "id": "0babe3ef",
   "metadata": {},
   "outputs": [],
   "source": [
    "wb = Workbook()\n",
    "# 첫번째 sheet 가져오기\n",
    "ws = wb.active\n",
    "# 시트명 변경\n",
    "ws.title = \"test\"\n",
    "\n",
    "# 셀 접근\n",
    "ws[\"A1\"] = 1\n",
    "ws[\"A2\"] = 2\n",
    "ws[\"A3\"] = 3\n",
    "\n",
    "ws[\"B1\"] = 4\n",
    "ws[\"B2\"] = 5\n",
    "ws[\"B3\"] = 6\n",
    "\n",
    "\n",
    "# 엑셀파일 저장\n",
    "wb.save(\"./data/sample1.xlsx\")\n",
    "wb.close()"
   ]
  },
  {
   "cell_type": "code",
   "execution_count": null,
   "id": "30d417e5",
   "metadata": {},
   "outputs": [],
   "source": [
    "from random import randint\n",
    "\n",
    "wb = Workbook()\n",
    "# 첫번째 sheet 가져오기\n",
    "ws = wb.active\n",
    "# 시트명 변경\n",
    "ws.title = \"test\"\n",
    "\n",
    "for i in range(1, 11):\n",
    "    for j in range(1, 11):\n",
    "        ws.cell(row=i, column=j, value=randint(0, 100))\n",
    "\n",
    "# 엑셀파일 저장\n",
    "wb.save(\"./data/sample2.xlsx\")\n",
    "wb.close()"
   ]
  },
  {
   "cell_type": "code",
   "execution_count": 8,
   "id": "94414faf",
   "metadata": {},
   "outputs": [
    {
     "name": "stdout",
     "output_type": "stream",
     "text": [
      "74 38 15 3 26 13 30 76 36 26 \n",
      "70 26 30 95 62 2 41 99 43 68 \n",
      "75 42 24 30 54 36 27 16 90 18 \n",
      "17 43 49 42 26 41 98 4 64 33 \n",
      "47 98 36 87 82 97 75 1 1 78 \n",
      "11 19 63 77 50 40 23 86 96 14 \n",
      "58 47 52 26 10 22 60 81 59 71 \n",
      "50 91 53 16 84 16 19 81 12 26 \n",
      "53 33 23 5 82 97 41 89 53 26 \n",
      "90 8 78 26 18 50 34 49 46 54 \n"
     ]
    }
   ],
   "source": [
    "wb = load_workbook(\"./data/sample2.xlsx\")\n",
    "ws = wb.active\n",
    "\n",
    "for i in range(1, 11):\n",
    "    for j in range(1, 11):\n",
    "        print(ws.cell(row=i, column=j).value, end = \" \")\n",
    "    print()\n",
    "\n",
    "wb.close()"
   ]
  },
  {
   "cell_type": "code",
   "execution_count": 3,
   "id": "43b3dc60",
   "metadata": {},
   "outputs": [
    {
     "name": "stdout",
     "output_type": "stream",
     "text": [
      "38\n",
      "26\n",
      "42\n",
      "43\n",
      "98\n",
      "19\n",
      "47\n",
      "91\n",
      "33\n",
      "8\n"
     ]
    }
   ],
   "source": [
    "wb = load_workbook(\"./data/sample2.xlsx\")\n",
    "ws = wb.active\n",
    "\n",
    "for row in ws.iter_rows():\n",
    "    # print(row)\n",
    "    print(row[1].value)\n",
    "\n",
    "wb.close()"
   ]
  },
  {
   "cell_type": "code",
   "execution_count": null,
   "id": "1fce9dc0",
   "metadata": {},
   "outputs": [],
   "source": []
  }
 ],
 "metadata": {
  "kernelspec": {
   "display_name": "venv",
   "language": "python",
   "name": "python3"
  },
  "language_info": {
   "codemirror_mode": {
    "name": "ipython",
    "version": 3
   },
   "file_extension": ".py",
   "mimetype": "text/x-python",
   "name": "python",
   "nbconvert_exporter": "python",
   "pygments_lexer": "ipython3",
   "version": "3.13.3"
  }
 },
 "nbformat": 4,
 "nbformat_minor": 5
}
