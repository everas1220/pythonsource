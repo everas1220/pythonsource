{
 "cells": [
  {
   "cell_type": "code",
   "execution_count": null,
   "id": "bccdbd49",
   "metadata": {},
   "outputs": [
    {
     "name": "stdout",
     "output_type": "stream",
     "text": [
      "Collecting pandas\n",
      "  Using cached pandas-2.3.0-cp313-cp313-win_amd64.whl.metadata (19 kB)\n",
      "Collecting numpy>=1.26.0 (from pandas)\n",
      "  Using cached numpy-2.3.1-cp313-cp313-win_amd64.whl.metadata (60 kB)\n",
      "Requirement already satisfied: python-dateutil>=2.8.2 in c:\\source\\pythonsource\\venv\\lib\\site-packages (from pandas) (2.9.0.post0)\n",
      "Collecting pytz>=2020.1 (from pandas)\n",
      "  Using cached pytz-2025.2-py2.py3-none-any.whl.metadata (22 kB)\n",
      "Collecting tzdata>=2022.7 (from pandas)\n",
      "  Using cached tzdata-2025.2-py2.py3-none-any.whl.metadata (1.4 kB)\n",
      "Requirement already satisfied: six>=1.5 in c:\\source\\pythonsource\\venv\\lib\\site-packages (from python-dateutil>=2.8.2->pandas) (1.17.0)\n",
      "Using cached pandas-2.3.0-cp313-cp313-win_amd64.whl (11.0 MB)\n",
      "Using cached numpy-2.3.1-cp313-cp313-win_amd64.whl (12.7 MB)\n",
      "Using cached pytz-2025.2-py2.py3-none-any.whl (509 kB)\n",
      "Using cached tzdata-2025.2-py2.py3-none-any.whl (347 kB)\n",
      "Installing collected packages: pytz, tzdata, numpy, pandas\n",
      "Successfully installed numpy-2.3.1 pandas-2.3.0 pytz-2025.2 tzdata-2025.2\n"
     ]
    },
    {
     "name": "stderr",
     "output_type": "stream",
     "text": [
      "\n",
      "[notice] A new release of pip is available: 25.0.1 -> 25.1.1\n",
      "[notice] To update, run: python.exe -m pip install --upgrade pip\n"
     ]
    }
   ],
   "source": [
    "# cmd 창 라이브러리 설치\n",
    "# pip install pandas\n",
    "\n",
    "# 주피터노트북 실행\n",
    "# !pip install pandas"
   ]
  },
  {
   "cell_type": "markdown",
   "id": "d71dd04c",
   "metadata": {},
   "source": [
    "### 데이터 분석\n",
    "- SQL 분석\n",
    "- Excel \n",
    "- 파이썬 라이브러리 - pandas"
   ]
  },
  {
   "cell_type": "markdown",
   "id": "c58d4e10",
   "metadata": {},
   "source": [
    "### pandas 사용하는 데이터 구조\n",
    "- 1) Series\n",
    "- 2) DataFrame"
   ]
  },
  {
   "cell_type": "code",
   "execution_count": 2,
   "id": "d576a68b",
   "metadata": {},
   "outputs": [],
   "source": [
    "import pandas as pd"
   ]
  },
  {
   "cell_type": "code",
   "execution_count": 3,
   "id": "bc0e1fd0",
   "metadata": {},
   "outputs": [
    {
     "data": {
      "text/plain": [
       "0    70\n",
       "1    60\n",
       "2    90\n",
       "dtype: int64"
      ]
     },
     "execution_count": 3,
     "metadata": {},
     "output_type": "execute_result"
    }
   ],
   "source": [
    "# Series(data, index, dtype, name)\n",
    "# data : [], dict..\n",
    "\n",
    "series = pd.Series([70,60,90])\n",
    "series"
   ]
  },
  {
   "cell_type": "code",
   "execution_count": 4,
   "id": "45b8a242",
   "metadata": {},
   "outputs": [
    {
     "data": {
      "text/plain": [
       "a    1\n",
       "b    2\n",
       "c    3\n",
       "dtype: int64"
      ]
     },
     "execution_count": 4,
     "metadata": {},
     "output_type": "execute_result"
    }
   ],
   "source": [
    "series = pd.Series({\"a\":1, \"b\":2, \"c\":3})\n",
    "series"
   ]
  },
  {
   "cell_type": "code",
   "execution_count": 5,
   "id": "07ce01e3",
   "metadata": {},
   "outputs": [
    {
     "data": {
      "text/plain": [
       "국어    70\n",
       "영어    60\n",
       "수학    90\n",
       "dtype: int64"
      ]
     },
     "execution_count": 5,
     "metadata": {},
     "output_type": "execute_result"
    }
   ],
   "source": [
    "series = pd.Series([70,60,90],index=[\"국어\",\"영어\",\"수학\"])\n",
    "series"
   ]
  },
  {
   "cell_type": "code",
   "execution_count": 10,
   "id": "d985a1b3",
   "metadata": {},
   "outputs": [
    {
     "name": "stdout",
     "output_type": "stream",
     "text": [
      "Index(['국어', '영어', '수학'], dtype='object')\n",
      "[70 60 90]\n",
      "None\n",
      "70\n",
      "70\n"
     ]
    },
    {
     "name": "stderr",
     "output_type": "stream",
     "text": [
      "C:\\Users\\soldesk\\AppData\\Local\\Temp\\ipykernel_7840\\3279377040.py:7: FutureWarning: Series.__getitem__ treating keys as positions is deprecated. In a future version, integer keys will always be treated as labels (consistent with DataFrame behavior). To access a value by position, use `ser.iloc[pos]`\n",
      "  print(series[0])\n"
     ]
    }
   ],
   "source": [
    "# 조회 : index\n",
    "# dtype : datatype, object(str 포함)\n",
    "\n",
    "print(series.index)\n",
    "print(series.values)\n",
    "print(series.name)\n",
    "print(series[0])\n",
    "print(series[\"국어\"])\n"
   ]
  },
  {
   "cell_type": "code",
   "execution_count": 12,
   "id": "128a88e6",
   "metadata": {},
   "outputs": [
    {
     "name": "stdout",
     "output_type": "stream",
     "text": [
      "(3,)\n",
      "국어    70\n",
      "영어    60\n",
      "수학    90\n",
      "dtype: int64\n",
      "국어    70\n",
      "영어    60\n",
      "수학    90\n",
      "dtype: int64\n"
     ]
    }
   ],
   "source": [
    "# 구조파악 : shape : 행,열\n",
    "print(series.shape)\n",
    "print(series.head()) # 앞에서 5행 가져오기\n",
    "print(series.tail()) # 뒤에서 5행 가져오기"
   ]
  },
  {
   "cell_type": "code",
   "execution_count": 14,
   "id": "2bbe104d",
   "metadata": {},
   "outputs": [
    {
     "data": {
      "text/plain": [
       "미술    70\n",
       "음악    60\n",
       "체육    90\n",
       "dtype: int64"
      ]
     },
     "execution_count": 14,
     "metadata": {},
     "output_type": "execute_result"
    }
   ],
   "source": [
    "# 수정\n",
    "series.index = ['미술', '음악', '체육']\n",
    "series"
   ]
  },
  {
   "cell_type": "code",
   "execution_count": 17,
   "id": "308372b9",
   "metadata": {},
   "outputs": [
    {
     "data": {
      "text/plain": [
       "미술    70\n",
       "음악    75\n",
       "체육    90\n",
       "dtype: int64"
      ]
     },
     "execution_count": 17,
     "metadata": {},
     "output_type": "execute_result"
    }
   ],
   "source": [
    "series['음악'] = 75\n",
    "series"
   ]
  },
  {
   "cell_type": "code",
   "execution_count": 21,
   "id": "1dc98abf",
   "metadata": {},
   "outputs": [
    {
     "data": {
      "text/plain": [
       "미술    70.0\n",
       "음악    75.0\n",
       "체육    90.0\n",
       "dtype: float64"
      ]
     },
     "execution_count": 21,
     "metadata": {},
     "output_type": "execute_result"
    }
   ],
   "source": [
    "# int32, int64\n",
    "# float32, float64\n",
    "# 타입변경 : astype('변경타입')\n",
    "series = series.astype(\"float\")\n",
    "series\n"
   ]
  },
  {
   "cell_type": "code",
   "execution_count": 23,
   "id": "435ca9d0",
   "metadata": {},
   "outputs": [
    {
     "data": {
      "text/plain": [
       "음악    75.0\n",
       "체육    90.0\n",
       "dtype: float64"
      ]
     },
     "execution_count": 23,
     "metadata": {},
     "output_type": "execute_result"
    }
   ],
   "source": [
    "del series['미술']\n",
    "series"
   ]
  },
  {
   "cell_type": "markdown",
   "id": "584867a8",
   "metadata": {},
   "source": [
    "### DataFrame\n",
    "- 행, 열"
   ]
  },
  {
   "cell_type": "code",
   "execution_count": 24,
   "id": "6616f9d5",
   "metadata": {},
   "outputs": [],
   "source": [
    "friend_dict_list = [\n",
    "    {\n",
    "        \"name\":\"John\",\n",
    "        \"age\":25,\n",
    "        \"job\":\"student\"\n",
    "    },\n",
    "    {\n",
    "        \"name\":\"Nate\",\n",
    "        \"age\":35,\n",
    "        \"job\":\"teacher\"\n",
    "    },\n",
    "    {\n",
    "        \"name\":\"Jenny\",\n",
    "        \"age\":30,\n",
    "        \"job\":\"developer\"\n",
    "    },\n",
    "]"
   ]
  },
  {
   "cell_type": "code",
   "execution_count": 27,
   "id": "f3e536bd",
   "metadata": {},
   "outputs": [
    {
     "data": {
      "text/html": [
       "<div>\n",
       "<style scoped>\n",
       "    .dataframe tbody tr th:only-of-type {\n",
       "        vertical-align: middle;\n",
       "    }\n",
       "\n",
       "    .dataframe tbody tr th {\n",
       "        vertical-align: top;\n",
       "    }\n",
       "\n",
       "    .dataframe thead th {\n",
       "        text-align: right;\n",
       "    }\n",
       "</style>\n",
       "<table border=\"1\" class=\"dataframe\">\n",
       "  <thead>\n",
       "    <tr style=\"text-align: right;\">\n",
       "      <th></th>\n",
       "      <th>name</th>\n",
       "      <th>age</th>\n",
       "      <th>job</th>\n",
       "    </tr>\n",
       "  </thead>\n",
       "  <tbody>\n",
       "    <tr>\n",
       "      <th>s1</th>\n",
       "      <td>John</td>\n",
       "      <td>25</td>\n",
       "      <td>student</td>\n",
       "    </tr>\n",
       "    <tr>\n",
       "      <th>s2</th>\n",
       "      <td>Nate</td>\n",
       "      <td>35</td>\n",
       "      <td>teacher</td>\n",
       "    </tr>\n",
       "    <tr>\n",
       "      <th>s3</th>\n",
       "      <td>Jenny</td>\n",
       "      <td>30</td>\n",
       "      <td>developer</td>\n",
       "    </tr>\n",
       "  </tbody>\n",
       "</table>\n",
       "</div>"
      ],
      "text/plain": [
       "     name  age        job\n",
       "s1   John   25    student\n",
       "s2   Nate   35    teacher\n",
       "s3  Jenny   30  developer"
      ]
     },
     "execution_count": 27,
     "metadata": {},
     "output_type": "execute_result"
    }
   ],
   "source": [
    "# 데이터프레임 생성\n",
    "# 데이터프레임 : series 모아놓은 구조\n",
    "\n",
    "friend_df = pd.DataFrame(friend_dict_list, index=['s1','s2','s3'])\n",
    "friend_df"
   ]
  },
  {
   "cell_type": "code",
   "execution_count": 26,
   "id": "8cda0013",
   "metadata": {},
   "outputs": [
    {
     "data": {
      "text/html": [
       "<div>\n",
       "<style scoped>\n",
       "    .dataframe tbody tr th:only-of-type {\n",
       "        vertical-align: middle;\n",
       "    }\n",
       "\n",
       "    .dataframe tbody tr th {\n",
       "        vertical-align: top;\n",
       "    }\n",
       "\n",
       "    .dataframe thead th {\n",
       "        text-align: right;\n",
       "    }\n",
       "</style>\n",
       "<table border=\"1\" class=\"dataframe\">\n",
       "  <thead>\n",
       "    <tr style=\"text-align: right;\">\n",
       "      <th></th>\n",
       "      <th>국어</th>\n",
       "      <th>영어</th>\n",
       "      <th>수학</th>\n",
       "    </tr>\n",
       "  </thead>\n",
       "  <tbody>\n",
       "    <tr>\n",
       "      <th>0</th>\n",
       "      <td>15</td>\n",
       "      <td>45</td>\n",
       "      <td>75</td>\n",
       "    </tr>\n",
       "    <tr>\n",
       "      <th>1</th>\n",
       "      <td>25</td>\n",
       "      <td>25</td>\n",
       "      <td>25</td>\n",
       "    </tr>\n",
       "    <tr>\n",
       "      <th>2</th>\n",
       "      <td>35</td>\n",
       "      <td>35</td>\n",
       "      <td>37</td>\n",
       "    </tr>\n",
       "    <tr>\n",
       "      <th>3</th>\n",
       "      <td>45</td>\n",
       "      <td>75</td>\n",
       "      <td>47</td>\n",
       "    </tr>\n",
       "    <tr>\n",
       "      <th>4</th>\n",
       "      <td>55</td>\n",
       "      <td>25</td>\n",
       "      <td>55</td>\n",
       "    </tr>\n",
       "    <tr>\n",
       "      <th>5</th>\n",
       "      <td>65</td>\n",
       "      <td>65</td>\n",
       "      <td>65</td>\n",
       "    </tr>\n",
       "  </tbody>\n",
       "</table>\n",
       "</div>"
      ],
      "text/plain": [
       "   국어  영어  수학\n",
       "0  15  45  75\n",
       "1  25  25  25\n",
       "2  35  35  37\n",
       "3  45  75  47\n",
       "4  55  25  55\n",
       "5  65  65  65"
      ]
     },
     "execution_count": 26,
     "metadata": {},
     "output_type": "execute_result"
    }
   ],
   "source": [
    "dict1 = {\"국어\":[15,25,35,45,55,65],\n",
    "         \"영어\":[45,25,35,75,25,65],\n",
    "         \"수학\":[75,25,37,47,55,65]}\n",
    "\n",
    "student_df = pd.DataFrame(dict1)\n",
    "student_df"
   ]
  },
  {
   "cell_type": "code",
   "execution_count": 28,
   "id": "27ff7306",
   "metadata": {},
   "outputs": [
    {
     "data": {
      "text/html": [
       "<div>\n",
       "<style scoped>\n",
       "    .dataframe tbody tr th:only-of-type {\n",
       "        vertical-align: middle;\n",
       "    }\n",
       "\n",
       "    .dataframe tbody tr th {\n",
       "        vertical-align: top;\n",
       "    }\n",
       "\n",
       "    .dataframe thead th {\n",
       "        text-align: right;\n",
       "    }\n",
       "</style>\n",
       "<table border=\"1\" class=\"dataframe\">\n",
       "  <thead>\n",
       "    <tr style=\"text-align: right;\">\n",
       "      <th></th>\n",
       "      <th>c1</th>\n",
       "      <th>c2</th>\n",
       "      <th>c3</th>\n",
       "      <th>c4</th>\n",
       "      <th>c5</th>\n",
       "    </tr>\n",
       "  </thead>\n",
       "  <tbody>\n",
       "    <tr>\n",
       "      <th>내용1</th>\n",
       "      <td>1</td>\n",
       "      <td>2</td>\n",
       "      <td>3</td>\n",
       "      <td>4</td>\n",
       "      <td>5</td>\n",
       "    </tr>\n",
       "    <tr>\n",
       "      <th>내용2</th>\n",
       "      <td>6</td>\n",
       "      <td>7</td>\n",
       "      <td>8</td>\n",
       "      <td>9</td>\n",
       "      <td>10</td>\n",
       "    </tr>\n",
       "  </tbody>\n",
       "</table>\n",
       "</div>"
      ],
      "text/plain": [
       "     c1  c2  c3  c4  c5\n",
       "내용1   1   2   3   4   5\n",
       "내용2   6   7   8   9  10"
      ]
     },
     "execution_count": 28,
     "metadata": {},
     "output_type": "execute_result"
    }
   ],
   "source": [
    "list1 = [\n",
    "    [1,2,3,4,5],\n",
    "    [6,7,8,9,10],\n",
    "]\n",
    "\n",
    "two_df = pd.DataFrame(list1, index=[\"내용1\",\"내용2\"],columns=[\"c1\",\"c2\",\"c3\",\"c4\",\"c5\"])\n",
    "two_df"
   ]
  },
  {
   "cell_type": "code",
   "execution_count": 34,
   "id": "71b7f86c",
   "metadata": {},
   "outputs": [
    {
     "data": {
      "text/html": [
       "<div>\n",
       "<style scoped>\n",
       "    .dataframe tbody tr th:only-of-type {\n",
       "        vertical-align: middle;\n",
       "    }\n",
       "\n",
       "    .dataframe tbody tr th {\n",
       "        vertical-align: top;\n",
       "    }\n",
       "\n",
       "    .dataframe thead th {\n",
       "        text-align: right;\n",
       "    }\n",
       "</style>\n",
       "<table border=\"1\" class=\"dataframe\">\n",
       "  <thead>\n",
       "    <tr style=\"text-align: right;\">\n",
       "      <th></th>\n",
       "      <th>c1</th>\n",
       "      <th>c2</th>\n",
       "      <th>c3</th>\n",
       "    </tr>\n",
       "  </thead>\n",
       "  <tbody>\n",
       "    <tr>\n",
       "      <th>0</th>\n",
       "      <td>1</td>\n",
       "      <td>2</td>\n",
       "      <td>3</td>\n",
       "    </tr>\n",
       "    <tr>\n",
       "      <th>1</th>\n",
       "      <td>4</td>\n",
       "      <td>5</td>\n",
       "      <td>6</td>\n",
       "    </tr>\n",
       "    <tr>\n",
       "      <th>2</th>\n",
       "      <td>7</td>\n",
       "      <td>8</td>\n",
       "      <td>9</td>\n",
       "    </tr>\n",
       "    <tr>\n",
       "      <th>3</th>\n",
       "      <td>10</td>\n",
       "      <td>11</td>\n",
       "      <td>12</td>\n",
       "    </tr>\n",
       "    <tr>\n",
       "      <th>4</th>\n",
       "      <td>13</td>\n",
       "      <td>14</td>\n",
       "      <td>15</td>\n",
       "    </tr>\n",
       "  </tbody>\n",
       "</table>\n",
       "</div>"
      ],
      "text/plain": [
       "   c1  c2  c3\n",
       "0   1   2   3\n",
       "1   4   5   6\n",
       "2   7   8   9\n",
       "3  10  11  12\n",
       "4  13  14  15"
      ]
     },
     "execution_count": 34,
     "metadata": {},
     "output_type": "execute_result"
    }
   ],
   "source": [
    "# csv 읽어올 때 첫번째 행을 무조건 header 로 인식\n",
    "# names : 컬럼명 부여\n",
    "csv_df = pd.read_csv(\"../basic/data/sample2.csv\", header=None, names=[\"c1\",\"c2\",\"c3\"])\n",
    "csv_df"
   ]
  },
  {
   "cell_type": "code",
   "execution_count": null,
   "id": "a936597b",
   "metadata": {},
   "outputs": [
    {
     "data": {
      "text/html": [
       "<div>\n",
       "<style scoped>\n",
       "    .dataframe tbody tr th:only-of-type {\n",
       "        vertical-align: middle;\n",
       "    }\n",
       "\n",
       "    .dataframe tbody tr th {\n",
       "        vertical-align: top;\n",
       "    }\n",
       "\n",
       "    .dataframe thead th {\n",
       "        text-align: right;\n",
       "    }\n",
       "</style>\n",
       "<table border=\"1\" class=\"dataframe\">\n",
       "  <thead>\n",
       "    <tr style=\"text-align: right;\">\n",
       "      <th></th>\n",
       "      <th>번호</th>\n",
       "      <th>이름</th>\n",
       "      <th>가입일시</th>\n",
       "      <th>나이</th>\n",
       "    </tr>\n",
       "  </thead>\n",
       "  <tbody>\n",
       "    <tr>\n",
       "      <th>0</th>\n",
       "      <td>1</td>\n",
       "      <td>김정수</td>\n",
       "      <td>2017-01-19 11:30:00</td>\n",
       "      <td>25</td>\n",
       "    </tr>\n",
       "    <tr>\n",
       "      <th>1</th>\n",
       "      <td>2</td>\n",
       "      <td>박민구</td>\n",
       "      <td>2017-02-07 10:22:00</td>\n",
       "      <td>35</td>\n",
       "    </tr>\n",
       "    <tr>\n",
       "      <th>2</th>\n",
       "      <td>3</td>\n",
       "      <td>정순미</td>\n",
       "      <td>2017-01-22 09:10:00</td>\n",
       "      <td>33</td>\n",
       "    </tr>\n",
       "    <tr>\n",
       "      <th>3</th>\n",
       "      <td>4</td>\n",
       "      <td>김정현</td>\n",
       "      <td>2017-02-22 14:09:00</td>\n",
       "      <td>45</td>\n",
       "    </tr>\n",
       "    <tr>\n",
       "      <th>4</th>\n",
       "      <td>5</td>\n",
       "      <td>홍미진</td>\n",
       "      <td>2017-04-01 18:00:00</td>\n",
       "      <td>17</td>\n",
       "    </tr>\n",
       "    <tr>\n",
       "      <th>5</th>\n",
       "      <td>6</td>\n",
       "      <td>김순철</td>\n",
       "      <td>2017-05-14 22:33:07</td>\n",
       "      <td>22</td>\n",
       "    </tr>\n",
       "    <tr>\n",
       "      <th>6</th>\n",
       "      <td>7</td>\n",
       "      <td>이동철</td>\n",
       "      <td>2017-03-01 23:44:45</td>\n",
       "      <td>27</td>\n",
       "    </tr>\n",
       "    <tr>\n",
       "      <th>7</th>\n",
       "      <td>8</td>\n",
       "      <td>박지숙</td>\n",
       "      <td>2017-01-11 06:04:18</td>\n",
       "      <td>30</td>\n",
       "    </tr>\n",
       "    <tr>\n",
       "      <th>8</th>\n",
       "      <td>9</td>\n",
       "      <td>김은미</td>\n",
       "      <td>2017-02-08 07:44:33</td>\n",
       "      <td>51</td>\n",
       "    </tr>\n",
       "    <tr>\n",
       "      <th>9</th>\n",
       "      <td>10</td>\n",
       "      <td>장혁철</td>\n",
       "      <td>2017-12-01 13:01:11</td>\n",
       "      <td>16</td>\n",
       "    </tr>\n",
       "  </tbody>\n",
       "</table>\n",
       "</div>"
      ],
      "text/plain": [
       "   번호   이름                 가입일시  나이\n",
       "0   1  김정수  2017-01-19 11:30:00  25\n",
       "1   2  박민구  2017-02-07 10:22:00  35\n",
       "2   3  정순미  2017-01-22 09:10:00  33\n",
       "3   4  김정현  2017-02-22 14:09:00  45\n",
       "4   5  홍미진  2017-04-01 18:00:00  17\n",
       "5   6  김순철  2017-05-14 22:33:07  22\n",
       "6   7  이동철  2017-03-01 23:44:45  27\n",
       "7   8  박지숙  2017-01-11 06:04:18  30\n",
       "8   9  김은미  2017-02-08 07:44:33  51\n",
       "9  10  장혁철  2017-12-01 13:01:11  16"
      ]
     },
     "execution_count": 33,
     "metadata": {},
     "output_type": "execute_result"
    }
   ],
   "source": [
    "# windows 운영체제 인코딩 : cp949, ms949\n",
    "# 한글이 깨진다면 encoding 변경\n",
    "\n",
    "csv_df = pd.read_csv(\"../basic/data/sample1.csv\", encoding=\"cp949\")\n",
    "csv_df"
   ]
  },
  {
   "cell_type": "code",
   "execution_count": 36,
   "id": "5e844560",
   "metadata": {},
   "outputs": [
    {
     "data": {
      "text/html": [
       "<div>\n",
       "<style scoped>\n",
       "    .dataframe tbody tr th:only-of-type {\n",
       "        vertical-align: middle;\n",
       "    }\n",
       "\n",
       "    .dataframe tbody tr th {\n",
       "        vertical-align: top;\n",
       "    }\n",
       "\n",
       "    .dataframe thead th {\n",
       "        text-align: right;\n",
       "    }\n",
       "</style>\n",
       "<table border=\"1\" class=\"dataframe\">\n",
       "  <thead>\n",
       "    <tr style=\"text-align: right;\">\n",
       "      <th></th>\n",
       "      <th>1</th>\n",
       "      <th>김정수</th>\n",
       "      <th>2017-01-18 11:30:00</th>\n",
       "      <th>25</th>\n",
       "    </tr>\n",
       "  </thead>\n",
       "  <tbody>\n",
       "    <tr>\n",
       "      <th>0</th>\n",
       "      <td>2</td>\n",
       "      <td>박민구</td>\n",
       "      <td>2017-02-07 10:22:00</td>\n",
       "      <td>35</td>\n",
       "    </tr>\n",
       "    <tr>\n",
       "      <th>1</th>\n",
       "      <td>3</td>\n",
       "      <td>정순미</td>\n",
       "      <td>2017-01-22 09:10:00</td>\n",
       "      <td>33</td>\n",
       "    </tr>\n",
       "    <tr>\n",
       "      <th>2</th>\n",
       "      <td>4</td>\n",
       "      <td>김정현</td>\n",
       "      <td>2017-02-22 14:30:00</td>\n",
       "      <td>45</td>\n",
       "    </tr>\n",
       "    <tr>\n",
       "      <th>3</th>\n",
       "      <td>5</td>\n",
       "      <td>홍미진</td>\n",
       "      <td>2017-01-18 11:30:00</td>\n",
       "      <td>24</td>\n",
       "    </tr>\n",
       "    <tr>\n",
       "      <th>4</th>\n",
       "      <td>6</td>\n",
       "      <td>이동철</td>\n",
       "      <td>2017-03-01 23:30:00</td>\n",
       "      <td>27</td>\n",
       "    </tr>\n",
       "    <tr>\n",
       "      <th>5</th>\n",
       "      <td>7</td>\n",
       "      <td>김은미</td>\n",
       "      <td>2017-04-01 23:30:00</td>\n",
       "      <td>25</td>\n",
       "    </tr>\n",
       "  </tbody>\n",
       "</table>\n",
       "</div>"
      ],
      "text/plain": [
       "   1  김정수  2017-01-18 11:30:00  25\n",
       "0  2  박민구  2017-02-07 10:22:00  35\n",
       "1  3  정순미  2017-01-22 09:10:00  33\n",
       "2  4  김정현  2017-02-22 14:30:00  45\n",
       "3  5  홍미진  2017-01-18 11:30:00  24\n",
       "4  6  이동철  2017-03-01 23:30:00  27\n",
       "5  7  김은미  2017-04-01 23:30:00  25"
      ]
     },
     "execution_count": 36,
     "metadata": {},
     "output_type": "execute_result"
    }
   ],
   "source": [
    "csv_df = pd.read_csv(\"../basic/data/sample3.csv\", encoding=\"cp949\", delimiter=\"|\")\n",
    "csv_df"
   ]
  },
  {
   "cell_type": "code",
   "execution_count": null,
   "id": "be58a095",
   "metadata": {},
   "outputs": [],
   "source": []
  }
 ],
 "metadata": {
  "kernelspec": {
   "display_name": "venv",
   "language": "python",
   "name": "python3"
  },
  "language_info": {
   "codemirror_mode": {
    "name": "ipython",
    "version": 3
   },
   "file_extension": ".py",
   "mimetype": "text/x-python",
   "name": "python",
   "nbconvert_exporter": "python",
   "pygments_lexer": "ipython3",
   "version": "3.13.3"
  }
 },
 "nbformat": 4,
 "nbformat_minor": 5
}
