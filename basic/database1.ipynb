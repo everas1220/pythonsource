{
 "cells": [
  {
   "cell_type": "markdown",
   "id": "a5de96c0",
   "metadata": {},
   "source": [
    "### DB 연동\n",
    "- 내장 DB : SQLite\n",
    "    - RDBMS : 테이블 형태 DB"
   ]
  },
  {
   "cell_type": "code",
   "execution_count": 1,
   "id": "e25357a0",
   "metadata": {},
   "outputs": [],
   "source": [
    "import sqlite3\n",
    "from datetime import datetime"
   ]
  },
  {
   "cell_type": "code",
   "execution_count": 2,
   "id": "55aaa1bc",
   "metadata": {},
   "outputs": [
    {
     "name": "stdout",
     "output_type": "stream",
     "text": [
      "version  3.49.1\n"
     ]
    }
   ],
   "source": [
    "print('version ', sqlite3.sqlite_version)"
   ]
  },
  {
   "cell_type": "code",
   "execution_count": 4,
   "id": "84e393da",
   "metadata": {},
   "outputs": [
    {
     "name": "stdout",
     "output_type": "stream",
     "text": [
      "2025-06-10 10:48:53.621997\n",
      "2025-06-10 10:48:53\n"
     ]
    }
   ],
   "source": [
    "now = datetime.now()\n",
    "print(now)\n",
    "\n",
    "# 원하는 형식으로 변경\n",
    "nowDateTime = now.strftime(\"%Y-%m-%d %H:%M:%S\")\n",
    "print(nowDateTime)"
   ]
  },
  {
   "cell_type": "code",
   "execution_count": null,
   "id": "106d3729",
   "metadata": {},
   "outputs": [],
   "source": [
    "# 데이터베이스 생성\n",
    "# isolation_level : autocommit 하지 않기\n",
    "conn = sqlite3.connect(\"./test.db\", isolation_level=None)"
   ]
  },
  {
   "cell_type": "code",
   "execution_count": 7,
   "id": "97eeddc6",
   "metadata": {},
   "outputs": [],
   "source": [
    "cursor = conn.cursor()"
   ]
  },
  {
   "cell_type": "code",
   "execution_count": 8,
   "id": "53444518",
   "metadata": {},
   "outputs": [
    {
     "data": {
      "text/plain": [
       "<sqlite3.Cursor at 0x1d02a087b40>"
      ]
     },
     "execution_count": 8,
     "metadata": {},
     "output_type": "execute_result"
    }
   ],
   "source": [
    "# 테이블 생성\n",
    "\n",
    "sql = \"create table if not exists users(id integer primary key, username text, email text, phone text, website text, regdate text)\"\n",
    "\n",
    "cursor.execute(sql)"
   ]
  },
  {
   "cell_type": "code",
   "execution_count": 9,
   "id": "78350ce5",
   "metadata": {},
   "outputs": [
    {
     "data": {
      "text/plain": [
       "<sqlite3.Cursor at 0x1d02a087b40>"
      ]
     },
     "execution_count": 9,
     "metadata": {},
     "output_type": "execute_result"
    }
   ],
   "source": [
    "# create(insert)\n",
    "\n",
    "sql = \"insert into users(id,username,email,phone,website,regdate) \"\n",
    "sql += \"values(1, 'kim', 'kim@gamil.com', '010-1234-1234','Kim.com',?)\"\n",
    "\n",
    "# ? : 튜플로 지정하기\n",
    "cursor.execute(sql,(nowDateTime,))"
   ]
  },
  {
   "cell_type": "code",
   "execution_count": 10,
   "id": "2fb70e53",
   "metadata": {},
   "outputs": [
    {
     "data": {
      "text/plain": [
       "<sqlite3.Cursor at 0x1d02a087b40>"
      ]
     },
     "execution_count": 10,
     "metadata": {},
     "output_type": "execute_result"
    }
   ],
   "source": [
    "sql = \"insert into users(id,username,email,phone,website,regdate) \"\n",
    "sql += \"values(?, ?, ?, ?, ?, ?)\"\n",
    "\n",
    "# ? : 튜플로 지정하기\n",
    "cursor.execute(sql,(2, 'Park', 'Park@gamil.com', '010-1234-1234','Park.com',nowDateTime))"
   ]
  },
  {
   "cell_type": "code",
   "execution_count": 11,
   "id": "7e607c80",
   "metadata": {},
   "outputs": [
    {
     "data": {
      "text/plain": [
       "<sqlite3.Cursor at 0x1d02a087b40>"
      ]
     },
     "execution_count": 11,
     "metadata": {},
     "output_type": "execute_result"
    }
   ],
   "source": [
    "userList = [\n",
    "    (3, 'Hong', 'Hong@gamil.com', '010-1234-1234','Hong.com',nowDateTime),\n",
    "    (4, 'Cho', 'Cho@gamil.com', '010-1234-1234','Cho.com',nowDateTime),\n",
    "    (5, 'Yoo', 'Yoo@gamil.com', '010-1234-1234','Yoo.com',nowDateTime)\n",
    "]\n",
    "\n",
    "cursor.executemany(sql, userList)"
   ]
  },
  {
   "cell_type": "code",
   "execution_count": 12,
   "id": "765782ae",
   "metadata": {},
   "outputs": [
    {
     "data": {
      "text/plain": [
       "<sqlite3.Cursor at 0x1d02a087b40>"
      ]
     },
     "execution_count": 12,
     "metadata": {},
     "output_type": "execute_result"
    }
   ],
   "source": [
    "# 조회(Read) - fetchone(), fetchmany(), fetchall()\n",
    "\n",
    "sql = \"select * from users\"\n",
    "\n",
    "cursor.execute(sql)"
   ]
  },
  {
   "cell_type": "code",
   "execution_count": 13,
   "id": "2b9bbd0f",
   "metadata": {},
   "outputs": [
    {
     "data": {
      "text/plain": [
       "(1, 'kim', 'kim@gamil.com', '010-1234-1234', 'Kim.com', '2025-06-10 10:48:53')"
      ]
     },
     "execution_count": 13,
     "metadata": {},
     "output_type": "execute_result"
    }
   ],
   "source": [
    "cursor.fetchone()"
   ]
  },
  {
   "cell_type": "code",
   "execution_count": 14,
   "id": "5ea43565",
   "metadata": {},
   "outputs": [
    {
     "data": {
      "text/plain": [
       "[(2,\n",
       "  'Park',\n",
       "  'Park@gamil.com',\n",
       "  '010-1234-1234',\n",
       "  'Park.com',\n",
       "  '2025-06-10 10:48:53'),\n",
       " (3,\n",
       "  'Hong',\n",
       "  'Hong@gamil.com',\n",
       "  '010-1234-1234',\n",
       "  'Hong.com',\n",
       "  '2025-06-10 10:48:53')]"
      ]
     },
     "execution_count": 14,
     "metadata": {},
     "output_type": "execute_result"
    }
   ],
   "source": [
    "cursor.fetchmany(size=2)"
   ]
  },
  {
   "cell_type": "code",
   "execution_count": 15,
   "id": "9869608f",
   "metadata": {},
   "outputs": [
    {
     "data": {
      "text/plain": [
       "[(4,\n",
       "  'Cho',\n",
       "  'Cho@gamil.com',\n",
       "  '010-1234-1234',\n",
       "  'Cho.com',\n",
       "  '2025-06-10 10:48:53'),\n",
       " (5,\n",
       "  'Yoo',\n",
       "  'Yoo@gamil.com',\n",
       "  '010-1234-1234',\n",
       "  'Yoo.com',\n",
       "  '2025-06-10 10:48:53')]"
      ]
     },
     "execution_count": 15,
     "metadata": {},
     "output_type": "execute_result"
    }
   ],
   "source": [
    "cursor.fetchall()"
   ]
  },
  {
   "cell_type": "code",
   "execution_count": 16,
   "id": "919439e4",
   "metadata": {},
   "outputs": [
    {
     "name": "stdout",
     "output_type": "stream",
     "text": [
      "(1, 'kim', 'kim@gamil.com', '010-1234-1234', 'Kim.com', '2025-06-10 10:48:53')\n",
      "(2, 'Park', 'Park@gamil.com', '010-1234-1234', 'Park.com', '2025-06-10 10:48:53')\n",
      "(3, 'Hong', 'Hong@gamil.com', '010-1234-1234', 'Hong.com', '2025-06-10 10:48:53')\n",
      "(4, 'Cho', 'Cho@gamil.com', '010-1234-1234', 'Cho.com', '2025-06-10 10:48:53')\n",
      "(5, 'Yoo', 'Yoo@gamil.com', '010-1234-1234', 'Yoo.com', '2025-06-10 10:48:53')\n"
     ]
    }
   ],
   "source": [
    "sql = \"select * from users\"\n",
    "\n",
    "cursor.execute(sql)\n",
    "\n",
    "for row in cursor.fetchall():\n",
    "    print(row)"
   ]
  },
  {
   "cell_type": "code",
   "execution_count": 17,
   "id": "604411b1",
   "metadata": {},
   "outputs": [
    {
     "data": {
      "text/plain": [
       "[(3,\n",
       "  'Hong',\n",
       "  'Hong@gamil.com',\n",
       "  '010-1234-1234',\n",
       "  'Hong.com',\n",
       "  '2025-06-10 10:48:53')]"
      ]
     },
     "execution_count": 17,
     "metadata": {},
     "output_type": "execute_result"
    }
   ],
   "source": [
    "sql = \"select * from users where id=?\"\n",
    "\n",
    "cursor.execute(sql,(3,))\n",
    "cursor.fetchall()"
   ]
  },
  {
   "cell_type": "code",
   "execution_count": 18,
   "id": "d942f1f2",
   "metadata": {},
   "outputs": [
    {
     "data": {
      "text/plain": [
       "[(3,\n",
       "  'Hong',\n",
       "  'Hong@gamil.com',\n",
       "  '010-1234-1234',\n",
       "  'Hong.com',\n",
       "  '2025-06-10 10:48:53'),\n",
       " (5,\n",
       "  'Yoo',\n",
       "  'Yoo@gamil.com',\n",
       "  '010-1234-1234',\n",
       "  'Yoo.com',\n",
       "  '2025-06-10 10:48:53')]"
      ]
     },
     "execution_count": 18,
     "metadata": {},
     "output_type": "execute_result"
    }
   ],
   "source": [
    "sql = \"select * from users where id in (?,?)\"\n",
    "\n",
    "cursor.execute(sql,(3,5))\n",
    "cursor.fetchall()"
   ]
  },
  {
   "cell_type": "code",
   "execution_count": 19,
   "id": "a17cafa8",
   "metadata": {},
   "outputs": [
    {
     "data": {
      "text/plain": [
       "[(3,\n",
       "  'Hong',\n",
       "  'Hong@gamil.com',\n",
       "  '010-1234-1234',\n",
       "  'Hong.com',\n",
       "  '2025-06-10 10:48:53')]"
      ]
     },
     "execution_count": 19,
     "metadata": {},
     "output_type": "execute_result"
    }
   ],
   "source": [
    "# username : Hong\n",
    "sql = \"select * from users where username=?\"\n",
    "\n",
    "cursor.execute(sql,(\"Hong\",))\n",
    "cursor.fetchall()"
   ]
  },
  {
   "cell_type": "code",
   "execution_count": 20,
   "id": "8965ac8a",
   "metadata": {},
   "outputs": [
    {
     "data": {
      "text/plain": [
       "<sqlite3.Cursor at 0x1d02a087b40>"
      ]
     },
     "execution_count": 20,
     "metadata": {},
     "output_type": "execute_result"
    }
   ],
   "source": [
    "# 수정 : update\n",
    "\n",
    "sql = \"update users set phone=? where id=?\"\n",
    "\n",
    "cursor.execute(sql,('010-4567-8528',2))"
   ]
  },
  {
   "cell_type": "code",
   "execution_count": 21,
   "id": "6ce74d05",
   "metadata": {},
   "outputs": [
    {
     "data": {
      "text/plain": [
       "<sqlite3.Cursor at 0x1d02a087b40>"
      ]
     },
     "execution_count": 21,
     "metadata": {},
     "output_type": "execute_result"
    }
   ],
   "source": [
    "# 삭제 : delete\n",
    "\n",
    "sql = \"delete from users where id=?\"\n",
    "cursor.execute(sql, (5,))"
   ]
  },
  {
   "cell_type": "code",
   "execution_count": null,
   "id": "9e900e82",
   "metadata": {},
   "outputs": [],
   "source": []
  }
 ],
 "metadata": {
  "kernelspec": {
   "display_name": "venv",
   "language": "python",
   "name": "python3"
  },
  "language_info": {
   "codemirror_mode": {
    "name": "ipython",
    "version": 3
   },
   "file_extension": ".py",
   "mimetype": "text/x-python",
   "name": "python",
   "nbconvert_exporter": "python",
   "pygments_lexer": "ipython3",
   "version": "3.13.3"
  }
 },
 "nbformat": 4,
 "nbformat_minor": 5
}
