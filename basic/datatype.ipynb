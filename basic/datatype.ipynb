{
 "cells": [
  {
   "cell_type": "markdown",
   "id": "7deaddf0",
   "metadata": {},
   "source": [
    "### 자료형\n",
    "- 숫자형 : 정수, 실수, 8진수, 16진수"
   ]
  },
  {
   "cell_type": "code",
   "execution_count": null,
   "id": "3299c13c",
   "metadata": {},
   "outputs": [
    {
     "data": {
      "text/plain": [
       "127"
      ]
     },
     "execution_count": 2,
     "metadata": {},
     "output_type": "execute_result"
    }
   ],
   "source": [
    "a = 123\n",
    "b = -134\n",
    "\n",
    "# 8진수(0o), 16진수(0x)\n",
    "c = 0o177  # 1 * 8의 2 + 7 * 8 + 7\n",
    "c  # == print(c)"
   ]
  },
  {
   "cell_type": "code",
   "execution_count": null,
   "id": "8d256acf",
   "metadata": {},
   "outputs": [
    {
     "name": "stdout",
     "output_type": "stream",
     "text": [
      "7\n",
      "-1\n",
      "12\n",
      "0.75\n",
      "0\n",
      "3\n"
     ]
    }
   ],
   "source": [
    "# 사칙연산 : +,-, *, /, //, %\n",
    "\n",
    "a=3\n",
    "b=4\n",
    "\n",
    "print(a + b)\n",
    "print(a - b)\n",
    "print(a * b)\n",
    "print(a / b)    # 자바: 몫, 자바스크립트,파이썬은 같은 형식\n",
    "print(a // b)   # 자바스크립트,파이썬 => 몫\n",
    "print(a % b)"
   ]
  },
  {
   "cell_type": "markdown",
   "id": "4cbd0b08",
   "metadata": {},
   "source": [
    "- 문자열 자료형\n",
    "    - 작은따옴표, 큰따옴표, 큰따옴표 3개, 작은따옴표 3개"
   ]
  },
  {
   "cell_type": "code",
   "execution_count": 4,
   "id": "5629f49a",
   "metadata": {},
   "outputs": [
    {
     "data": {
      "text/plain": [
       "\"Python's favorite food is perl\""
      ]
     },
     "execution_count": 4,
     "metadata": {},
     "output_type": "execute_result"
    }
   ],
   "source": [
    "food = \"Python's favorite food is perl\"\n",
    "food"
   ]
  },
  {
   "cell_type": "code",
   "execution_count": 2,
   "id": "61e2bf65",
   "metadata": {},
   "outputs": [
    {
     "data": {
      "text/plain": [
       "\"Python's favorite food is perl\""
      ]
     },
     "execution_count": 2,
     "metadata": {},
     "output_type": "execute_result"
    }
   ],
   "source": [
    "food = 'Python\\'s favorite food is perl'\n",
    "food"
   ]
  },
  {
   "cell_type": "code",
   "execution_count": null,
   "id": "7147abdc",
   "metadata": {},
   "outputs": [
    {
     "name": "stdout",
     "output_type": "stream",
     "text": [
      "Life is too short\n",
      " You need python\n"
     ]
    }
   ],
   "source": [
    "multiline = \"Life is too short\\n You need python\"\n",
    "print(multiline)"
   ]
  },
  {
   "cell_type": "code",
   "execution_count": 9,
   "id": "04bfad0a",
   "metadata": {},
   "outputs": [
    {
     "name": "stdout",
     "output_type": "stream",
     "text": [
      "Life is too short\n",
      "You need python\n"
     ]
    }
   ],
   "source": [
    "multiline = \"\"\"Life is too short\n",
    "You need python\"\"\"\n",
    "print(multiline)"
   ]
  },
  {
   "cell_type": "code",
   "execution_count": 11,
   "id": "39ccb059",
   "metadata": {},
   "outputs": [
    {
     "name": "stdout",
     "output_type": "stream",
     "text": [
      "Life is too short\n",
      "You need python\n"
     ]
    }
   ],
   "source": [
    "mulitline = '''Life is too short\n",
    "You need python'''\n",
    "print(multiline)"
   ]
  },
  {
   "cell_type": "markdown",
   "id": "cfdf45ba",
   "metadata": {},
   "source": [
    "```\n",
    "- 문자열 연산\n",
    "    - + : 연결\n",
    "    - * : 반복\n",
    "```"
   ]
  },
  {
   "cell_type": "code",
   "execution_count": 12,
   "id": "697c3966",
   "metadata": {},
   "outputs": [
    {
     "name": "stdout",
     "output_type": "stream",
     "text": [
      "Python is fun\n"
     ]
    }
   ],
   "source": [
    "head = \"Python\"\n",
    "tail = \" is fun\"\n",
    "print(head + tail)"
   ]
  },
  {
   "cell_type": "code",
   "execution_count": 13,
   "id": "b3f20978",
   "metadata": {},
   "outputs": [
    {
     "name": "stdout",
     "output_type": "stream",
     "text": [
      "PythonPython\n"
     ]
    }
   ],
   "source": [
    "head = \"Python\"\n",
    "print(head * 2)"
   ]
  },
  {
   "cell_type": "code",
   "execution_count": 14,
   "id": "f50371c1",
   "metadata": {},
   "outputs": [
    {
     "name": "stdout",
     "output_type": "stream",
     "text": [
      "==================================================\n",
      "My program\n",
      "==================================================\n"
     ]
    }
   ],
   "source": [
    "print(\"=\"*50)\n",
    "print(\"My program\")\n",
    "print(\"=\"*50)"
   ]
  },
  {
   "cell_type": "markdown",
   "id": "5e29a738",
   "metadata": {},
   "source": [
    "- 문자열 인덱싱과 슬라이싱(★)\n",
    "    - 인덱스 : 0(왼쪽)부터 시작, -1을 붙이면 오른쪽부터 접근"
   ]
  },
  {
   "cell_type": "code",
   "execution_count": 15,
   "id": "51ccc364",
   "metadata": {},
   "outputs": [
    {
     "data": {
      "text/plain": [
       "'Life is too short You need python'"
      ]
     },
     "execution_count": 15,
     "metadata": {},
     "output_type": "execute_result"
    }
   ],
   "source": [
    "str1 = '''Life is too short You need python'''\n",
    "str1"
   ]
  },
  {
   "cell_type": "code",
   "execution_count": 17,
   "id": "da492fa8",
   "metadata": {},
   "outputs": [
    {
     "name": "stdout",
     "output_type": "stream",
     "text": [
      "e\n",
      "n\n"
     ]
    }
   ],
   "source": [
    "# 인덱스\n",
    "\n",
    "print(str1[3])\n",
    "print(str1[-1])"
   ]
  },
  {
   "cell_type": "code",
   "execution_count": null,
   "id": "4d14be50",
   "metadata": {},
   "outputs": [
    {
     "name": "stdout",
     "output_type": "stream",
     "text": [
      "e is too short You need python\n",
      "Life i\n",
      "Life is too short You need python\n",
      "Life is too short You need\n"
     ]
    }
   ],
   "source": [
    "# 슬라이싱 [시작위치:종료위치]\n",
    "# 종료위치는 출력에 포함하지 않음\n",
    "# 위치 지정하지 않으면 무조건 처음 or 마지막 의미\n",
    "\n",
    "print(str1[3:])\n",
    "print(str1[:6])\n",
    "print(str1[:])\n",
    "print(str1[:-7])"
   ]
  },
  {
   "cell_type": "code",
   "execution_count": 23,
   "id": "2091ef48",
   "metadata": {},
   "outputs": [
    {
     "name": "stdout",
     "output_type": "stream",
     "text": [
      "20250602\n",
      "Rainy\n"
     ]
    }
   ],
   "source": [
    "a = \"20250602Rainy\"\n",
    "\n",
    "# 날짜와 날씨 구분 후 출력\n",
    "date = a[:8]\n",
    "weather = a[8:]\n",
    "print(date)\n",
    "print(weather)"
   ]
  },
  {
   "cell_type": "markdown",
   "id": "162440ab",
   "metadata": {},
   "source": [
    "- 문자열 포매팅\n",
    "    - %s : 문자열,(모든 것 가능)\n",
    "    - %c : 문자 1개\n",
    "    - %d : 정수\n",
    "    - %f : 부동소수\n",
    "    - %% : 문자 % 를 의미"
   ]
  },
  {
   "cell_type": "code",
   "execution_count": 29,
   "id": "1181dd9f",
   "metadata": {},
   "outputs": [
    {
     "name": "stdout",
     "output_type": "stream",
     "text": [
      "I eat 3 apples\n",
      "I eat 3 apples\n",
      "I eat five apples\n",
      "I ate 3 apples. so I was sick for three days\n",
      "Error is 98%\n"
     ]
    }
   ],
   "source": [
    "# %d, %s, %f \n",
    "\n",
    "print(\"I eat %d apples\" % 3)\n",
    "print(\"I eat %s apples\" % 3)\n",
    "print(\"I eat %s apples\" % \"five\")\n",
    "print(\"I ate %d apples. so I was sick for %s days\" % (3,\"three\"))\n",
    "print('Error is %d%%' % 98)"
   ]
  },
  {
   "cell_type": "code",
   "execution_count": null,
   "id": "cca518a7",
   "metadata": {},
   "outputs": [
    {
     "name": "stdout",
     "output_type": "stream",
     "text": [
      "hi\n",
      "        hi\n",
      "hi        \n"
     ]
    }
   ],
   "source": [
    "print('%s' % 'hi')\n",
    "print('%10s' % 'hi') # 오른쪽 정렬\n",
    "print('%-10s' % 'hi') # 왼쪽 정렬"
   ]
  },
  {
   "cell_type": "code",
   "execution_count": 33,
   "id": "f2180a72",
   "metadata": {},
   "outputs": [
    {
     "name": "stdout",
     "output_type": "stream",
     "text": [
      "3.4213\n",
      "    3.4213\n"
     ]
    }
   ],
   "source": [
    "print(\"%.4f\" % 3.42134234)\n",
    "print(\"%10.4f\" % 3.42134234)"
   ]
  },
  {
   "cell_type": "markdown",
   "id": "8d8998fb",
   "metadata": {},
   "source": [
    "format 함수 사용한 포매팅"
   ]
  },
  {
   "cell_type": "code",
   "execution_count": 35,
   "id": "1bad25d8",
   "metadata": {},
   "outputs": [
    {
     "name": "stdout",
     "output_type": "stream",
     "text": [
      "I eat 3 apples\n",
      "I eat 3 apples\n",
      "I eat five apples\n",
      "I ate 3 apples. so I was sick for three days\n"
     ]
    }
   ],
   "source": [
    "print(\"I eat {0} apples\".format(3) )\n",
    "print(\"I eat {0} apples\".format(3))\n",
    "print(\"I eat {0} apples\".format(\"five\"))\n",
    "print(\"I ate {0} apples. so I was sick for {1} days\".format(3,\"three\"))"
   ]
  },
  {
   "cell_type": "code",
   "execution_count": 39,
   "id": "f09b9a4d",
   "metadata": {},
   "outputs": [
    {
     "name": "stdout",
     "output_type": "stream",
     "text": [
      "I eat 3 apples\n",
      "I eat 3 apples\n",
      "I eat 3 apples\n"
     ]
    }
   ],
   "source": [
    "number = 3\n",
    "print(\"I eat %d apples\" % number)\n",
    "print(\"I eat {0} apples\".format(number))\n",
    "print(\"I eat\", number,\"apples\")"
   ]
  },
  {
   "cell_type": "markdown",
   "id": "600c7252",
   "metadata": {},
   "source": [
    "f 문자열 포매팅"
   ]
  },
  {
   "cell_type": "code",
   "execution_count": 42,
   "id": "70c79c38",
   "metadata": {},
   "outputs": [
    {
     "name": "stdout",
     "output_type": "stream",
     "text": [
      "나의 이름은 홍길동 입니다. 나이는 30 입니다\n",
      "나의 이름은 홍길동 입니다. 나이는 31 입니다\n"
     ]
    }
   ],
   "source": [
    "name = '홍길동'\n",
    "age = 30\n",
    "print(f\"나의 이름은 {name} 입니다. 나이는 {age} 입니다\")\n",
    "print(f\"나의 이름은 {name} 입니다. 나이는 {age + 1} 입니다\")"
   ]
  },
  {
   "cell_type": "markdown",
   "id": "d9f7e5c2",
   "metadata": {},
   "source": [
    "문자열 관련 함수"
   ]
  },
  {
   "cell_type": "code",
   "execution_count": null,
   "id": "a8c912d7",
   "metadata": {},
   "outputs": [
    {
     "data": {
      "text/plain": [
       "2"
      ]
     },
     "execution_count": 43,
     "metadata": {},
     "output_type": "execute_result"
    }
   ],
   "source": [
    "a = \"hobby\"\n",
    "# count() : 특정 문자열 개수\n",
    "\n",
    "a.count('b')"
   ]
  },
  {
   "cell_type": "code",
   "execution_count": null,
   "id": "58e7c8fe",
   "metadata": {},
   "outputs": [
    {
     "data": {
      "text/plain": [
       "5"
      ]
     },
     "execution_count": 44,
     "metadata": {},
     "output_type": "execute_result"
    }
   ],
   "source": [
    "# 길이\n",
    "len(a)"
   ]
  },
  {
   "cell_type": "code",
   "execution_count": null,
   "id": "848f7aab",
   "metadata": {},
   "outputs": [
    {
     "name": "stdout",
     "output_type": "stream",
     "text": [
      "14\n",
      "14\n",
      "14\n",
      "-1\n"
     ]
    }
   ],
   "source": [
    "a = \"Python is the best choice\"\n",
    "# b 라는 문자가 처음 나온 위치\n",
    "# find(찾을문자, 시작위치(옵션))\n",
    "print(a.find(\"b\"))\n",
    "print(a.find(\"b\", 10))\n",
    "print(a.rfind(\"b\"))\n",
    "print(a.find(\"k\"))"
   ]
  },
  {
   "cell_type": "code",
   "execution_count": 48,
   "id": "08e93206",
   "metadata": {},
   "outputs": [
    {
     "name": "stdout",
     "output_type": "stream",
     "text": [
      "14\n"
     ]
    }
   ],
   "source": [
    "print(a.index(\"b\"))\n",
    "# print(a.index(\"k\")) 찾는 문자가 없을 때 에러 반환"
   ]
  },
  {
   "cell_type": "code",
   "execution_count": null,
   "id": "11308d52",
   "metadata": {},
   "outputs": [
    {
     "name": "stdout",
     "output_type": "stream",
     "text": [
      "True\n",
      "False\n"
     ]
    }
   ],
   "source": [
    "# startswith() : 특정 문자로 시작하는\n",
    "# endswith() : 특정 문자로 끝나는\n",
    "print(a.startswith(\"P\"))\n",
    "print(a.endswith(\"P\"))"
   ]
  },
  {
   "cell_type": "code",
   "execution_count": null,
   "id": "46fe8495",
   "metadata": {},
   "outputs": [
    {
     "name": "stdout",
     "output_type": "stream",
     "text": [
      "a,b,c,d,e\n",
      "ABCD\n"
     ]
    }
   ],
   "source": [
    "# join() : 리스트를 일반 문자열로 변경 시 가장 많이 사용\n",
    "\n",
    "print(\",\".join(\"abcde\"))\n",
    "print(\"\".join([\"A\",\"B\",\"C\",\"D\"]))"
   ]
  },
  {
   "cell_type": "code",
   "execution_count": null,
   "id": "a2881294",
   "metadata": {},
   "outputs": [
    {
     "name": "stdout",
     "output_type": "stream",
     "text": [
      "ABCDE\n",
      "abcde\n",
      "aBcDe\n"
     ]
    }
   ],
   "source": [
    "# upper(), lower()\n",
    "# swapcase() : 대소문자 상호 변환\n",
    "a = \"abcde\"\n",
    "print(a.upper())\n",
    "a = \"ABCDE\"\n",
    "print(a.lower())\n",
    "a = \"AbCdE\"\n",
    "print(a.swapcase())"
   ]
  },
  {
   "cell_type": "code",
   "execution_count": 60,
   "id": "e87c8308",
   "metadata": {},
   "outputs": [
    {
     "name": "stdout",
     "output_type": "stream",
     "text": [
      "     hi\n",
      "hi\n",
      "hi      \n",
      "hi\n",
      "         hi      \n",
      "hi\n"
     ]
    }
   ],
   "source": [
    "# 공백 제거\n",
    "# lstrip() : 왼쪽 공백 제거\n",
    "# rstrip() : 오른쪽 공백 제거\n",
    "# strip() : 양쪽 공백 제거\n",
    "\n",
    "a = \"     hi\"\n",
    "print(a)\n",
    "print(a.lstrip())\n",
    "\n",
    "\n",
    "a = \"hi      \"\n",
    "print(a)\n",
    "print(a.rstrip())\n",
    "\n",
    "a = \"         hi      \"\n",
    "print(a)\n",
    "print(a.strip())"
   ]
  },
  {
   "cell_type": "code",
   "execution_count": null,
   "id": "5c684516",
   "metadata": {},
   "outputs": [
    {
     "data": {
      "text/plain": [
       "'Your leg is too short'"
      ]
     },
     "execution_count": 61,
     "metadata": {},
     "output_type": "execute_result"
    }
   ],
   "source": [
    "# 문자열 변경 : replace\n",
    "\n",
    "a = \"Life is too short\"\n",
    "a.replace(\"Life\",\"Your leg\")"
   ]
  },
  {
   "cell_type": "code",
   "execution_count": 63,
   "id": "9e73428f",
   "metadata": {},
   "outputs": [
    {
     "name": "stdout",
     "output_type": "stream",
     "text": [
      "['Life', 'is', 'too', 'short']\n",
      "['a', 'b', 'c', 'd']\n"
     ]
    }
   ],
   "source": [
    "# 문자열 나누기 : split\n",
    "# default : 공백기준\n",
    "print(a.split())\n",
    "\n",
    "a = \"a:b:c:d\"\n",
    "print(a.split(\":\"))"
   ]
  },
  {
   "cell_type": "code",
   "execution_count": null,
   "id": "478a48bd",
   "metadata": {},
   "outputs": [
    {
     "name": "stdout",
     "output_type": "stream",
     "text": [
      "True\n",
      "False\n",
      "True\n",
      "False\n",
      "False\n",
      "True\n"
     ]
    }
   ],
   "source": [
    "# 문자열 구성 파악\n",
    "\n",
    "print(\"1234\".isdigit())\n",
    "print(\"1234\".isalpha())\n",
    "print(\"1234\".isalnum()) # alpha + num\n",
    "print(\"ABCD\".islower())\n",
    "print(\"abce\".isupper())\n",
    "print(\"    \".isspace())"
   ]
  },
  {
   "cell_type": "code",
   "execution_count": 70,
   "id": "d7be63c4",
   "metadata": {},
   "outputs": [
    {
     "name": "stdout",
     "output_type": "stream",
     "text": [
      "2030/10/20\n",
      "입력한 날짜의 10년 후? 2040년10월20일\n"
     ]
    }
   ],
   "source": [
    "# 사용자에게 2030/10/30 형태로 입력 받은 후 10년 후의 날짜를\n",
    "# 계산후 보여주기\n",
    "\n",
    "date1 = input(\"날짜입력(년/월/일) \")\n",
    "print(date1)\n",
    "\n",
    "pos = date1.find(\"/\")\n",
    "# print(pos)\n",
    "\n",
    "year = int(date1[:pos]) + 10\n",
    "# int + str : TypeError: unsupported operand type\n",
    "print(\"입력한 날짜의 10년 후? %s\" % (str(year) +\"년\" +date1[5:7] +\"월\"+ date1[8:]+\"일\"))"
   ]
  },
  {
   "cell_type": "code",
   "execution_count": 74,
   "id": "7a9edd6d",
   "metadata": {},
   "outputs": [
    {
     "name": "stdout",
     "output_type": "stream",
     "text": [
      "['2030', '10', '20']\n",
      "2030\n",
      "10\n",
      "20\n",
      "입력한 날짜의 10년 후? 2040년10월20일\n"
     ]
    }
   ],
   "source": [
    "data = date1.split(\"/\")\n",
    "print(data)\n",
    "print(data[0])\n",
    "print(data[1])\n",
    "print(data[2])\n",
    "\n",
    "year = int(data[0]) + 10\n",
    "\n",
    "print(\"입력한 날짜의 10년 후? %s\" % (str(year) +\"년\" +data[1] +\"월\"+ data[2]+\"일\"))"
   ]
  },
  {
   "cell_type": "code",
   "execution_count": null,
   "id": "50c7adf1",
   "metadata": {},
   "outputs": [
    {
     "name": "stdout",
     "output_type": "stream",
     "text": [
      "nav51!\n"
     ]
    }
   ],
   "source": [
    "url = \"http://naver.com\"\n",
    "\n",
    "# 암호 생성\n",
    "# 규칙 1 : http:// 부분은 제외\n",
    "data = url[7:]\n",
    "# print(data)\n",
    "# 규칙 2 : 처음 나오는 . 이후 부분은 제외\n",
    "data = data[:data.find(\".\")]\n",
    "\n",
    "# 규칙 3 : 남은 글자 중 세 자리 + 글자 개수 + 글자 내 'e' 개수 + ! 로 구성\n",
    "result = data[:3] + str(len(data)) + str(data.count(\"e\")) + \"!\"\n",
    "print(result)"
   ]
  },
  {
   "cell_type": "code",
   "execution_count": null,
   "id": "c3339ce9",
   "metadata": {},
   "outputs": [],
   "source": []
  }
 ],
 "metadata": {
  "kernelspec": {
   "display_name": "Python 3",
   "language": "python",
   "name": "python3"
  },
  "language_info": {
   "codemirror_mode": {
    "name": "ipython",
    "version": 3
   },
   "file_extension": ".py",
   "mimetype": "text/x-python",
   "name": "python",
   "nbconvert_exporter": "python",
   "pygments_lexer": "ipython3",
   "version": "3.13.3"
  }
 },
 "nbformat": 4,
 "nbformat_minor": 5
}
