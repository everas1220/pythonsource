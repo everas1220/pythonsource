{
 "cells": [
  {
   "cell_type": "markdown",
   "id": "aba8fd8f",
   "metadata": {},
   "source": [
    "### 자료형\n",
    "- 숫자형 : 정수, 실수, 8진수, 16진수"
   ]
  },
  {
   "cell_type": "code",
   "execution_count": 6,
   "id": "a16c0634",
   "metadata": {},
   "outputs": [
    {
     "data": {
      "text/plain": [
       "127"
      ]
     },
     "execution_count": 6,
     "metadata": {},
     "output_type": "execute_result"
    }
   ],
   "source": [
    "a = 123\n",
    "b = -134\n",
    "\n",
    "# 8진수(0o), 16진수(0x)\n",
    "c = 0o177 # 1 * 8의 2 + 7 * 8 + 7\n",
    "c # == print(c)"
   ]
  },
  {
   "cell_type": "code",
   "execution_count": null,
   "id": "ba52482e",
   "metadata": {},
   "outputs": [
    {
     "name": "stdout",
     "output_type": "stream",
     "text": [
      "7\n",
      "-1\n",
      "12\n",
      "0.75\n",
      "0\n",
      "3\n"
     ]
    }
   ],
   "source": [
    "#사칙연산 : +,-,*,/,//,%\n",
    "\n",
    "a=3\n",
    "b=4\n",
    "\n",
    "print(a +b)\n",
    "print(a - b)\n",
    "print(a * b)\n",
    "print(a / b)  # 자바 : 몫, 자바스크립트, 파이썬은 같은 형식\n",
    "print(a // b) # 자바스크립트, 파이썬은 같은 형식 => 몫 \n",
    "print(a % b)"
   ]
  },
  {
   "cell_type": "code",
   "execution_count": 8,
   "id": "005bfaf2",
   "metadata": {},
   "outputs": [],
   "source": [
    "#startwith()"
   ]
  },
  {
   "cell_type": "code",
   "execution_count": 9,
   "id": "56279cc9",
   "metadata": {},
   "outputs": [
    {
     "name": "stdout",
     "output_type": "stream",
     "text": [
      "a,b,c,d,e\n"
     ]
    },
    {
     "ename": "TypeError",
     "evalue": "'builtin_function_or_method' object is not subscriptable",
     "output_type": "error",
     "traceback": [
      "\u001b[31m---------------------------------------------------------------------------\u001b[39m",
      "\u001b[31mTypeError\u001b[39m                                 Traceback (most recent call last)",
      "\u001b[36mCell\u001b[39m\u001b[36m \u001b[39m\u001b[32mIn[9]\u001b[39m\u001b[32m, line 3\u001b[39m\n\u001b[32m      1\u001b[39m \u001b[38;5;66;03m#join : 리스트를 일반 문자열로 변경 시 가장많이 사용\u001b[39;00m\n\u001b[32m      2\u001b[39m \u001b[38;5;28mprint\u001b[39m(\u001b[33m\"\u001b[39m\u001b[33m,\u001b[39m\u001b[33m\"\u001b[39m.join(\u001b[33m\"\u001b[39m\u001b[33mabcde\u001b[39m\u001b[33m\"\u001b[39m))\n\u001b[32m----> \u001b[39m\u001b[32m3\u001b[39m \u001b[38;5;28mprint\u001b[39m(\u001b[33;43m\"\u001b[39;49m\u001b[33;43m,\u001b[39;49m\u001b[33;43m\"\u001b[39;49m\u001b[43m.\u001b[49m\u001b[43mjoin\u001b[49m\u001b[43m[\u001b[49m\u001b[33;43m\"\u001b[39;49m\u001b[33;43mA\u001b[39;49m\u001b[33;43m\"\u001b[39;49m\u001b[43m,\u001b[49m\u001b[33;43m\"\u001b[39;49m\u001b[33;43mB\u001b[39;49m\u001b[33;43m\"\u001b[39;49m\u001b[43m,\u001b[49m\u001b[33;43m\"\u001b[39;49m\u001b[33;43mC\u001b[39;49m\u001b[33;43m\"\u001b[39;49m\u001b[43m,\u001b[49m\u001b[33;43m\"\u001b[39;49m\u001b[33;43mD\u001b[39;49m\u001b[33;43m\"\u001b[39;49m\u001b[43m,\u001b[49m\u001b[33;43m\"\u001b[39;49m\u001b[33;43mE\u001b[39;49m\u001b[33;43m\"\u001b[39;49m\u001b[43m]\u001b[49m)\n",
      "\u001b[31mTypeError\u001b[39m: 'builtin_function_or_method' object is not subscriptable"
     ]
    }
   ],
   "source": [
    "#join : 리스트를 일반 문자열로 변경 시 가장많이 사용\n",
    "print(\",\".join(\"abcde\"))\n",
    "print(\",\".join[\"A\",\"B\",\"C\",\"D\",\"E\"])\n"
   ]
  },
  {
   "cell_type": "code",
   "execution_count": 10,
   "id": "10b50cbe",
   "metadata": {},
   "outputs": [
    {
     "name": "stdout",
     "output_type": "stream",
     "text": [
      "ABCDE\n",
      "abcde\n",
      "aBcDe\n"
     ]
    }
   ],
   "source": [
    "#upper(),lower()\n",
    "#swapcase()\n",
    "a = \"abcde\"\n",
    "print(a.upper())\n",
    "a = \"ABCDE\"\n",
    "print(a.lower())\n",
    "a = \"AbCdE\"\n",
    "print(a.swapcase())"
   ]
  },
  {
   "cell_type": "code",
   "execution_count": 12,
   "id": "0afd23a6",
   "metadata": {},
   "outputs": [
    {
     "name": "stdout",
     "output_type": "stream",
     "text": [
      "               hi\n",
      "<built-in method lstrip of str object at 0x00000284E7B229B0>\n",
      "hi               \n",
      "<built-in method rstrip of str object at 0x00000284E7B21270>\n",
      "      hi         \n",
      "<built-in method strip of str object at 0x00000284E7B53AB0>\n"
     ]
    }
   ],
   "source": [
    "# 공백 제거 lstrip(): 왼쪽 공백 제거 \n",
    "# 공백 제거 rstrip(): 오른쪽 공백 제거 \n",
    "# 공백 제거 strip(): 양쪽 공백 제거 \n",
    "\n",
    "a = \"               hi\"\n",
    "print(a)\n",
    "print(a.lstrip)\n",
    "\n",
    "a = \"hi               \"\n",
    "print(a)\n",
    "print(a.rstrip)\n",
    "\n",
    "a = \"      hi         \"\n",
    "print(a)\n",
    "print(a.strip)\n"
   ]
  },
  {
   "cell_type": "code",
   "execution_count": 13,
   "id": "9229c0a0",
   "metadata": {},
   "outputs": [
    {
     "data": {
      "text/plain": [
       "'List is too short'"
      ]
     },
     "execution_count": 13,
     "metadata": {},
     "output_type": "execute_result"
    }
   ],
   "source": [
    "# 문자열 변경 : replace\n",
    "\n",
    "a = 'List is too short'\n",
    "a.replace(\"Life\",\"Your leg\")"
   ]
  },
  {
   "cell_type": "code",
   "execution_count": 15,
   "id": "260cf3fd",
   "metadata": {},
   "outputs": [
    {
     "name": "stdout",
     "output_type": "stream",
     "text": [
      "['List', 'is', 'too', 'short']\n",
      "['a', 'b', 'c', 'd']\n"
     ]
    }
   ],
   "source": [
    "# 문자열 나누기\n",
    "# default : 공백기준 \n",
    "print(a.split())\n",
    "\n",
    "a = \"a:b:c:d\"\n",
    "print(a.split(\":\"))"
   ]
  },
  {
   "cell_type": "code",
   "execution_count": 16,
   "id": "797ad4fb",
   "metadata": {},
   "outputs": [
    {
     "name": "stdout",
     "output_type": "stream",
     "text": [
      "True\n",
      "False\n",
      "True\n",
      "False\n",
      "False\n",
      "True\n"
     ]
    }
   ],
   "source": [
    "#문자열 구성 파악 \n",
    "\n",
    "print(\"1234\".isdigit())\n",
    "print(\"1234\".isalpha())\n",
    "print(\"1234\".isalnum()) # alpha + num\n",
    "print(\"ABCD\".islower())\n",
    "print(\"abcd\".isupper())\n",
    "print(\"    \".isspace())\n"
   ]
  },
  {
   "cell_type": "markdown",
   "id": "cbe47330",
   "metadata": {},
   "source": [
    "### 입력 .input"
   ]
  },
  {
   "cell_type": "code",
   "execution_count": 18,
   "id": "a239074f",
   "metadata": {},
   "outputs": [
    {
     "name": "stdout",
     "output_type": "stream",
     "text": [
      "<class 'str'>\n"
     ]
    }
   ],
   "source": [
    "num = input(\"숫자입력\")\n",
    "print(type(num))"
   ]
  },
  {
   "cell_type": "code",
   "execution_count": 19,
   "id": "a0e71276",
   "metadata": {},
   "outputs": [
    {
     "name": "stdout",
     "output_type": "stream",
     "text": [
      "15\n"
     ]
    }
   ],
   "source": [
    "# int(문자열)\n",
    "print(int('15'))"
   ]
  },
  {
   "cell_type": "code",
   "execution_count": 20,
   "id": "34fd4295",
   "metadata": {},
   "outputs": [
    {
     "name": "stdout",
     "output_type": "stream",
     "text": [
      "<class 'int'>\n"
     ]
    }
   ],
   "source": [
    "num = input(\"숫자입력\")\n",
    "print(type(int(num)))"
   ]
  },
  {
   "cell_type": "code",
   "execution_count": 21,
   "id": "3d4431b1",
   "metadata": {},
   "outputs": [
    {
     "name": "stdout",
     "output_type": "stream",
     "text": [
      "579\n"
     ]
    }
   ],
   "source": [
    "num1 = int(input(\"num1\"))\n",
    "num2 = int(input(\"num2\"))\n",
    "print(num1+num2)"
   ]
  },
  {
   "cell_type": "code",
   "execution_count": 40,
   "id": "eda2e823",
   "metadata": {},
   "outputs": [
    {
     "name": "stdout",
     "output_type": "stream",
     "text": [
      "2030-10-25\n"
     ]
    },
    {
     "ename": "ValueError",
     "evalue": "invalid literal for int() with base 10: '2030-10-2'",
     "output_type": "error",
     "traceback": [
      "\u001b[31m---------------------------------------------------------------------------\u001b[39m",
      "\u001b[31mValueError\u001b[39m                                Traceback (most recent call last)",
      "\u001b[36mCell\u001b[39m\u001b[36m \u001b[39m\u001b[32mIn[40]\u001b[39m\u001b[32m, line 8\u001b[39m\n\u001b[32m      5\u001b[39m pos = date1.find(\u001b[33m\"\u001b[39m\u001b[33m/\u001b[39m\u001b[33m\"\u001b[39m)\n\u001b[32m      6\u001b[39m \u001b[38;5;66;03m# print(pos)\u001b[39;00m\n\u001b[32m----> \u001b[39m\u001b[32m8\u001b[39m year = \u001b[38;5;28;43mint\u001b[39;49m\u001b[43m(\u001b[49m\u001b[43mdate1\u001b[49m\u001b[43m[\u001b[49m\u001b[43m:\u001b[49m\u001b[43mpos\u001b[49m\u001b[43m]\u001b[49m\u001b[43m)\u001b[49m +\u001b[32m10\u001b[39m\n\u001b[32m      9\u001b[39m \u001b[38;5;28mprint\u001b[39m(\u001b[33m\"\u001b[39m\u001b[33m입력한 날짜의 10년 후? \u001b[39m\u001b[38;5;132;01m%s\u001b[39;00m\u001b[33m\"\u001b[39m % (year + date1[\u001b[32m5\u001b[39m:\u001b[32m7\u001b[39m] + date1[\u001b[32m8\u001b[39m:]))\n",
      "\u001b[31mValueError\u001b[39m: invalid literal for int() with base 10: '2030-10-2'"
     ]
    }
   ],
   "source": [
    "# 사용자에게 2030/10/30 형태로 입력받은후 10년후의 날짜를 계산후 보여주기 \n",
    "date1 = input(\"날짜입력(년/월/일)\")\n",
    "print(date1)\n",
    "\n",
    "pos = date1.find(\"/\")\n",
    "# print(pos)\n",
    "\n",
    "year = int(date1[:pos]) +10\n",
    "print(\"입력한 날짜의 10년 후? %s\" % (year + date1[5:7] + date1[8:]))"
   ]
  },
  {
   "cell_type": "code",
   "execution_count": 49,
   "id": "33a3bee6",
   "metadata": {},
   "outputs": [
    {
     "name": "stdout",
     "output_type": "stream",
     "text": [
      "['2030-10-25']\n",
      "2030-10-25\n"
     ]
    },
    {
     "ename": "IndexError",
     "evalue": "list index out of range",
     "output_type": "error",
     "traceback": [
      "\u001b[31m---------------------------------------------------------------------------\u001b[39m",
      "\u001b[31mIndexError\u001b[39m                                Traceback (most recent call last)",
      "\u001b[36mCell\u001b[39m\u001b[36m \u001b[39m\u001b[32mIn[49]\u001b[39m\u001b[32m, line 4\u001b[39m\n\u001b[32m      2\u001b[39m \u001b[38;5;28mprint\u001b[39m(data)\n\u001b[32m      3\u001b[39m \u001b[38;5;28mprint\u001b[39m(data[\u001b[32m0\u001b[39m])\n\u001b[32m----> \u001b[39m\u001b[32m4\u001b[39m \u001b[38;5;28mprint\u001b[39m(\u001b[43mdata\u001b[49m\u001b[43m[\u001b[49m\u001b[32;43m1\u001b[39;49m\u001b[43m]\u001b[49m)\n\u001b[32m      5\u001b[39m \u001b[38;5;28mprint\u001b[39m(data[\u001b[32m2\u001b[39m])\n\u001b[32m      7\u001b[39m year = \u001b[38;5;28mint\u001b[39m(data[\u001b[32m0\u001b[39m]) + \u001b[32m10\u001b[39m \n",
      "\u001b[31mIndexError\u001b[39m: list index out of range"
     ]
    }
   ],
   "source": [
    "data = date1.split(\"/\")\n",
    "print(data)\n",
    "print(data[0])\n",
    "print(data[1])\n",
    "print(data[2])\n",
    "\n",
    "year = int(data[0]) + 10 \n",
    "\n",
    "print(\"입력한 날짜의 10년 후? %s\" % (year + data[5:7] + data[8:]))"
   ]
  },
  {
   "cell_type": "code",
   "execution_count": 55,
   "id": "865b04e0",
   "metadata": {},
   "outputs": [
    {
     "name": "stdout",
     "output_type": "stream",
     "text": [
      "nav51!\n"
     ]
    }
   ],
   "source": [
    "url = \"http://naver.com\"\n",
    "\n",
    "#암호 생성\n",
    "#규칙 1 : http:// 부분은 제외 \n",
    "data = url[7:]\n",
    "# print(data)\n",
    "#규칙 2 : 처음 나오는 . 이후 부분은 제외\n",
    "data = data[:data.find(\".\")]\n",
    "#규칙 3 : 남은 글자 중 3자리 + 글자 갯수 + 글자 내 'e' 갯수 + ! 로 구성\n",
    "result = data[:3] + str(len(data)) + str(data.count(\"e\")) + \"!\"\n",
    "print(result)\n"
   ]
  }
 ],
 "metadata": {
  "kernelspec": {
   "display_name": "Python 3",
   "language": "python",
   "name": "python3"
  },
  "language_info": {
   "codemirror_mode": {
    "name": "ipython",
    "version": 3
   },
   "file_extension": ".py",
   "mimetype": "text/x-python",
   "name": "python",
   "nbconvert_exporter": "python",
   "pygments_lexer": "ipython3",
   "version": "3.13.3"
  }
 },
 "nbformat": 4,
 "nbformat_minor": 5
}
