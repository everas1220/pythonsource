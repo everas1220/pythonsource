{
 "cells": [
  {
   "cell_type": "markdown",
   "id": "506f59fa",
   "metadata": {},
   "source": [
    "### 함수\n",
    "```\n",
    "def 함수명(매개변수):\n",
    "    수행할문장1\n",
    "    수행할문장2\n",
    "```"
   ]
  },
  {
   "cell_type": "code",
   "execution_count": 1,
   "id": "e5eab5b1",
   "metadata": {},
   "outputs": [],
   "source": [
    "def add(a, b):\n",
    "    return a + b"
   ]
  },
  {
   "cell_type": "code",
   "execution_count": 2,
   "id": "1fe9b13d",
   "metadata": {},
   "outputs": [
    {
     "name": "stdout",
     "output_type": "stream",
     "text": [
      "11\n"
     ]
    }
   ],
   "source": [
    "print(add(5,6))"
   ]
  },
  {
   "cell_type": "code",
   "execution_count": 3,
   "id": "87571a83",
   "metadata": {},
   "outputs": [
    {
     "name": "stdout",
     "output_type": "stream",
     "text": [
      "Hi\n"
     ]
    }
   ],
   "source": [
    "def say():\n",
    "    return \"Hi\"\n",
    "\n",
    "print(say())"
   ]
  },
  {
   "cell_type": "code",
   "execution_count": 4,
   "id": "33e0d15e",
   "metadata": {},
   "outputs": [
    {
     "name": "stdout",
     "output_type": "stream",
     "text": [
      "12\n"
     ]
    }
   ],
   "source": [
    "print(add(a=7, b=5))"
   ]
  },
  {
   "cell_type": "code",
   "execution_count": 6,
   "id": "ebb3ee30",
   "metadata": {},
   "outputs": [],
   "source": [
    "# 기본 매개변수\n",
    "\n",
    "def print_n_times(value, n=2):\n",
    "    for i in range(n):\n",
    "        print(value)"
   ]
  },
  {
   "cell_type": "code",
   "execution_count": 7,
   "id": "20ef206e",
   "metadata": {},
   "outputs": [
    {
     "name": "stdout",
     "output_type": "stream",
     "text": [
      "안녕하세요\n",
      "안녕하세요\n"
     ]
    }
   ],
   "source": [
    "print_n_times(\"안녕하세요\")"
   ]
  },
  {
   "cell_type": "code",
   "execution_count": 8,
   "id": "a5d4a37a",
   "metadata": {},
   "outputs": [
    {
     "name": "stdout",
     "output_type": "stream",
     "text": [
      "안녕하세요\n",
      "안녕하세요\n",
      "안녕하세요\n",
      "안녕하세요\n",
      "안녕하세요\n"
     ]
    }
   ],
   "source": [
    "print_n_times(\"안녕하세요\",5)"
   ]
  },
  {
   "cell_type": "code",
   "execution_count": null,
   "id": "0b0ff5ef",
   "metadata": {},
   "outputs": [],
   "source": [
    "# 가변 매개변수 : *args\n",
    "# 가변 매개변수 뒤에는 일반 매개변수가 올 수 없음(가변 매개변수는 마지막에 선언)\n",
    "# 가변 매개변수는 하나만 사용\n",
    "\n",
    "def add_many(*args):\n",
    "    print(args)\n",
    "\n",
    "# def add_many2(*args,n):\n",
    "#     print(args)"
   ]
  },
  {
   "cell_type": "code",
   "execution_count": 14,
   "id": "b42a2808",
   "metadata": {},
   "outputs": [
    {
     "name": "stdout",
     "output_type": "stream",
     "text": [
      "()\n",
      "('35', '24', '45')\n",
      "('A', 'b', 'C', 'D')\n",
      "([1, 2, 3, 4, 5],)\n"
     ]
    }
   ],
   "source": [
    "add_many()\n",
    "add_many(\"35\",\"24\",\"45\")\n",
    "add_many(\"A\",\"b\",\"C\",\"D\")\n",
    "add_many([1,2,3,4,5])\n",
    "# add_many2([1,2,3,4,5],33)"
   ]
  },
  {
   "cell_type": "code",
   "execution_count": 15,
   "id": "8dccf72b",
   "metadata": {},
   "outputs": [],
   "source": [
    "def add_mul(choice, *args):\n",
    "    if choice == \"add\":\n",
    "        result = 0\n",
    "        for i in args:\n",
    "            result = result + i\n",
    "    elif choice == \"mul\":\n",
    "        result = 1\n",
    "        for i in args:\n",
    "            result = result * i\n",
    "    return result"
   ]
  },
  {
   "cell_type": "code",
   "execution_count": 16,
   "id": "07085f86",
   "metadata": {},
   "outputs": [
    {
     "name": "stdout",
     "output_type": "stream",
     "text": [
      "46\n",
      "17160\n"
     ]
    }
   ],
   "source": [
    "print(add_mul(\"add\", 10,11,12,13))\n",
    "print(add_mul(\"mul\", 10,11,12,13))"
   ]
  },
  {
   "cell_type": "code",
   "execution_count": 17,
   "id": "64e0d3e9",
   "metadata": {},
   "outputs": [],
   "source": [
    "# 키워드 매개변수 : **kwargs\n",
    "# 매개변수를 딕셔너리 형태로 처리\n",
    "\n",
    "def args_func1(**kwargs):\n",
    "    print(kwargs)\n",
    "    for k in kwargs.keys():\n",
    "        print(k)\n",
    "    for v in kwargs.values():\n",
    "        print(v)"
   ]
  },
  {
   "cell_type": "code",
   "execution_count": 18,
   "id": "7fc11716",
   "metadata": {},
   "outputs": [
    {
     "name": "stdout",
     "output_type": "stream",
     "text": [
      "{'name': 'Kim'}\n",
      "name\n",
      "Kim\n",
      "{'name': 'Kim', 'age': 15, 'active': 'Test'}\n",
      "name\n",
      "age\n",
      "active\n",
      "Kim\n",
      "15\n",
      "Test\n",
      "{'name': 'Kim', 'year': 2025}\n",
      "name\n",
      "year\n",
      "Kim\n",
      "2025\n"
     ]
    }
   ],
   "source": [
    "args_func1(name=\"Kim\")\n",
    "args_func1(name=\"Kim\", age=15, active=\"Test\")\n",
    "args_func1(name=\"Kim\", year=2025)"
   ]
  },
  {
   "cell_type": "code",
   "execution_count": 19,
   "id": "6bb5bc4f",
   "metadata": {},
   "outputs": [],
   "source": [
    "def example_mul(arg1, arg2=5, *args, **kwargs):\n",
    "    print(arg1, arg2, args, kwargs)"
   ]
  },
  {
   "cell_type": "code",
   "execution_count": 20,
   "id": "4258a03a",
   "metadata": {},
   "outputs": [
    {
     "name": "stdout",
     "output_type": "stream",
     "text": [
      "10 20 () {}\n",
      "10 5 () {}\n",
      "10 15 ('park', 'kim') {}\n",
      "10 15 ('park', 'kim') {'age': 25, 'name': 'choi'}\n"
     ]
    }
   ],
   "source": [
    "example_mul(10,20)\n",
    "example_mul(10)\n",
    "example_mul(10,15,\"park\",\"kim\")\n",
    "example_mul(10,15,\"park\",\"kim\",age=25,name=\"choi\")"
   ]
  },
  {
   "cell_type": "code",
   "execution_count": null,
   "id": "e9a3c161",
   "metadata": {},
   "outputs": [],
   "source": [
    "# 다중리턴처럼 보이긴 하지만 tuple 로 리턴(리턴값은 하나)\n",
    "\n",
    "def func(a, b):\n",
    "    return a+b, a*b"
   ]
  },
  {
   "cell_type": "code",
   "execution_count": 22,
   "id": "f6226686",
   "metadata": {},
   "outputs": [
    {
     "name": "stdout",
     "output_type": "stream",
     "text": [
      "(11, 30)\n"
     ]
    }
   ],
   "source": [
    "print(func(5,6))"
   ]
  },
  {
   "cell_type": "code",
   "execution_count": 23,
   "id": "53124e47",
   "metadata": {},
   "outputs": [],
   "source": [
    "def func2(a, b):\n",
    "    return [a+b, a*b, a-b]"
   ]
  },
  {
   "cell_type": "code",
   "execution_count": 24,
   "id": "203d7278",
   "metadata": {},
   "outputs": [
    {
     "name": "stdout",
     "output_type": "stream",
     "text": [
      "[17, 66, 5]\n"
     ]
    }
   ],
   "source": [
    "print(func2(11,6))"
   ]
  },
  {
   "cell_type": "code",
   "execution_count": 25,
   "id": "a221b09e",
   "metadata": {},
   "outputs": [],
   "source": [
    "# 두개의 숫자와 연산자를 입력받아 사칙연산(+,-,*,/)의 결과를 리턴하는 함수 작성 \n",
    "\n",
    "def fourRules(x,y,op):\n",
    "    result = 0\n",
    "    if op == \"+\":\n",
    "        result = x + y\n",
    "    elif op == \"-\":\n",
    "        result = x - y\n",
    "    elif op == \"*\":\n",
    "        result = x * y\n",
    "    elif op == \"/\":\n",
    "        result = x / y\n",
    "    return result"
   ]
  },
  {
   "cell_type": "code",
   "execution_count": 26,
   "id": "0c42ee30",
   "metadata": {},
   "outputs": [
    {
     "name": "stdout",
     "output_type": "stream",
     "text": [
      "11\n",
      "9\n",
      "36\n",
      "1.6666666666666667\n"
     ]
    }
   ],
   "source": [
    "print(fourRules(5,6,\"+\"))\n",
    "print(fourRules(15,6,\"-\"))\n",
    "print(fourRules(6,6,\"*\"))\n",
    "print(fourRules(10,6,\"/\"))"
   ]
  },
  {
   "cell_type": "code",
   "execution_count": 29,
   "id": "aaf043ee",
   "metadata": {},
   "outputs": [],
   "source": [
    "# 람다함수\n",
    "# 익명함수\n",
    "\n",
    "def square(x):\n",
    "    return x**2\n",
    "\n",
    "square2 = lambda x:x**2"
   ]
  },
  {
   "cell_type": "code",
   "execution_count": 28,
   "id": "d4843f2d",
   "metadata": {},
   "outputs": [
    {
     "name": "stdout",
     "output_type": "stream",
     "text": [
      "25\n"
     ]
    }
   ],
   "source": [
    "print(square(5))"
   ]
  },
  {
   "cell_type": "code",
   "execution_count": 30,
   "id": "848b7abe",
   "metadata": {},
   "outputs": [
    {
     "name": "stdout",
     "output_type": "stream",
     "text": [
      "<class 'function'>\n"
     ]
    }
   ],
   "source": [
    "print(type(square2))"
   ]
  },
  {
   "cell_type": "code",
   "execution_count": 31,
   "id": "877fea72",
   "metadata": {},
   "outputs": [
    {
     "name": "stdout",
     "output_type": "stream",
     "text": [
      "36\n"
     ]
    }
   ],
   "source": [
    "print(square2(6))"
   ]
  },
  {
   "cell_type": "code",
   "execution_count": 32,
   "id": "5860daf8",
   "metadata": {},
   "outputs": [],
   "source": [
    "def add(a, b):\n",
    "    return a + b\n",
    "\n",
    "add2 = lambda a,b:a+b"
   ]
  },
  {
   "cell_type": "code",
   "execution_count": 33,
   "id": "de56aaf2",
   "metadata": {},
   "outputs": [
    {
     "name": "stdout",
     "output_type": "stream",
     "text": [
      "17\n"
     ]
    }
   ],
   "source": [
    "print(add2(6,11))"
   ]
  },
  {
   "cell_type": "code",
   "execution_count": 34,
   "id": "dec128e8",
   "metadata": {},
   "outputs": [
    {
     "name": "stdout",
     "output_type": "stream",
     "text": [
      "['bob', 'charles', 'alexander3', 'teddy']\n",
      "['alexander3', 'bob', 'charles', 'teddy']\n"
     ]
    }
   ],
   "source": [
    "list1 = [\"bob\",\"charles\",\"alexander3\",\"teddy\"]\n",
    "\n",
    "print(list1)\n",
    "list1.sort() # 알파벳 순서 오름차순\n",
    "print(list1)"
   ]
  },
  {
   "cell_type": "code",
   "execution_count": 35,
   "id": "e65884ce",
   "metadata": {},
   "outputs": [
    {
     "data": {
      "text/plain": [
       "['bob', 'teddy', 'charles', 'alexander3']"
      ]
     },
     "execution_count": 35,
     "metadata": {},
     "output_type": "execute_result"
    }
   ],
   "source": [
    "# 문자의 길이가 짧은 순서대로 정렬\n",
    "def str_len(s):\n",
    "    return len(s)\n",
    "\n",
    "list1.sort(key=str_len)\n",
    "list1"
   ]
  },
  {
   "cell_type": "code",
   "execution_count": 36,
   "id": "d3a9206d",
   "metadata": {},
   "outputs": [
    {
     "data": {
      "text/plain": [
       "['bob', 'teddy', 'charles', 'alexander3']"
      ]
     },
     "execution_count": 36,
     "metadata": {},
     "output_type": "execute_result"
    }
   ],
   "source": [
    "list1 = [\"bob\",\"charles\",\"alexander3\",\"teddy\"]\n",
    "\n",
    "list1.sort(key=lambda s:len(s))\n",
    "list1"
   ]
  },
  {
   "cell_type": "code",
   "execution_count": 38,
   "id": "ca0fc1bf",
   "metadata": {},
   "outputs": [
    {
     "name": "stdout",
     "output_type": "stream",
     "text": [
      "[2, 4, 10, 12, 14]\n"
     ]
    }
   ],
   "source": [
    "# filter, map : 실행 후 새로운 리스트로 반환\n",
    "\n",
    "list1 = [1,2,3,4,5,7,9,10,12,14]\n",
    "\n",
    "# list1에서 짝수만 추출한 후 새로운 리스트로 생성\n",
    "\n",
    "list2 = [x for x in list1 if x % 2 == 0]\n",
    "print(list2)\n",
    "\n",
    "def even(data):\n",
    "    return [x for x in data if x % 2 == 0]"
   ]
  },
  {
   "cell_type": "code",
   "execution_count": 41,
   "id": "47c7fcd4",
   "metadata": {},
   "outputs": [
    {
     "name": "stdout",
     "output_type": "stream",
     "text": [
      "[22, 4, 6, 8]\n",
      "[2, 4, 10, 12, 14]\n"
     ]
    }
   ],
   "source": [
    "print(even([22,3,4,5,6,7,9,8]))\n",
    "print(even(list1))"
   ]
  },
  {
   "cell_type": "code",
   "execution_count": 44,
   "id": "cd853e86",
   "metadata": {},
   "outputs": [
    {
     "data": {
      "text/plain": [
       "[2, 4, 10, 12, 14]"
      ]
     },
     "execution_count": 44,
     "metadata": {},
     "output_type": "execute_result"
    }
   ],
   "source": [
    "# filter(함수,함수적용할 리스트)\n",
    "def even(n):\n",
    "    return n % 2 == 0\n",
    "\n",
    "list(filter(even,list1))"
   ]
  },
  {
   "cell_type": "code",
   "execution_count": 45,
   "id": "a880da07",
   "metadata": {},
   "outputs": [
    {
     "data": {
      "text/plain": [
       "[2, 4, 10, 12, 14]"
      ]
     },
     "execution_count": 45,
     "metadata": {},
     "output_type": "execute_result"
    }
   ],
   "source": [
    "list(filter(lambda n:n%2==0,list1))"
   ]
  },
  {
   "cell_type": "code",
   "execution_count": 46,
   "id": "2438aa81",
   "metadata": {},
   "outputs": [
    {
     "data": {
      "text/plain": [
       "[1, 4, 9, 16, 25, 49, 81, 100, 144, 196]"
      ]
     },
     "execution_count": 46,
     "metadata": {},
     "output_type": "execute_result"
    }
   ],
   "source": [
    "# map(함수,리스트)\n",
    "def mul(x):\n",
    "    return x ** 2\n",
    "\n",
    "list(map(mul, list1))"
   ]
  },
  {
   "cell_type": "code",
   "execution_count": 47,
   "id": "a0516a15",
   "metadata": {},
   "outputs": [
    {
     "data": {
      "text/plain": [
       "[1, 4, 9, 16, 25, 49, 81, 100, 144, 196]"
      ]
     },
     "execution_count": 47,
     "metadata": {},
     "output_type": "execute_result"
    }
   ],
   "source": [
    "list(map(lambda x:x**2, list1))"
   ]
  },
  {
   "cell_type": "code",
   "execution_count": null,
   "id": "1b59d3a9",
   "metadata": {},
   "outputs": [],
   "source": []
  }
 ],
 "metadata": {
  "kernelspec": {
   "display_name": "venv",
   "language": "python",
   "name": "python3"
  },
  "language_info": {
   "codemirror_mode": {
    "name": "ipython",
    "version": 3
   },
   "file_extension": ".py",
   "mimetype": "text/x-python",
   "name": "python",
   "nbconvert_exporter": "python",
   "pygments_lexer": "ipython3",
   "version": "3.13.3"
  }
 },
 "nbformat": 4,
 "nbformat_minor": 5
}
