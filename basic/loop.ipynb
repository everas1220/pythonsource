{
 "cells": [
  {
   "cell_type": "markdown",
   "id": "da14b8bb",
   "metadata": {},
   "source": [
    "### 제어문\n",
    "- if"
   ]
  },
  {
   "cell_type": "code",
   "execution_count": 1,
   "id": "7b3c202d",
   "metadata": {},
   "outputs": [],
   "source": [
    "a = 200\n",
    "if a < 100:\n",
    "    print(\"a 는 100보다 작다\")"
   ]
  },
  {
   "cell_type": "code",
   "execution_count": null,
   "id": "cd873be3",
   "metadata": {},
   "outputs": [
    {
     "name": "stdout",
     "output_type": "stream",
     "text": [
      "a 는 100보다 크고 300보다 작다\n"
     ]
    }
   ],
   "source": [
    "if 100 < a < 300:  # a > 100 and a < 300\n",
    "    print(\"a 는 100보다 크고 300보다 작다\")"
   ]
  },
  {
   "cell_type": "code",
   "execution_count": null,
   "id": "1078d2d9",
   "metadata": {},
   "outputs": [
    {
     "name": "stdout",
     "output_type": "stream",
     "text": [
      "가장 큰 수는 18\n"
     ]
    }
   ],
   "source": [
    "# a=12, b=6, c=18\n",
    "# 가장 큰 수 출력\n",
    "\n",
    "# a=12\n",
    "# b=6\n",
    "# c=18\n",
    "a, b, c = 12,6,18\n",
    "\n",
    "max=a\n",
    "if max < b:\n",
    "    max = b\n",
    "if max < c:\n",
    "    max = c\n",
    "\n",
    "print(f\"가장 큰 수는 {max}\")"
   ]
  },
  {
   "cell_type": "code",
   "execution_count": 4,
   "id": "c924241a",
   "metadata": {},
   "outputs": [
    {
     "name": "stdout",
     "output_type": "stream",
     "text": [
      "a 는 100보다 작다\n"
     ]
    }
   ],
   "source": [
    "if a < 100:\n",
    "    print(\"a 는 100보다 작다\")\n",
    "else:\n",
    "    print(\"a 는 100보다 크다\")"
   ]
  },
  {
   "cell_type": "code",
   "execution_count": null,
   "id": "e9004c53",
   "metadata": {},
   "outputs": [
    {
     "name": "stdout",
     "output_type": "stream",
     "text": [
      "합격\n"
     ]
    }
   ],
   "source": [
    "# &&, || (python 에서는 사용안함) and, or\n",
    "score, grade = 90, \"A\"\n",
    "\n",
    "if score>=90 and grade == \"A\":\n",
    "    print(\"합격\")\n",
    "else:\n",
    "    print(\"불합격\")"
   ]
  },
  {
   "cell_type": "code",
   "execution_count": 6,
   "id": "edd84205",
   "metadata": {},
   "outputs": [
    {
     "name": "stdout",
     "output_type": "stream",
     "text": [
      "홀수\n"
     ]
    }
   ],
   "source": [
    "# 사용자한테 입력받은 숫자가 짝,홀 출력\n",
    "num = int(input(\"숫자 입력 : \"))\n",
    "if num % 2 == 0:\n",
    "    print(\"짝수\")\n",
    "else:\n",
    "    print(\"홀수\")"
   ]
  },
  {
   "cell_type": "code",
   "execution_count": 9,
   "id": "7b37286b",
   "metadata": {},
   "outputs": [
    {
     "name": "stdout",
     "output_type": "stream",
     "text": [
      "등급 A\n"
     ]
    }
   ],
   "source": [
    "# if ~ elif ~ else\n",
    "\n",
    "if score >= 90:\n",
    "    grade = \"A\"\n",
    "elif score >= 80:\n",
    "    grade = \"B\"\n",
    "elif score >= 70:\n",
    "    grade = \"C\"\n",
    "elif score >= 60:\n",
    "    grade = \"D\"\n",
    "else:\n",
    "    grade = \"F\"\n",
    "\n",
    "print(f\"등급 {grade}\")"
   ]
  },
  {
   "cell_type": "code",
   "execution_count": 10,
   "id": "31617876",
   "metadata": {},
   "outputs": [
    {
     "name": "stdout",
     "output_type": "stream",
     "text": [
      "15 + 5 = 20\n"
     ]
    }
   ],
   "source": [
    "# 숫자 두개 입력, 연산자(+,-,*,/,//,%) 입력\n",
    "# 계산기\n",
    "\n",
    "num1 = int(input(\"Num1 입력 : \"))\n",
    "op = input(\"연산자(+,-,*,/,//,%) 입력 : \")\n",
    "num2 = int(input(\"Num2 입력 : \"))\n",
    "\n",
    "result = 0\n",
    "if op == \"+\":\n",
    "    result = num1 + num2\n",
    "elif op == \"-\":\n",
    "    result = num1 - num2\n",
    "elif op == \"*\":\n",
    "    result = num1 * num2\n",
    "elif op == \"/\":\n",
    "    result = num1 / num2\n",
    "elif op == \"//\":\n",
    "    result = num1 // num2\n",
    "elif op == \"%\":\n",
    "    result = num1 % num2\n",
    "else:\n",
    "    print(\"연산자 확인\")\n",
    "\n",
    "print(f\"{num1} {op} {num2} = {result}\")"
   ]
  },
  {
   "cell_type": "code",
   "execution_count": null,
   "id": "cc7b7e4b",
   "metadata": {},
   "outputs": [
    {
     "name": "stdout",
     "output_type": "stream",
     "text": [
      "True\n",
      "True\n"
     ]
    }
   ],
   "source": [
    "# x in 리스트 : x 가 리스트안에 포함되어 있느냐?\n",
    "# x in 문자열 : x 가 문자열안에 포함되어 있느냐?\n",
    "\n",
    "print(1 in [1,2,3])\n",
    "print(\"a\" in \"abc\")"
   ]
  },
  {
   "cell_type": "code",
   "execution_count": 12,
   "id": "44e298d7",
   "metadata": {},
   "outputs": [
    {
     "data": {
      "text/plain": [
       "False"
      ]
     },
     "execution_count": 12,
     "metadata": {},
     "output_type": "execute_result"
    }
   ],
   "source": [
    "1 not in [1,2,3]"
   ]
  },
  {
   "cell_type": "code",
   "execution_count": 14,
   "id": "3ad32890",
   "metadata": {},
   "outputs": [
    {
     "name": "stdout",
     "output_type": "stream",
     "text": [
      "money 있음\n"
     ]
    }
   ],
   "source": [
    "pocket = [\"paper\",\"money\",\"cellphone\"]\n",
    "if \"money\" in pocket:\n",
    "    print('money 있음')"
   ]
  },
  {
   "cell_type": "code",
   "execution_count": 15,
   "id": "1a68ab0a",
   "metadata": {},
   "outputs": [
    {
     "data": {
      "text/plain": [
       "'success'"
      ]
     },
     "execution_count": 15,
     "metadata": {},
     "output_type": "execute_result"
    }
   ],
   "source": [
    "# 파이썬에 삼항 연산자(조건 ? 참:거짓) 는 없음\n",
    "\n",
    "# message = \"\"\n",
    "# if score >= 60:\n",
    "#     message = \"success\"\n",
    "# else:\n",
    "#     message = \"fail\"\n",
    "\n",
    "message = \"success\" if score >= 60 else \"fail\"\n",
    "message"
   ]
  },
  {
   "cell_type": "markdown",
   "id": "750cb4de",
   "metadata": {},
   "source": [
    "### 반복문\n",
    "- while\n",
    "- for"
   ]
  },
  {
   "cell_type": "code",
   "execution_count": 17,
   "id": "cb64a9c1",
   "metadata": {},
   "outputs": [
    {
     "name": "stdout",
     "output_type": "stream",
     "text": [
      "1 2 3 4 5 6 7 8 9 10 "
     ]
    }
   ],
   "source": [
    "i = 1\n",
    "while i < 11:\n",
    "    print(i, end=\" \")\n",
    "    # i++ (X)\n",
    "    i = i + 1"
   ]
  },
  {
   "cell_type": "code",
   "execution_count": 21,
   "id": "f2c95350",
   "metadata": {},
   "outputs": [
    {
     "name": "stdout",
     "output_type": "stream",
     "text": [
      "1~100 합 5050\n"
     ]
    }
   ],
   "source": [
    "# 1 ~ 100 합계\n",
    "i,hap = 1,0\n",
    "while i < 101:\n",
    "    # print(i, end=\" \")\n",
    "    # i++ (X)\n",
    "    hap += i\n",
    "    i = i + 1\n",
    "\n",
    "print(f\"1~100 합 {hap}\")"
   ]
  },
  {
   "cell_type": "code",
   "execution_count": 27,
   "id": "4a5f3a51",
   "metadata": {},
   "outputs": [
    {
     "name": "stdout",
     "output_type": "stream",
     "text": [
      "range(0, 5)\n",
      "[0, 1, 2, 3, 4]\n",
      "10\n",
      "5050\n",
      "5050\n",
      "2500\n"
     ]
    }
   ],
   "source": [
    "print(range(5))\n",
    "print(list(range(5)))\n",
    "print(sum(range(5)))\n",
    "print(sum(range(101)))\n",
    "print(sum(range(1,101)))\n",
    "print(sum(range(1,101,2))) # 1,3,5... (홀수합)"
   ]
  },
  {
   "cell_type": "code",
   "execution_count": 28,
   "id": "41e5df90",
   "metadata": {},
   "outputs": [
    {
     "name": "stdout",
     "output_type": "stream",
     "text": [
      "0 1 2 3 4 5 6 7 8 9 "
     ]
    }
   ],
   "source": [
    "for i in range(10):\n",
    "    print(i, end=\" \")"
   ]
  },
  {
   "cell_type": "code",
   "execution_count": 29,
   "id": "562cd0c9",
   "metadata": {},
   "outputs": [
    {
     "name": "stdout",
     "output_type": "stream",
     "text": [
      "1 2 3 4 5 6 7 8 9 10 "
     ]
    }
   ],
   "source": [
    "for i in range(1,11):\n",
    "    print(i, end=\" \")"
   ]
  },
  {
   "cell_type": "code",
   "execution_count": 30,
   "id": "c1d4c07f",
   "metadata": {},
   "outputs": [
    {
     "name": "stdout",
     "output_type": "stream",
     "text": [
      "1 3 5 7 9 11 13 15 17 19 21 23 25 27 29 31 33 35 37 39 41 43 45 47 49 51 53 55 57 59 61 63 65 67 69 71 73 75 77 79 81 83 85 87 89 91 93 95 97 99 "
     ]
    }
   ],
   "source": [
    "for i in range(1,101,2):\n",
    "    print(i, end=\" \")"
   ]
  },
  {
   "cell_type": "code",
   "execution_count": 31,
   "id": "efbf78dd",
   "metadata": {},
   "outputs": [
    {
     "name": "stdout",
     "output_type": "stream",
     "text": [
      "1 ~ : 55\n"
     ]
    }
   ],
   "source": [
    "# 1 ~ 사용자가 입력한 숫자까지 합계 구하기\n",
    "num = int(input(\"숫자 : \")) + 1\n",
    "\n",
    "hap = 0\n",
    "for i in range(1,num):\n",
    "    hap += i\n",
    "\n",
    "print(f\"1 ~ : {hap}\")"
   ]
  },
  {
   "cell_type": "code",
   "execution_count": 32,
   "id": "5384b067",
   "metadata": {},
   "outputs": [
    {
     "name": "stdout",
     "output_type": "stream",
     "text": [
      "5 4 3 2 1 0 "
     ]
    }
   ],
   "source": [
    "for i in range(5, -1, -1):\n",
    "    print(i, end=\" \")"
   ]
  },
  {
   "cell_type": "code",
   "execution_count": 33,
   "id": "4eec63fe",
   "metadata": {},
   "outputs": [
    {
     "name": "stdout",
     "output_type": "stream",
     "text": [
      "사과\n",
      "딸기\n",
      "바나나\n",
      "포도\n"
     ]
    }
   ],
   "source": [
    "list1 = [\"사과\",\"딸기\",\"바나나\",\"포도\"]\n",
    "\n",
    "# 리스트 출력\n",
    "for fruit in list1:\n",
    "    print(fruit)"
   ]
  },
  {
   "cell_type": "code",
   "execution_count": null,
   "id": "2c0e9e3b",
   "metadata": {},
   "outputs": [
    {
     "name": "stdout",
     "output_type": "stream",
     "text": [
      "사과\n",
      "0 사과\n",
      "딸기\n",
      "1 딸기\n",
      "바나나\n",
      "2 바나나\n",
      "포도\n",
      "3 포도\n"
     ]
    }
   ],
   "source": [
    "# tuple : (0, '사과')\n",
    "\n",
    "# enumerate(리스트,문자열,set,튜플,딕셔너리)\n",
    "\n",
    "for idx,fruit in enumerate(list1):\n",
    "    print(fruit)\n",
    "    print(idx, fruit)"
   ]
  },
  {
   "cell_type": "code",
   "execution_count": 36,
   "id": "5729679f",
   "metadata": {},
   "outputs": [
    {
     "name": "stdout",
     "output_type": "stream",
     "text": [
      "평균 : 78.89\n"
     ]
    }
   ],
   "source": [
    "a_class = [70,60,55,75,95,90,80,85,100]\n",
    "\n",
    "# a_class 의 중간고사 점수에 대해서 평균 구하기\n",
    "total = 0\n",
    "for num in a_class:\n",
    "    total += num\n",
    "\n",
    "print(\"평균 : %.2f\" % (total / len(a_class)))"
   ]
  },
  {
   "cell_type": "code",
   "execution_count": 38,
   "id": "2b470ca9",
   "metadata": {},
   "outputs": [
    {
     "name": "stdout",
     "output_type": "stream",
     "text": [
      "평균 : 78.89\n"
     ]
    }
   ],
   "source": [
    "print(\"평균 : %.2f\" % (sum(a_class) / len(a_class)))"
   ]
  },
  {
   "cell_type": "code",
   "execution_count": null,
   "id": "d97baef2",
   "metadata": {},
   "outputs": [],
   "source": []
  }
 ],
 "metadata": {
  "kernelspec": {
   "display_name": "venv",
   "language": "python",
   "name": "python3"
  },
  "language_info": {
   "codemirror_mode": {
    "name": "ipython",
    "version": 3
   },
   "file_extension": ".py",
   "mimetype": "text/x-python",
   "name": "python",
   "nbconvert_exporter": "python",
   "pygments_lexer": "ipython3",
   "version": "3.13.3"
  }
 },
 "nbformat": 4,
 "nbformat_minor": 5
}
