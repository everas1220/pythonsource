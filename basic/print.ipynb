{
 "cells": [
  {
   "cell_type": "markdown",
   "id": "2e13d8dd",
   "metadata": {},
   "source": [
    "### print : 화면 출력"
   ]
  },
  {
   "cell_type": "code",
   "execution_count": 3,
   "id": "bed82ae8",
   "metadata": {},
   "outputs": [
    {
     "name": "stdout",
     "output_type": "stream",
     "text": [
      "Hello Python!!!\n",
      "100\n",
      "25.3\n",
      "True\n",
      "\n",
      "<class 'str'>\n",
      "<class 'int'>\n",
      "<class 'float'>\n",
      "<class 'bool'>\n"
     ]
    }
   ],
   "source": [
    "print(\"Hello Python!!!\") # '' 도 가능\n",
    "print(100)\n",
    "print(25.3)\n",
    "print(True) #Trur, False\n",
    "print()\n",
    "print(type(\"Hello Python!!!\"))\n",
    "print(type(100))\n",
    "print(type(25.3))\n",
    "print(type(True))  "
   ]
  },
  {
   "cell_type": "code",
   "execution_count": 2,
   "id": "11e02487",
   "metadata": {},
   "outputs": [
    {
     "name": "stdout",
     "output_type": "stream",
     "text": [
      "안녕하세요\n"
     ]
    }
   ],
   "source": [
    "str1 = '안녕하세요'\n",
    "print(str1)"
   ]
  },
  {
   "cell_type": "code",
   "execution_count": 1,
   "id": "08ad0a44",
   "metadata": {},
   "outputs": [
    {
     "name": "stdout",
     "output_type": "stream",
     "text": [
      "T E S T\n",
      "TEST\n",
      "T-E-S-T\n",
      "Welcome To the black prade\n"
     ]
    }
   ],
   "source": [
    "#공백 포함출력\n",
    "print('T','E','S','T')\n",
    "\n",
    "#sep : 문자 사이에 연결 문자열 지정 (default:공백)\n",
    "print('T','E','S','T' , sep=\"\")\n",
    "print('T','E','S','T' , sep=\"-\")\n",
    "\n",
    "#end : print 실행 후 줄바꿈 (default:enter)\n",
    "print(\"Welcome To \", end=\"\")\n",
    "print(\"the black prade\")\n"
   ]
  },
  {
   "cell_type": "code",
   "execution_count": 4,
   "id": "617aefe8",
   "metadata": {},
   "outputs": [
    {
     "data": {
      "text/plain": [
       "'\\n여러 줄 주석\\n코드의 이해를 돕기 위해 사용\\n'"
      ]
     },
     "execution_count": 4,
     "metadata": {},
     "output_type": "execute_result"
    }
   ],
   "source": [
    "\"\"\"\n",
    "여러 줄 주석\n",
    "코드의 이해를 돕기 위해 사용\n",
    "\"\"\""
   ]
  }
 ],
 "metadata": {
  "kernelspec": {
   "display_name": "Python 3",
   "language": "python",
   "name": "python3"
  },
  "language_info": {
   "codemirror_mode": {
    "name": "ipython",
    "version": 3
   },
   "file_extension": ".py",
   "mimetype": "text/x-python",
   "name": "python",
   "nbconvert_exporter": "python",
   "pygments_lexer": "ipython3",
   "version": "3.13.3"
  }
 },
 "nbformat": 4,
 "nbformat_minor": 5
}
