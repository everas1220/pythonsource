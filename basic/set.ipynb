{
 "cells": [
  {
   "cell_type": "markdown",
   "id": "fc7deaca",
   "metadata": {},
   "source": [
    "### Set\n",
    "- 집합자료형\n",
    "- 자바 Set 같은 개념\n",
    "- 중복허용 안함 \n",
    "- 순서가 없음"
   ]
  },
  {
   "cell_type": "code",
   "execution_count": 2,
   "id": "ff2b95a8",
   "metadata": {},
   "outputs": [],
   "source": [
    "# 생성\n",
    "\n",
    "set1 = set()\n",
    "set2 = set([1,2,3,4,5])\n",
    "set3 = set([1,4,5,6,6])"
   ]
  },
  {
   "cell_type": "code",
   "execution_count": 3,
   "id": "0e39f535",
   "metadata": {},
   "outputs": [
    {
     "name": "stdout",
     "output_type": "stream",
     "text": [
      "set()\n",
      "{1, 2, 3, 4, 5}\n",
      "{1, 4, 5, 6}\n"
     ]
    }
   ],
   "source": [
    "print(set1)\n",
    "print(set2)\n",
    "print(set3)"
   ]
  },
  {
   "cell_type": "code",
   "execution_count": 4,
   "id": "809caf9f",
   "metadata": {},
   "outputs": [
    {
     "name": "stdout",
     "output_type": "stream",
     "text": [
      "{1, 2, 3, 4, 5}\n"
     ]
    }
   ],
   "source": [
    "# 다른 자료형으로 변환\n",
    "# list(), set(), dict()\n",
    "\n",
    "t1 = (1,2,3,4,5)\n",
    "set4 = set(t1)\n",
    "print(set4)"
   ]
  },
  {
   "cell_type": "code",
   "execution_count": 5,
   "id": "4535b5c4",
   "metadata": {},
   "outputs": [
    {
     "name": "stdout",
     "output_type": "stream",
     "text": [
      "{'name', 'age', 'no'}\n"
     ]
    }
   ],
   "source": [
    "dict1 = {\"no\":1, \"name\":\"hong\",\"age\":20}\n",
    "set5 = set(dict1)\n",
    "print(set5)"
   ]
  },
  {
   "cell_type": "code",
   "execution_count": 8,
   "id": "b52721a7",
   "metadata": {},
   "outputs": [
    {
     "name": "stdout",
     "output_type": "stream",
     "text": [
      "{'f', 'a', 'c', 'e', 'b', 'g', 'd'}\n"
     ]
    }
   ],
   "source": [
    "set6 = set('abcdefg')\n",
    "print(set6)"
   ]
  },
  {
   "cell_type": "code",
   "execution_count": 11,
   "id": "7bc3e401",
   "metadata": {},
   "outputs": [
    {
     "data": {
      "text/plain": [
       "1"
      ]
     },
     "execution_count": 11,
     "metadata": {},
     "output_type": "execute_result"
    }
   ],
   "source": [
    "# set => tuple\n",
    "t2 = tuple(set4)\n",
    "t2[0]"
   ]
  },
  {
   "cell_type": "code",
   "execution_count": 16,
   "id": "7a22fb42",
   "metadata": {},
   "outputs": [
    {
     "name": "stdout",
     "output_type": "stream",
     "text": [
      "{4, 5, 6}\n",
      "{4, 5, 6}\n",
      "{1, 2, 3}\n",
      "{1, 2, 3}\n",
      "{1, 2, 3, 4, 5, 6, 7, 8, 9}\n",
      "{1, 2, 3, 4, 5, 6, 7, 8, 9}\n"
     ]
    }
   ],
   "source": [
    "s1 = set([1,2,3,4,5,6])\n",
    "s2 = set([4,5,6,7,8,9])\n",
    "\n",
    "# 교집합\n",
    "print(s1 & s2)\n",
    "print(s1.intersection(s2))\n",
    "\n",
    "# 차집합\n",
    "print(s1 - s2)\n",
    "print(s1.difference(s2))\n",
    "\n",
    "# 합집합\n",
    "print(s1 | s2)\n",
    "print(s1.union(s2))\n"
   ]
  },
  {
   "cell_type": "code",
   "execution_count": 17,
   "id": "b277ff56",
   "metadata": {},
   "outputs": [
    {
     "data": {
      "text/plain": [
       "{1, 2, 3, 4, 5, 6, 9}"
      ]
     },
     "execution_count": 17,
     "metadata": {},
     "output_type": "execute_result"
    }
   ],
   "source": [
    "# add() : 1 개의 값만 추가\n",
    "s1.add(9)\n",
    "s1"
   ]
  },
  {
   "cell_type": "code",
   "execution_count": null,
   "id": "99496ce0",
   "metadata": {},
   "outputs": [
    {
     "data": {
      "text/plain": [
       "{1, 2, 3, 4, 5, 6, 9, 10, 11, 12}"
      ]
     },
     "execution_count": 18,
     "metadata": {},
     "output_type": "execute_result"
    }
   ],
   "source": [
    "# update() : 값 여러개 추가\n",
    "s1.update([10,11,12])\n",
    "s1"
   ]
  },
  {
   "cell_type": "code",
   "execution_count": null,
   "id": "55f39071",
   "metadata": {},
   "outputs": [],
   "source": [
    "# remove() : 제거\n",
    "s1.remove(9)"
   ]
  },
  {
   "cell_type": "code",
   "execution_count": 23,
   "id": "6fa2e4e7",
   "metadata": {},
   "outputs": [
    {
     "data": {
      "text/plain": [
       "{1, 2, 3, 4, 5, 6, 10, 11, 12}"
      ]
     },
     "execution_count": 23,
     "metadata": {},
     "output_type": "execute_result"
    }
   ],
   "source": [
    "s1"
   ]
  },
  {
   "cell_type": "code",
   "execution_count": null,
   "id": "57d56819",
   "metadata": {},
   "outputs": [],
   "source": []
  }
 ],
 "metadata": {
  "kernelspec": {
   "display_name": "venv",
   "language": "python",
   "name": "python3"
  },
  "language_info": {
   "codemirror_mode": {
    "name": "ipython",
    "version": 3
   },
   "file_extension": ".py",
   "mimetype": "text/x-python",
   "name": "python",
   "nbconvert_exporter": "python",
   "pygments_lexer": "ipython3",
   "version": "3.13.3"
  }
 },
 "nbformat": 4,
 "nbformat_minor": 5
}
