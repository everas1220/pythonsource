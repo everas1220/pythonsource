{
 "cells": [
  {
   "cell_type": "markdown",
   "id": "a8aaa11a",
   "metadata": {},
   "source": [
    "### DB연동\n",
    "- oracle 연동\n",
    "- pip install oracledb"
   ]
  },
  {
   "cell_type": "code",
   "execution_count": 1,
   "id": "cde8fef3",
   "metadata": {},
   "outputs": [],
   "source": [
    "import oracledb\n",
    "from datetime import datetime"
   ]
  },
  {
   "cell_type": "code",
   "execution_count": 2,
   "id": "a7263097",
   "metadata": {},
   "outputs": [],
   "source": [
    "conn = oracledb.connect(user='c##java',password='12345',dsn='localhost/xe')\n",
    "cursor = conn.cursor()"
   ]
  },
  {
   "cell_type": "code",
   "execution_count": 3,
   "id": "af45c529",
   "metadata": {},
   "outputs": [
    {
     "data": {
      "text/plain": [
       "datetime.datetime(2025, 6, 10, 11, 40, 35, 813235)"
      ]
     },
     "execution_count": 3,
     "metadata": {},
     "output_type": "execute_result"
    }
   ],
   "source": [
    "now = datetime.today()\n",
    "now"
   ]
  },
  {
   "cell_type": "code",
   "execution_count": 4,
   "id": "05a94797",
   "metadata": {},
   "outputs": [
    {
     "data": {
      "text/plain": [
       "<oracledb.Cursor on <oracledb.Connection to c##java@localhost/xe>>"
      ]
     },
     "execution_count": 4,
     "metadata": {},
     "output_type": "execute_result"
    }
   ],
   "source": [
    "sql = \"select * from boardtbl where bno between 1 and 10\"\n",
    "\n",
    "cursor.execute(sql)"
   ]
  },
  {
   "cell_type": "code",
   "execution_count": 5,
   "id": "0a16720f",
   "metadata": {},
   "outputs": [
    {
     "name": "stdout",
     "output_type": "stream",
     "text": [
      "(1, datetime.datetime(2025, 5, 12, 16, 34, 32, 453440), datetime.datetime(2025, 5, 12, 16, 34, 32, 453440), 'Board Content1', 'user4@gmail.com', 'Board Title1')\n",
      "(2, datetime.datetime(2025, 5, 12, 16, 34, 32, 887548), datetime.datetime(2025, 5, 12, 16, 34, 32, 887548), 'Board Content2', 'user1@gmail.com', 'Board Title2')\n",
      "(3, datetime.datetime(2025, 5, 12, 16, 34, 32, 903544), datetime.datetime(2025, 5, 12, 16, 34, 32, 903544), 'Board Content3', 'user7@gmail.com', 'Board Title3')\n",
      "(4, datetime.datetime(2025, 5, 12, 16, 34, 32, 918070), datetime.datetime(2025, 5, 12, 16, 34, 32, 918070), 'Board Content4', 'user9@gmail.com', 'Board Title4')\n",
      "(5, datetime.datetime(2025, 5, 12, 16, 34, 32, 934068), datetime.datetime(2025, 5, 12, 16, 34, 32, 934068), 'Board Content5', 'user10@gmail.com', 'Board Title5')\n",
      "(6, datetime.datetime(2025, 5, 12, 16, 34, 32, 953071), datetime.datetime(2025, 5, 12, 16, 34, 32, 953071), 'Board Content6', 'user8@gmail.com', 'Board Title6')\n",
      "(7, datetime.datetime(2025, 5, 12, 16, 34, 32, 968074), datetime.datetime(2025, 5, 12, 16, 34, 32, 968074), 'Board Content7', 'user5@gmail.com', 'Board Title7')\n",
      "(8, datetime.datetime(2025, 5, 12, 16, 34, 32, 979075), datetime.datetime(2025, 5, 12, 16, 34, 32, 979075), 'Board Content8', 'user10@gmail.com', 'Board Title8')\n",
      "(9, datetime.datetime(2025, 5, 12, 16, 34, 32, 990071), datetime.datetime(2025, 5, 12, 16, 34, 32, 990071), 'Board Content9', 'user10@gmail.com', 'Board Title9')\n",
      "(10, datetime.datetime(2025, 5, 12, 16, 34, 33, 6069), datetime.datetime(2025, 5, 12, 16, 34, 33, 6069), 'Board Content10', 'user2@gmail.com', 'Board Title10')\n"
     ]
    }
   ],
   "source": [
    "for row in cursor.fetchall():\n",
    "    print(row)"
   ]
  },
  {
   "cell_type": "code",
   "execution_count": 8,
   "id": "219208b8",
   "metadata": {},
   "outputs": [
    {
     "data": {
      "text/plain": [
       "(1,\n",
       " datetime.datetime(2025, 5, 12, 16, 34, 32, 453440),\n",
       " datetime.datetime(2025, 5, 12, 16, 34, 32, 453440),\n",
       " 'Board Content1',\n",
       " 'user4@gmail.com',\n",
       " 'Board Title1')"
      ]
     },
     "execution_count": 8,
     "metadata": {},
     "output_type": "execute_result"
    }
   ],
   "source": [
    "# sql = \"select * from boardtbl where bno=:bno\"\n",
    "sql = \"select * from boardtbl where bno=:1\"\n",
    "cursor.execute(sql,(1,))\n",
    "cursor.fetchone()"
   ]
  },
  {
   "cell_type": "code",
   "execution_count": 9,
   "id": "7db2abcc",
   "metadata": {},
   "outputs": [],
   "source": [
    "sql = \"insert into boardtbl(title,content,member_id,created_date,updated_date) \"\n",
    "sql += \"values(:1,:2,:3,:4,:5)\"\n",
    "\n",
    "data = ('python','python data','user1@gmail.com',now,now)\n",
    "cursor.execute(sql,data)\n",
    "conn.commit()"
   ]
  },
  {
   "cell_type": "code",
   "execution_count": 11,
   "id": "f08d94f6",
   "metadata": {},
   "outputs": [],
   "source": [
    "sql = \"update boardtbl set title=:1, updated_date=:2 where bno=:3\"\n",
    "\n",
    "now = datetime.today()\n",
    "\n",
    "cursor.execute(sql,('udpate title',now, 128))\n",
    "conn.commit()"
   ]
  },
  {
   "cell_type": "code",
   "execution_count": 12,
   "id": "6993fc27",
   "metadata": {},
   "outputs": [],
   "source": [
    "sql = \"delete from boardtbl where bno=:1\"\n",
    "cursor.execute(sql,(128,))\n",
    "conn.commit()"
   ]
  },
  {
   "cell_type": "code",
   "execution_count": null,
   "id": "9371671d",
   "metadata": {},
   "outputs": [],
   "source": []
  }
 ],
 "metadata": {
  "kernelspec": {
   "display_name": "venv",
   "language": "python",
   "name": "python3"
  },
  "language_info": {
   "codemirror_mode": {
    "name": "ipython",
    "version": 3
   },
   "file_extension": ".py",
   "mimetype": "text/x-python",
   "name": "python",
   "nbconvert_exporter": "python",
   "pygments_lexer": "ipython3",
   "version": "3.13.3"
  }
 },
 "nbformat": 4,
 "nbformat_minor": 5
}
