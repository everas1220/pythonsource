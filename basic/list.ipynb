{
 "cells": [
  {
   "cell_type": "markdown",
   "id": "8e1f5cac",
   "metadata": {},
   "source": [
    "#### 리스트\n",
    "- java/javascript 의 배열과 개념 동일\n",
    "- javascript의 배열과 동작방식 동일함(데이터를 여러 타입을 담을 수 있음)"
   ]
  },
  {
   "cell_type": "code",
   "execution_count": 1,
   "id": "b887e475",
   "metadata": {},
   "outputs": [],
   "source": [
    "# 리스트 생성\n",
    "# list()\n",
    "\n",
    "list1 = []\n",
    "list2 = [\"a\",\"b\",\"c\",1,2,3]\n",
    "list3 = [1,2,3,4,5.5,6.5]\n",
    "list4 = [1,2,[\"Life\",\"is\",\"short\"]]  # 2차원 리스트\n",
    "list5 = list('34')"
   ]
  },
  {
   "cell_type": "code",
   "execution_count": 4,
   "id": "5246b808",
   "metadata": {},
   "outputs": [
    {
     "name": "stdout",
     "output_type": "stream",
     "text": [
      "[]\n",
      "['a', 'b', 'c', 1, 2, 3]\n",
      "[1, 2, 3, 4, 5.5, 6.5]\n",
      "[1, 2, ['Life', 'is', 'short']]\n",
      "['3', '4']\n"
     ]
    }
   ],
   "source": [
    "print(list1)\n",
    "print(list2)\n",
    "print(list3)\n",
    "print(list4)\n",
    "print(list5)"
   ]
  },
  {
   "cell_type": "markdown",
   "id": "23c17dd6",
   "metadata": {},
   "source": [
    "리스트 인덱싱과 슬라이싱"
   ]
  },
  {
   "cell_type": "code",
   "execution_count": 9,
   "id": "d73937dc",
   "metadata": {},
   "outputs": [
    {
     "name": "stdout",
     "output_type": "stream",
     "text": [
      "a\n",
      "['Life', 'is', 'short']\n",
      "['Life', 'is', 'short']\n",
      "Life\n",
      "4\n"
     ]
    }
   ],
   "source": [
    "print(list2[0])\n",
    "print(list4[2])\n",
    "print(list4[-1])\n",
    "print(list4[-1][0])\n",
    "print(list5[-1])"
   ]
  },
  {
   "cell_type": "code",
   "execution_count": 11,
   "id": "1b3ce8c0",
   "metadata": {},
   "outputs": [
    {
     "name": "stdout",
     "output_type": "stream",
     "text": [
      "is\n",
      "is\n"
     ]
    }
   ],
   "source": [
    "list6 = [1,2,[\"a\",\"b\",[\"Life\",\"is\"]]]\n",
    "\n",
    "# is 글자 출력\n",
    "print(list6[2][2][1])\n",
    "print(list6[-1][-1][-1])"
   ]
  },
  {
   "cell_type": "code",
   "execution_count": 16,
   "id": "8d4452b4",
   "metadata": {},
   "outputs": [
    {
     "name": "stdout",
     "output_type": "stream",
     "text": [
      "['a', 'b', 'c', 1, 2, 3]\n",
      "['a', 'b']\n",
      "['c', 1, 2, 3]\n",
      "[1, 2, ['Life', 'is', 'short']]\n",
      "['Life', 'is']\n"
     ]
    }
   ],
   "source": [
    "print(list2)\n",
    "print(list2[:2])\n",
    "print(list2[2:])\n",
    "\n",
    "print(list4)\n",
    "print(list4[2][:2])"
   ]
  },
  {
   "cell_type": "code",
   "execution_count": null,
   "id": "0a87e748",
   "metadata": {},
   "outputs": [
    {
     "name": "stdout",
     "output_type": "stream",
     "text": [
      "['a', 'b', 'c', 1, 2, 3, 1, 2, 3, 4, 5.5, 6.5]\n",
      "['a', 'b', 'c', 1, 2, 3, 'a', 'b', 'c', 1, 2, 3, 'a', 'b', 'c', 1, 2, 3]\n"
     ]
    }
   ],
   "source": [
    "# + (연결) / * (반복)\n",
    "\n",
    "print(list2 + list3)\n",
    "print(list2 * 3)"
   ]
  },
  {
   "cell_type": "code",
   "execution_count": 23,
   "id": "58db689c",
   "metadata": {},
   "outputs": [
    {
     "name": "stdout",
     "output_type": "stream",
     "text": [
      "['a', 'd', 11, 12, 'c', 1, 2, 3]\n",
      "['a', 10, 11, 12, 11, 12, 'c', 1, 2, 3]\n",
      "['a', [15, 16, 17], 11, 12, 11, 12, 'c', 1, 2, 3]\n"
     ]
    }
   ],
   "source": [
    "list2[1] = 'd'\n",
    "print(list2)\n",
    "\n",
    "list2[1:2] = [10,11,12]\n",
    "print(list2)\n",
    "\n",
    "list2[1] = [15,16,17]\n",
    "print(list2)"
   ]
  },
  {
   "cell_type": "code",
   "execution_count": 25,
   "id": "fa59dd94",
   "metadata": {},
   "outputs": [
    {
     "name": "stdout",
     "output_type": "stream",
     "text": [
      "['a', 11, 12, 11, 12, 'c', 1, 2, 3]\n"
     ]
    }
   ],
   "source": [
    "# 리스트 요소 삭제\n",
    "\n",
    "del list2[1]\n",
    "print(list2)"
   ]
  },
  {
   "cell_type": "code",
   "execution_count": null,
   "id": "2457c046",
   "metadata": {},
   "outputs": [
    {
     "data": {
      "text/plain": [
       "9"
      ]
     },
     "execution_count": 26,
     "metadata": {},
     "output_type": "execute_result"
    }
   ],
   "source": [
    "# len() : 길이\n",
    "\n",
    "len(list2)"
   ]
  },
  {
   "cell_type": "code",
   "execution_count": 28,
   "id": "71f914ca",
   "metadata": {},
   "outputs": [
    {
     "name": "stdout",
     "output_type": "stream",
     "text": [
      "a 11 12 11 12 c 1 2 3 "
     ]
    }
   ],
   "source": [
    "for i in list2:\n",
    "    print(i,end=\" \")"
   ]
  },
  {
   "cell_type": "markdown",
   "id": "eecb711b",
   "metadata": {},
   "source": [
    "리스트 함수"
   ]
  },
  {
   "cell_type": "code",
   "execution_count": 33,
   "id": "ae4bf83e",
   "metadata": {},
   "outputs": [
    {
     "data": {
      "text/plain": [
       "['3', '4', '5', '5', [6, 7, 8], '5', '5', [6, 7, 8]]"
      ]
     },
     "execution_count": 33,
     "metadata": {},
     "output_type": "execute_result"
    }
   ],
   "source": [
    "# append(요소는 하나) : 리스트 뒤에 요소 추가\n",
    "list5.append('5')\n",
    "# list5.append('5','6',7) \n",
    "list5.append([6,7,8])\n",
    "list5"
   ]
  },
  {
   "cell_type": "code",
   "execution_count": 37,
   "id": "c195484c",
   "metadata": {},
   "outputs": [
    {
     "name": "stdout",
     "output_type": "stream",
     "text": [
      "[2, 4, 6, 8, 10, 12, 14, 16, 18, 20, 22, 24, 26, 28, 30, 32, 34, 36, 38, 40, 42, 44, 46, 48, 50, 52, 54, 56, 58, 60, 62, 64, 66, 68, 70, 72, 74, 76, 78, 80, 82, 84, 86, 88, 90, 92, 94, 96, 98, 100]\n"
     ]
    }
   ],
   "source": [
    "# 1 ~ 100 숫자 중에서 짝수만 리스트로 생성\n",
    "# range(시작,종료,증감) : 종료는 포함안함\n",
    "\n",
    "even = []\n",
    "\n",
    "for i in range(2, 101, 2):\n",
    "    #print(i, end=\" \")\n",
    "    even.append(i)\n",
    "print(even)"
   ]
  },
  {
   "cell_type": "code",
   "execution_count": null,
   "id": "c55bf11d",
   "metadata": {},
   "outputs": [
    {
     "data": {
      "text/plain": [
       "[1, 2, 3, 4]"
      ]
     },
     "execution_count": 38,
     "metadata": {},
     "output_type": "execute_result"
    }
   ],
   "source": [
    "# 리스트 원본 정렬 : sort() - 오름차순\n",
    "\n",
    "list1 = [1,4,3,2]\n",
    "list1.sort() \n",
    "list1"
   ]
  },
  {
   "cell_type": "code",
   "execution_count": 41,
   "id": "0f2c6024",
   "metadata": {},
   "outputs": [
    {
     "data": {
      "text/plain": [
       "['b', 'c', 'f', 'z']"
      ]
     },
     "execution_count": 41,
     "metadata": {},
     "output_type": "execute_result"
    }
   ],
   "source": [
    "list2 = ['z','b','c','f']\n",
    "list2.sort()\n",
    "list2"
   ]
  },
  {
   "cell_type": "code",
   "execution_count": null,
   "id": "ce9939b7",
   "metadata": {},
   "outputs": [
    {
     "data": {
      "text/plain": [
       "['A', 'C', 'b', 'f']"
      ]
     },
     "execution_count": 42,
     "metadata": {},
     "output_type": "execute_result"
    }
   ],
   "source": [
    "list2 = ['A','b','C','f']\n",
    "list2.sort() # 대문자 => 소문자\n",
    "list2"
   ]
  },
  {
   "cell_type": "code",
   "execution_count": 44,
   "id": "2415fd85",
   "metadata": {},
   "outputs": [
    {
     "name": "stdout",
     "output_type": "stream",
     "text": [
      "정렬 전  ['A', 'C', 'b', 'f']\n",
      "정렬 후  ['f', 'b', 'C', 'A']\n"
     ]
    }
   ],
   "source": [
    "# sort(reverse=True)\n",
    "print(\"정렬 전 \",list2)\n",
    "list2.sort(reverse=True)\n",
    "print(\"정렬 후 \",list2)"
   ]
  },
  {
   "cell_type": "code",
   "execution_count": null,
   "id": "6bfec025",
   "metadata": {},
   "outputs": [
    {
     "name": "stdout",
     "output_type": "stream",
     "text": [
      "[6.5, 5.5, 4, 3, 2, 1]\n",
      "[1, 2, 3, 4, 5.5, 6.5]\n"
     ]
    }
   ],
   "source": [
    "# reverse() : 리스트 뒤집기\n",
    "\n",
    "print(list3)\n",
    "list3.reverse()\n",
    "print(list3)"
   ]
  },
  {
   "cell_type": "code",
   "execution_count": null,
   "id": "93017e43",
   "metadata": {},
   "outputs": [
    {
     "data": {
      "text/plain": [
       "0"
      ]
     },
     "execution_count": 4,
     "metadata": {},
     "output_type": "execute_result"
    }
   ],
   "source": [
    "# index() : 특정 요소 위치 반환(없는 경우 에러)\n",
    "\n",
    "# list3.index(9)\n",
    "list3.index(1)"
   ]
  },
  {
   "cell_type": "code",
   "execution_count": null,
   "id": "77e4376b",
   "metadata": {},
   "outputs": [],
   "source": [
    "# insert(위치, 요소) : 위치 지정해서 요소 삽입 \n",
    "list3.insert(2, 35)"
   ]
  },
  {
   "cell_type": "code",
   "execution_count": 6,
   "id": "52445ea5",
   "metadata": {},
   "outputs": [
    {
     "data": {
      "text/plain": [
       "[1, 2, 35, 3, 4, 5.5, 6.5]"
      ]
     },
     "execution_count": 6,
     "metadata": {},
     "output_type": "execute_result"
    }
   ],
   "source": [
    "list3"
   ]
  },
  {
   "cell_type": "code",
   "execution_count": null,
   "id": "cab6c77f",
   "metadata": {},
   "outputs": [
    {
     "data": {
      "text/plain": [
       "[1, 2, 35, 3, 5.5, 6.5]"
      ]
     },
     "execution_count": 7,
     "metadata": {},
     "output_type": "execute_result"
    }
   ],
   "source": [
    "# remove() : 첫번째로 나오는 특정 요소 삭제\n",
    "\n",
    "list3.remove(4)\n",
    "list3"
   ]
  },
  {
   "cell_type": "code",
   "execution_count": 8,
   "id": "a8db5de4",
   "metadata": {},
   "outputs": [
    {
     "data": {
      "text/plain": [
       "[1, 2, 35, 3, 5.5]"
      ]
     },
     "execution_count": 8,
     "metadata": {},
     "output_type": "execute_result"
    }
   ],
   "source": [
    "# pop() : 리스트 맨 마지막 요소를 리턴하고 그 요소는 삭제\n",
    "\n",
    "list3.pop()\n",
    "list3"
   ]
  },
  {
   "cell_type": "code",
   "execution_count": 9,
   "id": "0f9f73af",
   "metadata": {},
   "outputs": [
    {
     "data": {
      "text/plain": [
       "[1, 35, 3, 5.5]"
      ]
     },
     "execution_count": 9,
     "metadata": {},
     "output_type": "execute_result"
    }
   ],
   "source": [
    "list3.pop(1)\n",
    "list3"
   ]
  },
  {
   "cell_type": "code",
   "execution_count": null,
   "id": "688c64b7",
   "metadata": {},
   "outputs": [
    {
     "data": {
      "text/plain": [
       "1"
      ]
     },
     "execution_count": 10,
     "metadata": {},
     "output_type": "execute_result"
    }
   ],
   "source": [
    "# count() : 리스트에 포함된 요소 개수 세기\n",
    "\n",
    "list3.count(35)"
   ]
  },
  {
   "cell_type": "code",
   "execution_count": 11,
   "id": "e5519efb",
   "metadata": {},
   "outputs": [
    {
     "data": {
      "text/plain": [
       "[1, 35, 3, 5.5, 4]"
      ]
     },
     "execution_count": 11,
     "metadata": {},
     "output_type": "execute_result"
    }
   ],
   "source": [
    "list3.append(4)\n",
    "list3"
   ]
  },
  {
   "cell_type": "code",
   "execution_count": 12,
   "id": "e49574a7",
   "metadata": {},
   "outputs": [
    {
     "data": {
      "text/plain": [
       "[1, 35, 3, 5.5, 4, [7, 8, 9]]"
      ]
     },
     "execution_count": 12,
     "metadata": {},
     "output_type": "execute_result"
    }
   ],
   "source": [
    "list3.append([7,8,9])\n",
    "list3"
   ]
  },
  {
   "cell_type": "code",
   "execution_count": null,
   "id": "c636e26e",
   "metadata": {},
   "outputs": [
    {
     "data": {
      "text/plain": [
       "[1, 35, 3, 5.5, 4, [7, 8, 9], 16, 17, 18]"
      ]
     },
     "execution_count": 13,
     "metadata": {},
     "output_type": "execute_result"
    }
   ],
   "source": [
    "# extend() : 확장\n",
    "list3.extend([16,17,18])\n",
    "list3"
   ]
  },
  {
   "cell_type": "code",
   "execution_count": null,
   "id": "7cc1d311",
   "metadata": {},
   "outputs": [
    {
     "name": "stdout",
     "output_type": "stream",
     "text": [
      "True\n"
     ]
    }
   ],
   "source": [
    "# 참 : 리스트에 요소를 가지고 있으면 True, \"abc\"\n",
    "# 거짓 : [], \"\"\n",
    "\n",
    "if list2:\n",
    "    print(True)\n",
    "else:\n",
    "    print(False)"
   ]
  },
  {
   "cell_type": "code",
   "execution_count": 16,
   "id": "2b0130cf",
   "metadata": {},
   "outputs": [
    {
     "data": {
      "text/plain": [
       "['a', 'b', 'c', 1, 2, 3]"
      ]
     },
     "execution_count": 16,
     "metadata": {},
     "output_type": "execute_result"
    }
   ],
   "source": [
    "list2"
   ]
  },
  {
   "cell_type": "code",
   "execution_count": 17,
   "id": "93477503",
   "metadata": {},
   "outputs": [
    {
     "data": {
      "text/plain": [
       "[2, 4, 6, 8]"
      ]
     },
     "execution_count": 17,
     "metadata": {},
     "output_type": "execute_result"
    }
   ],
   "source": [
    "# list1 의 각 요소에 * 2 를 한 후 새로운 리스트로 반환\n",
    "list1 = [1,2,3,4]\n",
    "\n",
    "list2 = []\n",
    "for num in list1:\n",
    "    list2.append(num*2)\n",
    "\n",
    "list2"
   ]
  },
  {
   "cell_type": "markdown",
   "id": "d9f81f1e",
   "metadata": {},
   "source": [
    "1 메뉴 선택\n",
    "\n",
    "A 자동차 들어감. 주차장 상태 ==> ['A']\n",
    "B 자동차 들어감. 주차장 상태 ==> ['A','B']\n",
    "....\n",
    "E 자동차 들어감. 주차장 상태 ==> ['A','B','C','D','E']\n",
    "\n",
    "2 메뉴 선택\n",
    "E 자동차 나감. 주차장 상태 ==> ['A','B','C','D']\n",
    "\n"
   ]
  },
  {
   "cell_type": "code",
   "execution_count": null,
   "id": "d9e87451",
   "metadata": {},
   "outputs": [
    {
     "name": "stdout",
     "output_type": "stream",
     "text": [
      "65\n",
      "A\n"
     ]
    }
   ],
   "source": [
    "# 문자 => 유니코드 값\n",
    "print(ord(\"A\"))\n",
    "\n",
    "# 유니코드 값 => 문자\n",
    "print(chr(65))"
   ]
  },
  {
   "cell_type": "code",
   "execution_count": 23,
   "id": "e2ec84c1",
   "metadata": {},
   "outputs": [
    {
     "name": "stdout",
     "output_type": "stream",
     "text": [
      "A 자동차 들어감. 주차장 상태 ==> ['A']\n",
      "B 자동차 들어감. 주차장 상태 ==> ['A', 'B']\n",
      "B 자동차 나감. 주차장 상태 ==> ['A']\n",
      "프로그램 종료\n"
     ]
    }
   ],
   "source": [
    "# 주차장 프로그램 작성\n",
    "\n",
    "parking_lot = []\n",
    "top, car_name = 0, \"A\"\n",
    "\n",
    "while True:\n",
    "    no = int(input(\"[1] 자동차 넣기 | [2] 자동차 빼기 | [3] 종료\"))\n",
    "    \n",
    "    if no <= 3:\n",
    "        if no == 1:\n",
    "            if top >= 5: # 주차장 꽉 찼음 출력\n",
    "                print(\"주차장 꽉 찼음\")\n",
    "            else:\n",
    "                parking_lot.append(car_name)\n",
    "                #A 자동차 들어감. 주차장 상태 ==> ['A']\n",
    "                print(f\"{car_name} 자동차 들어감. 주차장 상태 ==> {parking_lot}\")\n",
    "                top += 1\n",
    "                car_name = chr(ord(car_name) + 1)\n",
    "        elif no == 2:\n",
    "            if top > 0: \n",
    "                outCar = parking_lot.pop()                \n",
    "                print(f\"{outCar} 자동차 나감. 주차장 상태 ==> {parking_lot}\")\n",
    "                top -= 1\n",
    "                car_name = chr(ord(car_name) - 1)\n",
    "            else:\n",
    "                print(\"빠져나갈 자동차가 없음\")  \n",
    "        else:\n",
    "            print(\"프로그램 종료\")\n",
    "            break              \n",
    "    else:\n",
    "        print(\"메뉴를 확인해 주세요\")"
   ]
  },
  {
   "cell_type": "markdown",
   "id": "3179a1b5",
   "metadata": {},
   "source": [
    "### List Comprehension"
   ]
  },
  {
   "cell_type": "code",
   "execution_count": null,
   "id": "6022f74b",
   "metadata": {},
   "outputs": [
    {
     "data": {
      "text/plain": [
       "[2, 4, 6, 8]"
      ]
     },
     "metadata": {},
     "output_type": "display_data"
    }
   ],
   "source": [
    "list3 = [x * 2 for x in list1]\n",
    "list3"
   ]
  },
  {
   "cell_type": "code",
   "execution_count": null,
   "id": "d5c6540f",
   "metadata": {},
   "outputs": [
    {
     "name": "stdout",
     "output_type": "stream",
     "text": [
      "[0, 1, 4, 9, 16]\n"
     ]
    }
   ],
   "source": [
    "print([x * x for x in range(5)])"
   ]
  },
  {
   "cell_type": "code",
   "execution_count": 25,
   "id": "4bae964a",
   "metadata": {},
   "outputs": [
    {
     "name": "stdout",
     "output_type": "stream",
     "text": [
      "['갑', '을', '병']\n"
     ]
    }
   ],
   "source": [
    "list1 = [\"갑\",\"을\",\"병\",\"정\"]\n",
    "# 정 글자만 제외하고 새로운 리스트로 생성하기\n",
    "\n",
    "# list2 = []\n",
    "# for s in list1:\n",
    "#     if s != \"정\":\n",
    "#         list2.append(s)\n",
    "\n",
    "# print(list2)\n",
    "\n",
    "list2 = [s for s in list1 if s != \"정\"]\n",
    "print(list2)"
   ]
  },
  {
   "cell_type": "code",
   "execution_count": null,
   "id": "3c6cec19",
   "metadata": {},
   "outputs": [
    {
     "data": {
      "text/plain": [
       "[1,\n",
       " 3,\n",
       " 5,\n",
       " 7,\n",
       " 9,\n",
       " 11,\n",
       " 13,\n",
       " 15,\n",
       " 17,\n",
       " 19,\n",
       " 21,\n",
       " 23,\n",
       " 25,\n",
       " 27,\n",
       " 29,\n",
       " 31,\n",
       " 33,\n",
       " 35,\n",
       " 37,\n",
       " 39,\n",
       " 41,\n",
       " 43,\n",
       " 45,\n",
       " 47,\n",
       " 49,\n",
       " 51,\n",
       " 53,\n",
       " 55,\n",
       " 57,\n",
       " 59,\n",
       " 61,\n",
       " 63,\n",
       " 65,\n",
       " 67,\n",
       " 69,\n",
       " 71,\n",
       " 73,\n",
       " 75,\n",
       " 77,\n",
       " 79,\n",
       " 81,\n",
       " 83,\n",
       " 85,\n",
       " 87,\n",
       " 89,\n",
       " 91,\n",
       " 93,\n",
       " 95,\n",
       " 97,\n",
       " 99]"
      ]
     },
     "execution_count": 26,
     "metadata": {},
     "output_type": "execute_result"
    }
   ],
   "source": [
    "# 1 ~ 100 숫자 중에서 홀수만 리스트로 생성\n",
    "\n",
    "# list2 = []\n",
    "# for i in range(1,101):\n",
    "#     if i % 2 == 1:\n",
    "#         list2.append(i)\n",
    "\n",
    "# list2 = list(range(1,101,2))\n",
    "\n",
    "list2 = [i for i in range(1,101) if i % 2 == 1]\n",
    "list2"
   ]
  },
  {
   "cell_type": "code",
   "execution_count": null,
   "id": "9eb16113",
   "metadata": {},
   "outputs": [
    {
     "name": "stdout",
     "output_type": "stream",
     "text": [
      "['study', 'python', 'anaconda']\n"
     ]
    }
   ],
   "source": [
    "list1 = [\"nice\",\"study\",\"python\",\"anaconda\",\"!\"]\n",
    "\n",
    "# 5글자 이상의 단어만 새로운 리스트로 생성\n",
    "# list2 = []\n",
    "# for s in list1:\n",
    "#     if len(s) >= 5:\n",
    "#         list2.append(s)\n",
    "\n",
    "\n",
    "list2 = [s for s in list1 if len(s) >= 5]\n",
    "print(list2)"
   ]
  },
  {
   "cell_type": "code",
   "execution_count": 29,
   "id": "dbd0b124",
   "metadata": {},
   "outputs": [
    {
     "name": "stdout",
     "output_type": "stream",
     "text": [
      "[[1, 2, 3], [2, 3, 4], [3, 4, 5]]\n"
     ]
    }
   ],
   "source": [
    "print([[x, x+1, x+2]  for x in [1,2,3]])"
   ]
  },
  {
   "cell_type": "code",
   "execution_count": null,
   "id": "994b7014",
   "metadata": {},
   "outputs": [],
   "source": []
  }
 ],
 "metadata": {
  "kernelspec": {
   "display_name": "venv",
   "language": "python",
   "name": "python3"
  },
  "language_info": {
   "codemirror_mode": {
    "name": "ipython",
    "version": 3
   },
   "file_extension": ".py",
   "mimetype": "text/x-python",
   "name": "python",
   "nbconvert_exporter": "python",
   "pygments_lexer": "ipython3",
   "version": "3.13.3"
  }
 },
 "nbformat": 4,
 "nbformat_minor": 5
}
