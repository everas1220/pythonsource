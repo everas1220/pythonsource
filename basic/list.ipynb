{
 "cells": [
  {
   "cell_type": "markdown",
   "id": "ed73a14e",
   "metadata": {},
   "source": [
    "#### 리스트 \n",
    "- java/javascript 의 배열과 개념 동일 \n",
    "- javascript의 배열과 동작방식이 동일함(데이터 여러타입을 담을수있음)"
   ]
  },
  {
   "cell_type": "code",
   "execution_count": 3,
   "id": "a3eeb013",
   "metadata": {},
   "outputs": [],
   "source": [
    "#리스트 생성 \n",
    "# list()\n",
    "\n",
    "list1 = []\n",
    "list2 = [\"a\",\"b\",\"c\",1,2,3]\n",
    "list3 = [1,2,3,4,5.5,6.5]\n",
    "list4 = [1,2,[\"Life\",\"is\",\"short\"]] # 2차원 리스트\n",
    "list5 = list('34')\n"
   ]
  },
  {
   "cell_type": "code",
   "execution_count": 5,
   "id": "a1af9739",
   "metadata": {},
   "outputs": [
    {
     "name": "stdout",
     "output_type": "stream",
     "text": [
      "[]\n",
      "['a', 'b', 'c', 1, 2, 3]\n",
      "[1, 2, 3, 4, 5.5, 6.5]\n",
      "[1, 2, ['Life', 'is', 'short']]\n",
      "['3', '4']\n"
     ]
    }
   ],
   "source": [
    "print(list1)\n",
    "print(list2)\n",
    "print(list3)\n",
    "print(list4)\n",
    "print(list5)"
   ]
  },
  {
   "cell_type": "code",
   "execution_count": null,
   "id": "92a9a3b2",
   "metadata": {},
   "outputs": [
    {
     "name": "stdout",
     "output_type": "stream",
     "text": [
      "a\n",
      "['Life', 'is', 'short']\n",
      "['Life', 'is', 'short']\n",
      "Life\n",
      "4\n"
     ]
    }
   ],
   "source": [
    "print(list2[0])\n",
    "print(list4[2])\n",
    "print(list4[-1])\n",
    "print(list4[-1][0])\n",
    "print(list5[-1])"
   ]
  },
  {
   "cell_type": "code",
   "execution_count": 12,
   "id": "8bcb5c4e",
   "metadata": {},
   "outputs": [
    {
     "name": "stdout",
     "output_type": "stream",
     "text": [
      "is\n",
      "is\n"
     ]
    }
   ],
   "source": [
    "list6 = [1,2,[\"a\",\"b\",[\"Life\",\"is\"]]]\n",
    "\n",
    "# is 글자 출력\n",
    "print(list6[2][2][1])\n",
    "print(list6[-1][-1][-1])"
   ]
  },
  {
   "cell_type": "code",
   "execution_count": 15,
   "id": "7be4bf56",
   "metadata": {},
   "outputs": [
    {
     "name": "stdout",
     "output_type": "stream",
     "text": [
      "['a', 'b', 'c', 1, 2, 3]\n",
      "['a', 'b']\n",
      "['c', 1, 2, 3]\n",
      "[1, 2, ['Life', 'is', 'short']]\n",
      "['Life', 'is']\n"
     ]
    }
   ],
   "source": [
    "print(list2)\n",
    "print(list2[:2])\n",
    "print(list2[2:])\n",
    "\n",
    "print(list4)\n",
    "print(list4[2][:2])"
   ]
  },
  {
   "cell_type": "code",
   "execution_count": 18,
   "id": "db37ff7e",
   "metadata": {},
   "outputs": [
    {
     "name": "stdout",
     "output_type": "stream",
     "text": [
      "['a', 'b', 'c', 1, 2, 3, 1, 2, 3, 4, 5.5, 6.5]\n",
      "['a', 'b', 'c', 1, 2, 3, 'a', 'b', 'c', 1, 2, 3, 'a', 'b', 'c', 1, 2, 3]\n"
     ]
    }
   ],
   "source": [
    "# + / *\n",
    "print(list2 + list3)\n",
    "print(list2 * 3)"
   ]
  },
  {
   "cell_type": "code",
   "execution_count": 22,
   "id": "2fde8022",
   "metadata": {},
   "outputs": [
    {
     "name": "stdout",
     "output_type": "stream",
     "text": [
      "['a', 'd', 11, 12, 'c', 1, 2, 3]\n",
      "['a', 10, 11, 12, 11, 12, 'c', 1, 2, 3]\n",
      "['a', [15, 16, 17], 11, 12, 11, 12, 'c', 1, 2, 3]\n"
     ]
    }
   ],
   "source": [
    "list2[1] = 'd'\n",
    "print(list2)\n",
    "\n",
    "list2[1:2] = [10,11,12]\n",
    "print(list2)\n",
    "\n",
    "list2[1] = [15,16,17]\n",
    "print(list2)"
   ]
  },
  {
   "cell_type": "code",
   "execution_count": 24,
   "id": "6b35711a",
   "metadata": {},
   "outputs": [
    {
     "name": "stdout",
     "output_type": "stream",
     "text": [
      "['a', 12, 11, 12, 'c', 1, 2, 3]\n"
     ]
    }
   ],
   "source": [
    "del list2[1]\n",
    "print(list2)"
   ]
  },
  {
   "cell_type": "code",
   "execution_count": 26,
   "id": "ba8bed85",
   "metadata": {},
   "outputs": [
    {
     "data": {
      "text/plain": [
       "8"
      ]
     },
     "execution_count": 26,
     "metadata": {},
     "output_type": "execute_result"
    }
   ],
   "source": [
    "# len() : 길이 \n",
    "\n",
    "len(list2)"
   ]
  },
  {
   "cell_type": "code",
   "execution_count": 29,
   "id": "053ba943",
   "metadata": {},
   "outputs": [
    {
     "name": "stdout",
     "output_type": "stream",
     "text": [
      "a 12 11 12 c 1 2 3 "
     ]
    }
   ],
   "source": [
    "for i in list2:\n",
    "    print(i, end=\" \")"
   ]
  },
  {
   "cell_type": "code",
   "execution_count": null,
   "id": "697a8d4f",
   "metadata": {},
   "outputs": [
    {
     "data": {
      "text/plain": [
       "['3', '4', '5', '5', '5', [6, 7, 8]]"
      ]
     },
     "execution_count": 33,
     "metadata": {},
     "output_type": "execute_result"
    }
   ],
   "source": [
    "# append(요소는 하나) : 리스트 뒤에 요소 추가\n",
    "list5.append('5')\n",
    "list5.append([6,7,8])\n",
    "list5"
   ]
  },
  {
   "cell_type": "code",
   "execution_count": 44,
   "id": "50c69fb0",
   "metadata": {},
   "outputs": [
    {
     "name": "stdout",
     "output_type": "stream",
     "text": [
      "[2, 4, 6, 8, 10, 12, 14, 16, 18, 20, 22, 24, 26, 28, 30, 32, 34, 36, 38, 40, 42, 44, 46, 48, 50, 52, 54, 56, 58, 60, 62, 64, 66, 68, 70, 72, 74, 76, 78, 80, 82, 84, 86, 88, 90, 92, 94, 96, 98, 100]\n"
     ]
    }
   ],
   "source": [
    "# 1 ~ 100 숫자 중에서 짝수만 리스트로 생성\n",
    "# range(시작,종료,증감) : 종료는 포함하지않음\n",
    "\n",
    "even = []\n",
    "\n",
    "for i in range(2, 101 , 2):\n",
    "    # print(i,end=\" \")\n",
    "    even.append(i)\n",
    "print(even)\n"
   ]
  },
  {
   "cell_type": "code",
   "execution_count": 45,
   "id": "e76fe13c",
   "metadata": {},
   "outputs": [
    {
     "data": {
      "text/plain": [
       "[1, 2, 3, 4]"
      ]
     },
     "execution_count": 45,
     "metadata": {},
     "output_type": "execute_result"
    }
   ],
   "source": [
    "\n",
    "list1 = [1,4,3,2]\n",
    "list1.sort()\n",
    "list1"
   ]
  },
  {
   "cell_type": "code",
   "execution_count": 50,
   "id": "76c6d9e4",
   "metadata": {},
   "outputs": [
    {
     "data": {
      "text/plain": [
       "['b', 'c', 'f', 'z']"
      ]
     },
     "execution_count": 50,
     "metadata": {},
     "output_type": "execute_result"
    }
   ],
   "source": [
    "list2 =['z','b','c','f']\n",
    "list2.sort()\n",
    "list2"
   ]
  },
  {
   "cell_type": "code",
   "execution_count": 59,
   "id": "c9d84976",
   "metadata": {},
   "outputs": [
    {
     "data": {
      "text/plain": [
       "['A', 'B', 'C', 'F']"
      ]
     },
     "execution_count": 59,
     "metadata": {},
     "output_type": "execute_result"
    }
   ],
   "source": [
    "list2 =['F','B','A','C']\n",
    "list2.sort() # 대문자 => 소문자\n",
    "list2"
   ]
  },
  {
   "cell_type": "code",
   "execution_count": 60,
   "id": "f7c8c4b7",
   "metadata": {},
   "outputs": [
    {
     "name": "stdout",
     "output_type": "stream",
     "text": [
      "정렬 전 ['A', 'B', 'C', 'F']\n",
      "정렬 후 ['F', 'C', 'B', 'A']\n"
     ]
    }
   ],
   "source": [
    "#sort(reverse=True)\n",
    "print(\"정렬 전\",list2)\n",
    "list2.sort(reverse=True)\n",
    "print(\"정렬 후\",list2)\n"
   ]
  },
  {
   "cell_type": "code",
   "execution_count": null,
   "id": "3a5ae9e3",
   "metadata": {},
   "outputs": [
    {
     "name": "stdout",
     "output_type": "stream",
     "text": [
      "[6.5, 5.5, 4, 3, 2, 1]\n",
      "[1, 2, 3, 4, 5.5, 6.5]\n"
     ]
    }
   ],
   "source": [
    "# reverse() : 리스트 뒤집기\n",
    "\n",
    "print(list3)\n",
    "list3.reverse()\n",
    "print(list3)\n"
   ]
  }
 ],
 "metadata": {
  "kernelspec": {
   "display_name": "Python 3",
   "language": "python",
   "name": "python3"
  },
  "language_info": {
   "codemirror_mode": {
    "name": "ipython",
    "version": 3
   },
   "file_extension": ".py",
   "mimetype": "text/x-python",
   "name": "python",
   "nbconvert_exporter": "python",
   "pygments_lexer": "ipython3",
   "version": "3.13.3"
  }
 },
 "nbformat": 4,
 "nbformat_minor": 5
}
