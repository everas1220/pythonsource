{
 "cells": [
  {
   "cell_type": "markdown",
   "id": "b2e8aa60",
   "metadata": {},
   "source": [
    "### 딕셔너리\n",
    "- 자바의 map 과 같은 개념\n",
    "- {key:value}"
   ]
  },
  {
   "cell_type": "code",
   "execution_count": 1,
   "id": "6a1c7491",
   "metadata": {},
   "outputs": [],
   "source": [
    "dict1 = {\"name\":\"Kim\", \"age\":12}\n",
    "dict2 = {0:\"Kim\", 1:12}\n",
    "dict3 = {\"arr\": [1,2,3,4,5]}"
   ]
  },
  {
   "cell_type": "code",
   "execution_count": 2,
   "id": "3569c195",
   "metadata": {},
   "outputs": [
    {
     "name": "stdout",
     "output_type": "stream",
     "text": [
      "{'name': 'Kim', 'age': 12}\n",
      "Kim\n",
      "[1, 2, 3, 4, 5]\n"
     ]
    }
   ],
   "source": [
    "print(dict1)\n",
    "print(dict1[\"name\"])\n",
    "print(dict3[\"arr\"])"
   ]
  },
  {
   "cell_type": "code",
   "execution_count": 3,
   "id": "67b311c8",
   "metadata": {},
   "outputs": [
    {
     "name": "stdout",
     "output_type": "stream",
     "text": [
      "{'arr': [1, 2, 3, 4, 5], 'rank': (16, 17, 18)}\n"
     ]
    }
   ],
   "source": [
    "# 추가\n",
    "dict3[\"rank\"] = (16,17,18)\n",
    "print(dict3)"
   ]
  },
  {
   "cell_type": "code",
   "execution_count": 4,
   "id": "7a593152",
   "metadata": {},
   "outputs": [
    {
     "name": "stdout",
     "output_type": "stream",
     "text": [
      "{1: 3, 2: 4, 6: 1, 8: 2, 4: 3, 3: 3, 9: 3, 5: 2, 7: 2}\n"
     ]
    }
   ],
   "source": [
    "# numbers 내부에 들어있는 숫자가 몇번 등장하는 지 dict 구조로 생성\n",
    "\n",
    "numbers = [1,2,6,8,4,3,2,1,9,5,4,9,7,2,1,3,5,4,8,9,7,2,3]\n",
    "counter = {}\n",
    "\n",
    "# {1:3, 2:4, 6:1}\n",
    "\n",
    "for num in numbers:\n",
    "    counter[num] = numbers.count(num)\n",
    "\n",
    "print(counter)"
   ]
  },
  {
   "cell_type": "code",
   "execution_count": 5,
   "id": "7835a13a",
   "metadata": {},
   "outputs": [
    {
     "name": "stdout",
     "output_type": "stream",
     "text": [
      "{'name': 'Kim'}\n"
     ]
    }
   ],
   "source": [
    "# 삭제\n",
    "\n",
    "del dict1[\"age\"]\n",
    "print(dict1)"
   ]
  },
  {
   "cell_type": "code",
   "execution_count": 6,
   "id": "66d91652",
   "metadata": {},
   "outputs": [
    {
     "name": "stdout",
     "output_type": "stream",
     "text": [
      "None\n"
     ]
    }
   ],
   "source": [
    "# get()\n",
    "\n",
    "# print(dict1[\"age\"])\n",
    "print(dict1.get(\"age\"))  # None"
   ]
  },
  {
   "cell_type": "code",
   "execution_count": 7,
   "id": "3ad6cce2",
   "metadata": {},
   "outputs": [
    {
     "name": "stdout",
     "output_type": "stream",
     "text": [
      "dict_keys(['name'])\n",
      "dict_values(['Kim'])\n",
      "dict_items([('name', 'Kim')])\n"
     ]
    }
   ],
   "source": [
    "# keys(), values(), items()\n",
    "\n",
    "print(dict1.keys())  # key 값 가져오기\n",
    "print(dict1.values()) # value 값 가져오기\n",
    "print(dict1.items())  # key,value 가져오기"
   ]
  },
  {
   "cell_type": "code",
   "execution_count": null,
   "id": "c793f079",
   "metadata": {},
   "outputs": [
    {
     "name": "stdout",
     "output_type": "stream",
     "text": [
      "name\n"
     ]
    }
   ],
   "source": [
    "# 키 출력\n",
    "\n",
    "for k in dict1.keys():\n",
    "    print(k)"
   ]
  },
  {
   "cell_type": "code",
   "execution_count": 9,
   "id": "3fd6adb9",
   "metadata": {},
   "outputs": [
    {
     "name": "stdout",
     "output_type": "stream",
     "text": [
      "0 Kim\n",
      "1 12\n"
     ]
    }
   ],
   "source": [
    "# key,value 출력\n",
    "\n",
    "for k,v in dict2.items():\n",
    "    print(k,v)"
   ]
  },
  {
   "cell_type": "code",
   "execution_count": 10,
   "id": "2bbf5060",
   "metadata": {},
   "outputs": [
    {
     "name": "stdout",
     "output_type": "stream",
     "text": [
      "포함됨\n"
     ]
    }
   ],
   "source": [
    "dict4 = {\"봄\":\"딸기\",\"여름\":\"토마토\",\"가을\":\"사과\",\"겨울\":\"바나나\"}\n",
    "\n",
    "# value에 사과 가 포함되었는지 확인\n",
    "for v in dict4.values():\n",
    "    if v == \"사과\":\n",
    "        print(\"포함됨\")\n",
    "        break"
   ]
  },
  {
   "cell_type": "code",
   "execution_count": 11,
   "id": "aa598361",
   "metadata": {},
   "outputs": [
    {
     "name": "stdout",
     "output_type": "stream",
     "text": [
      "포함됨\n"
     ]
    }
   ],
   "source": [
    "if \"사과\" in dict4.values():\n",
    "    print(\"포함됨\")\n",
    "else:\n",
    "    print(\"포함되지 않음\")"
   ]
  },
  {
   "cell_type": "code",
   "execution_count": 12,
   "id": "b314beb5",
   "metadata": {},
   "outputs": [
    {
     "data": {
      "text/plain": [
       "{'딸기', '바나나', '사과', '토마토'}"
      ]
     },
     "execution_count": 12,
     "metadata": {},
     "output_type": "execute_result"
    }
   ],
   "source": [
    "fruits = {v for v in dict4.values()}\n",
    "fruits"
   ]
  },
  {
   "cell_type": "code",
   "execution_count": 13,
   "id": "25952bf1",
   "metadata": {},
   "outputs": [
    {
     "data": {
      "text/plain": [
       "['딸기', '토마토', '사과', '바나나']"
      ]
     },
     "execution_count": 13,
     "metadata": {},
     "output_type": "execute_result"
    }
   ],
   "source": [
    "fruits = [v for v in dict4.values()]\n",
    "fruits"
   ]
  },
  {
   "cell_type": "code",
   "execution_count": 14,
   "id": "7b93c485",
   "metadata": {},
   "outputs": [
    {
     "data": {
      "text/plain": [
       "['딸기', '토마토', '바나나']"
      ]
     },
     "execution_count": 14,
     "metadata": {},
     "output_type": "execute_result"
    }
   ],
   "source": [
    "fruits = [v for v in dict4.values() if v != \"사과\"]\n",
    "fruits"
   ]
  },
  {
   "cell_type": "code",
   "execution_count": 15,
   "id": "ca309d2f",
   "metadata": {},
   "outputs": [
    {
     "data": {
      "text/plain": [
       "{('겨울', '바나나'), ('봄', '딸기'), ('여름', '토마토')}"
      ]
     },
     "execution_count": 15,
     "metadata": {},
     "output_type": "execute_result"
    }
   ],
   "source": [
    "fruits = {(k,v) for k,v in dict4.items() if v != \"사과\"}\n",
    "fruits"
   ]
  },
  {
   "cell_type": "code",
   "execution_count": 19,
   "id": "b2cbc070",
   "metadata": {},
   "outputs": [],
   "source": [
    "# 딕셔너리 생성 - dict1\n",
    "# A:90, B:80, C:70  \n",
    "dict1 = {\"A\":90, \"B\":80, \"C\":70}"
   ]
  },
  {
   "cell_type": "code",
   "execution_count": null,
   "id": "c482ee91",
   "metadata": {},
   "outputs": [
    {
     "name": "stdout",
     "output_type": "stream",
     "text": [
      "80\n",
      "80\n"
     ]
    }
   ],
   "source": [
    "# 생성된 dict1 에서 키가 B 인 값만 출력\n",
    "print(dict1[\"B\"])\n",
    "print(dict1.get(\"B\"))"
   ]
  },
  {
   "cell_type": "code",
   "execution_count": null,
   "id": "9523b08b",
   "metadata": {},
   "outputs": [],
   "source": [
    "# 딕셔너리 생성 - dict2\n",
    "# 성인:10000, 청소년:7000, 아동:3000\n",
    "\n",
    "dict2 = {\"성인\":10000, \"청소년\":7000, \"아동\":3000}"
   ]
  },
  {
   "cell_type": "code",
   "execution_count": 23,
   "id": "d8de008a",
   "metadata": {},
   "outputs": [
    {
     "name": "stdout",
     "output_type": "stream",
     "text": [
      "dict_keys(['성인', '청소년', '아동', '소아'])\n",
      "dict_values([10000, 7000, 3000, 0])\n"
     ]
    }
   ],
   "source": [
    "# dict2에 새로운 요소 추가\n",
    "# 소아 : 0\n",
    "dict2[\"소아\"] = 0\n",
    "\n",
    "# key 항목만 출력\n",
    "print(dict2.keys())\n",
    "\n",
    "# value 항목만 출력\n",
    "print(dict2.values())"
   ]
  },
  {
   "cell_type": "code",
   "execution_count": null,
   "id": "00ea5ab5",
   "metadata": {},
   "outputs": [],
   "source": []
  }
 ],
 "metadata": {
  "kernelspec": {
   "display_name": "venv",
   "language": "python",
   "name": "python3"
  },
  "language_info": {
   "codemirror_mode": {
    "name": "ipython",
    "version": 3
   },
   "file_extension": ".py",
   "mimetype": "text/x-python",
   "name": "python",
   "nbconvert_exporter": "python",
   "pygments_lexer": "ipython3",
   "version": "3.13.3"
  }
 },
 "nbformat": 4,
 "nbformat_minor": 5
}
