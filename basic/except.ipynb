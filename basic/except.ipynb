{
 "cells": [
  {
   "cell_type": "markdown",
   "id": "da50445c",
   "metadata": {},
   "source": [
    "### 예외\n",
    "- SyntaxError : 문법 에러\n",
    "- RuntimeError : 실행 중 에러\n",
    "```\n",
    "try:\n",
    "   에러가 발생할 가능성이 있는 코드\n",
    "except NameError as e:\n",
    "   NameError 가 발생할 경우 처리할 구문\n",
    "else:\n",
    "   error이 발생하지 않았을 경우 실행할 코드\n",
    "finally:\n",
    "   error과 상관없이 무조건 실행할 코드\n",
    "```\n"
   ]
  },
  {
   "cell_type": "code",
   "execution_count": 5,
   "id": "b470d2f8",
   "metadata": {},
   "outputs": [],
   "source": [
    "a, b = 10,15\n",
    "\n",
    "# NameError : 변수 선언 안함\n",
    "# print(c)\n",
    "\n",
    "# ZeroDivisionError\n",
    "# print(10 / 0)\n",
    "\n",
    "x = [10,20,30]\n",
    "\n",
    "# IndexError\n",
    "# print(x[3])\n",
    "\n",
    "dic1 = {\"name\":\"kim\",\"age\":33, \"city\":\"seoul\"}\n",
    "\n",
    "# KeyError\n",
    "# print(dic1[\"hobby\"])"
   ]
  },
  {
   "cell_type": "code",
   "execution_count": 6,
   "id": "1f252096",
   "metadata": {},
   "outputs": [
    {
     "name": "stdout",
     "output_type": "stream",
     "text": [
      "못찾았음\n"
     ]
    }
   ],
   "source": [
    "names = [\"Kim\",\"Park\",\"Lee\"]\n",
    "\n",
    "try:\n",
    "    z = \"Let\"\n",
    "    idx = names.index(z)\n",
    "    print(f\"{z} 찾았음 {idx+1} 위치\")\n",
    "except:\n",
    "    print(\"못찾았음\")"
   ]
  },
  {
   "cell_type": "code",
   "execution_count": 8,
   "id": "f6a58f75",
   "metadata": {},
   "outputs": [
    {
     "name": "stdout",
     "output_type": "stream",
     "text": [
      "못찾았음\n"
     ]
    }
   ],
   "source": [
    "try:\n",
    "    z = \"Let\"\n",
    "    idx = names.index(z)\n",
    "    print(f\"{z} 찾았음 {idx+1} 위치\")\n",
    "except ValueError:\n",
    "    print(\"못찾았음\")"
   ]
  },
  {
   "cell_type": "code",
   "execution_count": 9,
   "id": "8d0afa28",
   "metadata": {},
   "outputs": [
    {
     "name": "stdout",
     "output_type": "stream",
     "text": [
      "키를 확인해 주세요\n"
     ]
    }
   ],
   "source": [
    "try:\n",
    "    print(dic1[\"hobby\"])\n",
    "except KeyError:\n",
    "    print(\"키를 확인해 주세요\")"
   ]
  },
  {
   "cell_type": "code",
   "execution_count": 10,
   "id": "0994920c",
   "metadata": {},
   "outputs": [
    {
     "name": "stdout",
     "output_type": "stream",
     "text": [
      "Kim 찾았음 1 위치\n"
     ]
    }
   ],
   "source": [
    "try:\n",
    "    z = \"Kim\"\n",
    "    idx = names.index(z)\n",
    "except ValueError:\n",
    "    print(\"못찾았음\")\n",
    "else:\n",
    "    print(f\"{z} 찾았음 {idx+1} 위치\")\n"
   ]
  },
  {
   "cell_type": "code",
   "execution_count": 11,
   "id": "3e94c53f",
   "metadata": {},
   "outputs": [
    {
     "name": "stdout",
     "output_type": "stream",
     "text": [
      "Kim 찾았음 1 위치\n"
     ]
    }
   ],
   "source": [
    "try:\n",
    "    z = \"Kim\"\n",
    "    idx = names.index(z)\n",
    "    print(f\"{z} 찾았음 {idx+1} 위치\")\n",
    "except ValueError:\n",
    "    print(\"못찾았음\")"
   ]
  },
  {
   "cell_type": "code",
   "execution_count": 12,
   "id": "ca47237b",
   "metadata": {},
   "outputs": [
    {
     "name": "stdout",
     "output_type": "stream",
     "text": [
      "Kim 찾았음 1 위치\n"
     ]
    }
   ],
   "source": [
    "try:\n",
    "    z = \"Kim\"\n",
    "    idx = names.index(z)\n",
    "except Exception:\n",
    "    print(\"못찾았음\")\n",
    "else:\n",
    "    print(f\"{z} 찾았음 {idx+1} 위치\")"
   ]
  },
  {
   "cell_type": "code",
   "execution_count": 14,
   "id": "d8d97a1a",
   "metadata": {},
   "outputs": [
    {
     "name": "stdout",
     "output_type": "stream",
     "text": [
      "못찾았음\n",
      "Ok\n"
     ]
    }
   ],
   "source": [
    "try:\n",
    "    z = \"Let\"\n",
    "    idx = names.index(z)\n",
    "except Exception:\n",
    "    print(\"못찾았음\")\n",
    "else:\n",
    "    print(f\"{z} 찾았음 {idx+1} 위치\")\n",
    "finally:\n",
    "    print(\"Ok\")"
   ]
  },
  {
   "cell_type": "code",
   "execution_count": 15,
   "id": "a8840bec",
   "metadata": {},
   "outputs": [
    {
     "name": "stdout",
     "output_type": "stream",
     "text": [
      "문제발생\n"
     ]
    }
   ],
   "source": [
    "# 예외 직접 발생 : raise\n",
    "\n",
    "try:\n",
    "    a = \"333\"\n",
    "    if a == \"Kim\":\n",
    "        print(\"허가\")\n",
    "    else:\n",
    "        raise ValueError\n",
    "except ValueError:\n",
    "    print(\"문제발생\")\n",
    "except Exception as e:\n",
    "    print(e)\n",
    "else:\n",
    "    print(\"Ok\")"
   ]
  },
  {
   "cell_type": "code",
   "execution_count": null,
   "id": "f5d1ec05",
   "metadata": {},
   "outputs": [],
   "source": []
  }
 ],
 "metadata": {
  "kernelspec": {
   "display_name": "venv",
   "language": "python",
   "name": "python3"
  },
  "language_info": {
   "codemirror_mode": {
    "name": "ipython",
    "version": 3
   },
   "file_extension": ".py",
   "mimetype": "text/x-python",
   "name": "python",
   "nbconvert_exporter": "python",
   "pygments_lexer": "ipython3",
   "version": "3.13.3"
  }
 },
 "nbformat": 4,
 "nbformat_minor": 5
}
