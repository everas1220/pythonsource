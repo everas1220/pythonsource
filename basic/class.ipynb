{
 "cells": [
  {
   "cell_type": "code",
   "execution_count": null,
   "id": "395d4cd0",
   "metadata": {},
   "outputs": [],
   "source": [
    "class UserInfo:\n",
    "    # self : 인스턴스 메소드일 때\n",
    "    def user_info(self):\n",
    "        print(\"메소드 실행\")"
   ]
  },
  {
   "cell_type": "code",
   "execution_count": 2,
   "id": "57f34be0",
   "metadata": {},
   "outputs": [
    {
     "name": "stdout",
     "output_type": "stream",
     "text": [
      "메소드 실행\n"
     ]
    }
   ],
   "source": [
    "# 객체 생성\n",
    "user1 = UserInfo()\n",
    "user1.user_info()"
   ]
  },
  {
   "cell_type": "code",
   "execution_count": 7,
   "id": "18a46534",
   "metadata": {},
   "outputs": [],
   "source": [
    "class Car:\n",
    "    color = \"\"\n",
    "    speed = 0\n",
    "\n",
    "    def upSpeed(self, value):\n",
    "        self.speed += value\n",
    "\n",
    "    def downSpeed(self, value):\n",
    "        self.speed -= value\n",
    "\n",
    "    def __str__(self):  # java toString()\n",
    "        return f\"color {self.color}, speed {self.speed}\""
   ]
  },
  {
   "cell_type": "code",
   "execution_count": 8,
   "id": "e9e5f89f",
   "metadata": {},
   "outputs": [
    {
     "name": "stdout",
     "output_type": "stream",
     "text": [
      "myCar1 color Red, speed 10, color Red speed 10\n",
      "myCar2 color Blue, speed 50, color Blue speed 50\n"
     ]
    }
   ],
   "source": [
    "myCar1 = Car()\n",
    "myCar1.speed = 10\n",
    "myCar1.color =\"Red\"\n",
    "print(f\"myCar1 {myCar1}, color {myCar1.color} speed {myCar1.speed}\")\n",
    "\n",
    "myCar2 = Car()\n",
    "myCar2.speed = 50\n",
    "myCar2.color = \"Blue\"\n",
    "print(f\"myCar2 {myCar2}, color {myCar2.color} speed {myCar2.speed}\")"
   ]
  },
  {
   "cell_type": "code",
   "execution_count": 9,
   "id": "1cb80ae1",
   "metadata": {},
   "outputs": [],
   "source": [
    "class UserInfo:\n",
    "    # 생성자\n",
    "    def __init__(self):\n",
    "        self.name = \"홍길동\"\n",
    "        self.age = 25\n",
    "\n",
    "    def user_info(self):\n",
    "        print(\"메소드 실행\")\n",
    "\n",
    "    def __str__(self):\n",
    "        return f\"name : {self.name}, age : {self.age}\""
   ]
  },
  {
   "cell_type": "code",
   "execution_count": 10,
   "id": "3cf22026",
   "metadata": {},
   "outputs": [
    {
     "name": "stdout",
     "output_type": "stream",
     "text": [
      "name : 홍길동, age : 25\n"
     ]
    }
   ],
   "source": [
    "info = UserInfo()\n",
    "print(info)"
   ]
  },
  {
   "cell_type": "code",
   "execution_count": 13,
   "id": "83851b86",
   "metadata": {},
   "outputs": [],
   "source": [
    "class UserInfo:\n",
    "    # 생성자\n",
    "    def __init__(self,name=\"홍길동\",age=25):\n",
    "        self.name = name\n",
    "        self.age = age\n",
    "\n",
    "    def user_info(self):\n",
    "        print(\"메소드 실행\")\n",
    "\n",
    "    def __str__(self):\n",
    "        return f\"name : {self.name}, age : {self.age}\""
   ]
  },
  {
   "cell_type": "code",
   "execution_count": 15,
   "id": "00e81157",
   "metadata": {},
   "outputs": [
    {
     "name": "stdout",
     "output_type": "stream",
     "text": [
      "name : 김중원, age : 30\n"
     ]
    }
   ],
   "source": [
    "info = UserInfo(\"김중원\",30)\n",
    "print(info)"
   ]
  },
  {
   "cell_type": "code",
   "execution_count": null,
   "id": "970b94e6",
   "metadata": {},
   "outputs": [],
   "source": [
    "class Car:\n",
    "    def __init__(self,color,speed):\n",
    "        self.color = color\n",
    "        self.speed = speed \n",
    "\n",
    "    def upSpeed(self, value):\n",
    "        self.speed += value\n",
    "\n",
    "    def downSpeed(self, value):\n",
    "        self.speed -= value\n",
    "\n",
    "    def __str__(self):  # java toString()\n",
    "        return f\"color {self.color}, speed {self.speed}\""
   ]
  },
  {
   "cell_type": "code",
   "execution_count": 17,
   "id": "71b40c66",
   "metadata": {},
   "outputs": [
    {
     "name": "stdout",
     "output_type": "stream",
     "text": [
      "color Red, speed 50\n",
      "color Black, speed 100\n"
     ]
    }
   ],
   "source": [
    "myCar1 = Car(\"Red\",50)\n",
    "myCar2 = Car(\"Black\",100)\n",
    "\n",
    "print(myCar1)\n",
    "print(myCar2)"
   ]
  },
  {
   "cell_type": "code",
   "execution_count": null,
   "id": "25224b59",
   "metadata": {},
   "outputs": [],
   "source": [
    "class UserInfo:\n",
    "    # 생성자 오버로딩은 없음\n",
    "    # 초기값 이용해서 오버로딩 처리\n",
    "    def __init__(self,name,age, email=None):\n",
    "        self.name = name\n",
    "        self.age = age\n",
    "        self.email = email\n",
    "\n",
    "    def user_info(self):\n",
    "        print(\"메소드 실행\")\n",
    "\n",
    "    def __str__(self):\n",
    "        return f\"name : {self.name}, age : {self.age}, email : {self.email}\""
   ]
  },
  {
   "cell_type": "code",
   "execution_count": 22,
   "id": "b6911d5e",
   "metadata": {},
   "outputs": [],
   "source": [
    "info1 = UserInfo(\"홍길동\",\"30\")\n",
    "info2 = UserInfo(\"성춘향\",\"20\",\"test@naver.com\")"
   ]
  },
  {
   "cell_type": "code",
   "execution_count": null,
   "id": "c1a06f8e",
   "metadata": {},
   "outputs": [],
   "source": [
    "# 클래스 변수, 클래스 메소드 : static(자바)\n",
    "# 인스턴스 변수, 인스턴스 메소드 : self\n",
    "\n",
    "\n",
    "class UserInfo:\n",
    "\n",
    "    userCnt = 0\n",
    "\n",
    "    # 생성자 오버로딩은 없음\n",
    "    # 초기값 이용해서 오버로딩 처리\n",
    "    def __init__(self,name,age, email=None):\n",
    "        self.name = name\n",
    "        self.age = age\n",
    "        self.email = email\n",
    "\n",
    "        UserInfo.userCnt += 1\n",
    "\n",
    "    def user_info(self):\n",
    "        print(\"메소드 실행\")\n",
    "\n",
    "    def __str__(self):\n",
    "        return f\"name : {self.name}, age : {self.age}, email : {self.email}\"\n",
    "    \n",
    "    def __del__(self):  # del \n",
    "        UserInfo.userCnt -= 1"
   ]
  },
  {
   "cell_type": "code",
   "execution_count": 26,
   "id": "25d955f1",
   "metadata": {},
   "outputs": [
    {
     "name": "stdout",
     "output_type": "stream",
     "text": [
      "생성된 user 수 2\n"
     ]
    }
   ],
   "source": [
    "info1 = UserInfo(\"홍길동\",\"30\")\n",
    "info2 = UserInfo(\"성춘향\",\"20\",\"test@naver.com\")\n",
    "\n",
    "print(f\"생성된 user 수 {UserInfo.userCnt}\")"
   ]
  },
  {
   "cell_type": "code",
   "execution_count": 27,
   "id": "1496fdd2",
   "metadata": {},
   "outputs": [
    {
     "name": "stdout",
     "output_type": "stream",
     "text": [
      "생성된 user 수 1\n"
     ]
    }
   ],
   "source": [
    "del info1\n",
    "print(f\"생성된 user 수 {UserInfo.userCnt}\")"
   ]
  },
  {
   "cell_type": "code",
   "execution_count": 31,
   "id": "078d1b98",
   "metadata": {},
   "outputs": [],
   "source": [
    "class SelfTest():\n",
    "    # 클래스메소드 : self 없는 경우\n",
    "    @classmethod\n",
    "    def function1(cls):\n",
    "        print(\"function1\")\n",
    "\n",
    "    def function2(self):\n",
    "        print(\"function2\")"
   ]
  },
  {
   "cell_type": "code",
   "execution_count": 32,
   "id": "12a80d9b",
   "metadata": {},
   "outputs": [
    {
     "name": "stdout",
     "output_type": "stream",
     "text": [
      "function1\n",
      "function2\n"
     ]
    }
   ],
   "source": [
    "test1 = SelfTest()\n",
    "# test1.function1()\n",
    "SelfTest.function1()\n",
    "test1.function2()"
   ]
  },
  {
   "cell_type": "code",
   "execution_count": 33,
   "id": "20c8e2a8",
   "metadata": {},
   "outputs": [],
   "source": [
    "# Calc \n",
    "# 4 개의 method\n",
    "# 생성자(num1,num2), 4개(사칙연산)\n",
    "\n",
    "class Calc:\n",
    "    def __init__(self,num1=0,num2=0):\n",
    "        self.num1 = num1\n",
    "        self.num2 = num2\n",
    "\n",
    "    def sum(self):\n",
    "        return self.num1 + self.num2\n",
    "    \n",
    "    def sub(self):\n",
    "       return self.num1 - self.num2\n",
    "    \n",
    "    def mul(self):\n",
    "       return self.num1 * self.num2\n",
    "    \n",
    "    def div(self):\n",
    "       return self.num1 / self.num2"
   ]
  },
  {
   "cell_type": "code",
   "execution_count": 35,
   "id": "bb6cbc86",
   "metadata": {},
   "outputs": [
    {
     "name": "stdout",
     "output_type": "stream",
     "text": [
      "10 + 5 = 15\n",
      "10 - 5 = 5\n",
      "10 * 5 = 50\n",
      "10 / 5 = 2.0\n"
     ]
    }
   ],
   "source": [
    "a,b = 10, 5\n",
    "calc = Calc(a,b)\n",
    "print(f\"{a} + {b} = {calc.sum()}\")\n",
    "print(f\"{a} - {b} = {calc.sub()}\")\n",
    "print(f\"{a} * {b} = {calc.mul()}\")\n",
    "print(f\"{a} / {b} = {calc.div()}\")"
   ]
  },
  {
   "cell_type": "code",
   "execution_count": 36,
   "id": "8dc1426e",
   "metadata": {},
   "outputs": [],
   "source": [
    "# Account\n",
    "# 멤버변수 : ano, name, balance\n",
    "# 메소드 : withdraw(-), deposit(+)\n",
    "# __str__ : name, balance\n",
    "\n",
    "\n",
    "class Account:\n",
    "    def __init__(self,ano,name,balance):\n",
    "        self.ano = ano\n",
    "        self.name = name\n",
    "        self.balance = balance\n",
    "\n",
    "    def withdraw(self, amount):\n",
    "        self.balance -= amount\n",
    "        return self.balance\n",
    "    \n",
    "    def deposit(self, amount):\n",
    "        self.balance += amount\n",
    "        return self.balance\n",
    "    \n",
    "    def __str__(self):\n",
    "        return f\"{self.name} : {self.balance}\""
   ]
  },
  {
   "cell_type": "code",
   "execution_count": 37,
   "id": "98a36351",
   "metadata": {},
   "outputs": [
    {
     "name": "stdout",
     "output_type": "stream",
     "text": [
      "홍길동 : 300000\n",
      "350000\n",
      "200000\n"
     ]
    }
   ],
   "source": [
    "user1 = Account(\"111-22-333\",\"홍길동\",300000)\n",
    "print(user1)\n",
    "# 예금\n",
    "print(user1.deposit(50000))\n",
    "# 출금\n",
    "print(user1.withdraw(150000))"
   ]
  },
  {
   "cell_type": "code",
   "execution_count": null,
   "id": "7bf09959",
   "metadata": {},
   "outputs": [],
   "source": [
    "# 상속\n",
    "\n",
    "class Parent:\n",
    "    def __init__(self):\n",
    "        self.value = \"테스트\"\n",
    "        print(\"parent 클래스 __init__실행\")\n",
    "\n",
    "    def test(self):\n",
    "        print(\"parent 클래스 test 실행\")\n",
    "\n",
    "class Child(Parent):\n",
    "    def __init__(self):\n",
    "        super().__init__()\n",
    "        print(\"Child 클래스의 __init__실행\")"
   ]
  },
  {
   "cell_type": "code",
   "execution_count": 42,
   "id": "04a161a6",
   "metadata": {},
   "outputs": [
    {
     "name": "stdout",
     "output_type": "stream",
     "text": [
      "parent 클래스 __init__실행\n",
      "Child 클래스의 __init__실행\n",
      "parent 클래스 test 실행\n",
      "테스트\n"
     ]
    }
   ],
   "source": [
    "child = Child()\n",
    "child.test()\n",
    "print(child.value)"
   ]
  },
  {
   "cell_type": "code",
   "execution_count": 43,
   "id": "73c5b3e3",
   "metadata": {},
   "outputs": [],
   "source": [
    "class AudioVisual:\n",
    "    def __init__(self,power, volume):\n",
    "        self.power = power\n",
    "        self.volume = volume\n",
    "\n",
    "    def switch(self,on_off):\n",
    "        self.power = on_off\n",
    "\n",
    "    def set_volume(self,vol):\n",
    "        self.volume = vol\n",
    "\n",
    "\n",
    "class Audio(AudioVisual):\n",
    "    def __init__(self, power, volume):\n",
    "        super().__init__(power, volume)\n",
    "\n",
    "    def tune(self):\n",
    "        str = \"La la la....\" if self.power else \"turn it on\"\n",
    "        print(str)\n",
    "\n",
    "\n",
    "class Tv(AudioVisual):\n",
    "    def __init__(self, power, volume, size):\n",
    "        super().__init__(power, volume)\n",
    "        self.size = size\n",
    "\n",
    "    def watch(self):\n",
    "        str = \"have fun!!!\" if self.power else \"switch on\"\n",
    "        print(str)\n"
   ]
  },
  {
   "cell_type": "code",
   "execution_count": 44,
   "id": "0bc8f5f1",
   "metadata": {},
   "outputs": [
    {
     "name": "stdout",
     "output_type": "stream",
     "text": [
      "have fun!!!\n"
     ]
    }
   ],
   "source": [
    "tv = Tv(False, 12, 52)\n",
    "tv.switch(True)\n",
    "tv.watch()"
   ]
  },
  {
   "cell_type": "code",
   "execution_count": 45,
   "id": "1244c508",
   "metadata": {},
   "outputs": [],
   "source": [
    "# 오버라이딩\n",
    "\n",
    "class Parent:\n",
    "    def __init__(self):\n",
    "        self.value = \"테스트\"\n",
    "        print(\"parent 클래스 __init__실행\")\n",
    "\n",
    "    def func1(self):\n",
    "        print(\"parent 클래스 func1 실행\")\n",
    "    \n",
    "    def func2(self):\n",
    "        print(\"parent 클래스 func2 실행\")\n",
    "\n",
    "class Child(Parent):\n",
    "    def __init__(self):\n",
    "        super().__init__()\n",
    "        print(\"Child 클래스의 __init__실행\")\n",
    "\n",
    "    def func1(self):\n",
    "        print(\"Child 클래스 func1 실행\")\n",
    "    \n",
    "    def func3(self):\n",
    "        print(\"Child 클래스 func3 실행\")"
   ]
  },
  {
   "cell_type": "code",
   "execution_count": 46,
   "id": "92e4600f",
   "metadata": {},
   "outputs": [
    {
     "name": "stdout",
     "output_type": "stream",
     "text": [
      "parent 클래스 __init__실행\n",
      "parent 클래스 __init__실행\n",
      "Child 클래스의 __init__실행\n",
      "parent 클래스 func1 실행\n",
      "Child 클래스 func1 실행\n"
     ]
    }
   ],
   "source": [
    "parent = Parent()\n",
    "child = Child()\n",
    "\n",
    "parent.func1()\n",
    "child.func1()"
   ]
  },
  {
   "cell_type": "code",
   "execution_count": 50,
   "id": "e6d1b0f4",
   "metadata": {},
   "outputs": [],
   "source": [
    "# private : __\n",
    "import math\n",
    "\n",
    "\n",
    "class Circle:\n",
    "    def __init__(self, radius):\n",
    "        self.__radius = radius\n",
    "\n",
    "    # getter/setter\n",
    "    def get_circumference(self):\n",
    "        return 2 * math.pi * self.__radius\n",
    "    \n",
    "    def get_circle_area(self):\n",
    "        return math.pi * (self.__radius ** 2)\n",
    "    \n",
    "    def get_radius(self):\n",
    "        return self.__radius    \n",
    "\n",
    "    def set_radius(self,radius):\n",
    "        self.__radius = radius\n"
   ]
  },
  {
   "cell_type": "code",
   "execution_count": 51,
   "id": "5fbef58d",
   "metadata": {},
   "outputs": [
    {
     "name": "stdout",
     "output_type": "stream",
     "text": [
      "원 둘레 62.83185307179586\n",
      "원 면적 314.1592653589793\n",
      "10\n"
     ]
    }
   ],
   "source": [
    "circle = Circle(10)\n",
    "print(f\"원 둘레 {circle.get_circumference()}\")\n",
    "print(f\"원 면적 {circle.get_circle_area()}\")\n",
    "# print(circle.__radius)\n",
    "print(circle.get_radius())"
   ]
  },
  {
   "cell_type": "code",
   "execution_count": null,
   "id": "4721e4b0",
   "metadata": {},
   "outputs": [],
   "source": []
  }
 ],
 "metadata": {
  "kernelspec": {
   "display_name": "Python 3",
   "language": "python",
   "name": "python3"
  },
  "language_info": {
   "codemirror_mode": {
    "name": "ipython",
    "version": 3
   },
   "file_extension": ".py",
   "mimetype": "text/x-python",
   "name": "python",
   "nbconvert_exporter": "python",
   "pygments_lexer": "ipython3",
   "version": "3.13.3"
  }
 },
 "nbformat": 4,
 "nbformat_minor": 5
}
