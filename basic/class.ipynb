{
 "cells": [
  {
   "cell_type": "code",
   "execution_count": 1,
   "id": "a9c5d19e",
   "metadata": {},
   "outputs": [],
   "source": [
    "class UserInfo:\n",
    "    def user_info(self):\n",
    "        print(\"메소드 실행\")"
   ]
  },
  {
   "cell_type": "code",
   "execution_count": 2,
   "id": "16112e89",
   "metadata": {},
   "outputs": [
    {
     "name": "stdout",
     "output_type": "stream",
     "text": [
      "메소드 실행\n"
     ]
    }
   ],
   "source": [
    "user1 = UserInfo()\n",
    "user1.user_info()"
   ]
  },
  {
   "cell_type": "code",
   "execution_count": 3,
   "id": "1e760e1a",
   "metadata": {},
   "outputs": [],
   "source": [
    "class Car:\n",
    "    color = \"\"\n",
    "    speed = 0 \n",
    "\n",
    "    def upSpeed(self,value):\n",
    "        self.speed += value\n",
    "\n",
    "    def downSpeed(self,value):\n",
    "        self.speed -= value"
   ]
  },
  {
   "cell_type": "code",
   "execution_count": 4,
   "id": "2eee3d79",
   "metadata": {},
   "outputs": [
    {
     "name": "stdout",
     "output_type": "stream",
     "text": [
      "myCar1 <__main__.Car object at 0x000001671B108440>\n",
      "myCar2 <__main__.Car object at 0x000001671AEEBED0>\n"
     ]
    }
   ],
   "source": [
    "myCar1 = Car()\n",
    "myCar1.speed = 10\n",
    "myCar1.color = \"Red\"\n",
    "print(f\"myCar1 {myCar1}\")\n",
    "\n",
    "myCar2 = Car()\n",
    "myCar2.speed = 50\n",
    "myCar2.color = \"Blue\"\n",
    "print(f\"myCar2 {myCar2}\")\n"
   ]
  }
 ],
 "metadata": {
  "kernelspec": {
   "display_name": "Python 3",
   "language": "python",
   "name": "python3"
  },
  "language_info": {
   "codemirror_mode": {
    "name": "ipython",
    "version": 3
   },
   "file_extension": ".py",
   "mimetype": "text/x-python",
   "name": "python",
   "nbconvert_exporter": "python",
   "pygments_lexer": "ipython3",
   "version": "3.13.3"
  }
 },
 "nbformat": 4,
 "nbformat_minor": 5
}
